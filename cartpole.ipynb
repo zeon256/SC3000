{
 "cells": [
  {
   "cell_type": "markdown",
   "metadata": {
    "id": "ZauhjPSfX7pI"
   },
   "source": [
    "# SC3000 Artificial Intelligence, Lab Group Z59, AY22/23\n",
    "\n",
    "Team members\n",
    "- Budi Syahiddin (U2120429A)\n",
    "  - (development of q-learning, testing hyperparameters, formatting, testing)\n",
    "- Faiz Rosli (U2121876J)\n",
    "  - (development of q-learning, testing hyperparameters, formatting, testing)\n",
    "- Chin Tao (U2121927G)\n",
    "  - (development of q-learning, testing hyperparameters, formatting, testing)"
   ]
  },
  {
   "cell_type": "markdown",
   "metadata": {
    "id": "UBiYOoesYMvr"
   },
   "source": [
    "## Installing dependencies:"
   ]
  },
  {
   "cell_type": "code",
   "execution_count": 21,
   "metadata": {
    "colab": {
     "base_uri": "https://localhost:8080/"
    },
    "id": "PbgnVwZmX5uW",
    "outputId": "7dcfe5ac-b419-4d5d-8305-1ba3c1240df3"
   },
   "outputs": [
    {
     "name": "stderr",
     "output_type": "stream",
     "text": [
      "The system cannot find the path specified.\n",
      "The system cannot find the path specified.\n",
      "The system cannot find the path specified.\n",
      "The system cannot find the path specified.\n"
     ]
    },
    {
     "name": "stdout",
     "output_type": "stream",
     "text": [
      "Defaulting to user installation because normal site-packages is not writeable\n",
      "Requirement already satisfied: gym[classic_control] in c:\\programdata\\anaconda3\\lib\\site-packages (0.25.2)\n",
      "Requirement already satisfied: numpy>=1.18.0 in c:\\programdata\\anaconda3\\lib\\site-packages (from gym[classic_control]) (1.23.5)\n",
      "Requirement already satisfied: cloudpickle>=1.2.0 in c:\\programdata\\anaconda3\\lib\\site-packages (from gym[classic_control]) (2.0.0)\n",
      "Requirement already satisfied: gym-notices>=0.0.4 in c:\\programdata\\anaconda3\\lib\\site-packages (from gym[classic_control]) (0.0.8)\n",
      "Requirement already satisfied: pygame==2.1.0 in c:\\programdata\\anaconda3\\lib\\site-packages (from gym[classic_control]) (2.1.0)\n"
     ]
    },
    {
     "name": "stderr",
     "output_type": "stream",
     "text": [
      "The system cannot find the path specified.\n",
      "The system cannot find the path specified.\n"
     ]
    },
    {
     "name": "stdout",
     "output_type": "stream",
     "text": [
      "Defaulting to user installation because normal site-packages is not writeable\n",
      "Requirement already satisfied: setuptools in c:\\programdata\\anaconda3\\lib\\site-packages (65.6.3)\n",
      "Collecting setuptools\n",
      "  Using cached setuptools-67.6.0-py3-none-any.whl (1.1 MB)\n",
      "Installing collected packages: setuptools\n",
      "ERROR: pip's dependency resolver does not currently take into account all the packages that are installed. This behaviour is the source of the following dependency conflicts.\n",
      "conda-repo-cli 1.0.27 requires clyent==1.2.1, but you have clyent 1.2.2 which is incompatible.\n",
      "conda-repo-cli 1.0.27 requires nbformat==5.4.0, but you have nbformat 5.7.0 which is incompatible.\n",
      "Successfully installed setuptools-67.6.0\n"
     ]
    },
    {
     "name": "stderr",
     "output_type": "stream",
     "text": [
      "The system cannot find the path specified.\n"
     ]
    }
   ],
   "source": [
    "!pip install numpy\n",
    "!pip install gym==0.25.2\n",
    "!pip install gym[classic_control]"
   ]
  },
  {
   "cell_type": "markdown",
   "metadata": {
    "id": "RwKbYeTgbaTA"
   },
   "source": [
    "## Importing dependencies and define helper functions"
   ]
  },
  {
   "cell_type": "code",
   "execution_count": 1,
   "metadata": {
    "id": "j6KpgCLGYWmj"
   },
   "outputs": [],
   "source": [
    "import gym\n",
    "from gym import logger as gymlogger\n",
    "from gym.wrappers import RecordVideo\n",
    "gymlogger.set_level(40) #error only\n",
    "import numpy as np\n",
    "import random\n",
    "import matplotlib\n",
    "import matplotlib.pyplot as plt\n",
    "%matplotlib inline\n",
    "import math\n",
    "import glob\n",
    "import io\n",
    "import base64\n",
    "from IPython.display import HTML\n",
    "from IPython import display as ipythondisplay\n",
    "\n",
    "def show_video():\n",
    "  mp4list = glob.glob('video/*.mp4')\n",
    "  if len(mp4list) > 0:\n",
    "    mp4 = mp4list[0]\n",
    "    video = io.open(mp4, 'r+b').read()\n",
    "    encoded = base64.b64encode(video)\n",
    "    ipythondisplay.display(HTML(data='''<video alt=\"test\" autoplay \n",
    "                loop controls style=\"height: 400px;\">\n",
    "                <source src=\"data:video/mp4;base64,{0}\" type=\"video/mp4\" />\n",
    "             </video>'''.format(encoded.decode('ascii'))))\n",
    "  else: \n",
    "    print(\"Could not find video\")"
   ]
  },
  {
   "cell_type": "markdown",
   "metadata": {
    "id": "ehbqP9CXbmo7"
   },
   "source": [
    "## Tutorial: Loading CartPole environment"
   ]
  },
  {
   "cell_type": "code",
   "execution_count": 2,
   "metadata": {
    "id": "Go12dH4qbwBy"
   },
   "outputs": [],
   "source": [
    "env = gym.make(\"CartPole-v1\")"
   ]
  },
  {
   "cell_type": "markdown",
   "metadata": {
    "id": "9XZ9g3xrcAXE"
   },
   "source": [
    "We can check the action and observation space of this environment. Discrete(2) means that there are two valid discrete actions: 0 & 1."
   ]
  },
  {
   "cell_type": "code",
   "execution_count": 3,
   "metadata": {
    "colab": {
     "base_uri": "https://localhost:8080/"
    },
    "id": "ytxvVmLdcRyw",
    "outputId": "1ce07099-492b-4126-a792-8ff12d79c2db"
   },
   "outputs": [
    {
     "name": "stdout",
     "output_type": "stream",
     "text": [
      "Discrete(2)\n"
     ]
    }
   ],
   "source": [
    "print(env.action_space)"
   ]
  },
  {
   "cell_type": "markdown",
   "metadata": {
    "id": "pVXGWi_Ncfg-"
   },
   "source": [
    "The observation space is given below. The first two arrays define the min and max values of the 4 observed values, corresponding to cart position, velocity and pole angle, angular velocity."
   ]
  },
  {
   "cell_type": "code",
   "execution_count": 4,
   "metadata": {
    "colab": {
     "base_uri": "https://localhost:8080/"
    },
    "id": "DyqHr9I5cdkX",
    "outputId": "369a0733-e7c0-4bca-b427-5e1c603ff074"
   },
   "outputs": [
    {
     "name": "stdout",
     "output_type": "stream",
     "text": [
      "Box([-4.8000002e+00 -3.4028235e+38 -4.1887903e-01 -3.4028235e+38], [4.8000002e+00 3.4028235e+38 4.1887903e-01 3.4028235e+38], (4,), float32)\n"
     ]
    }
   ],
   "source": [
    "print(env.observation_space)"
   ]
  },
  {
   "cell_type": "markdown",
   "metadata": {
    "id": "HFOdaU2Gdyg0"
   },
   "source": [
    "We call each round of the pole-balancing game an \"episode\". At the start of each episode, make sure the environment is reset, which chooses a random initial state, e.g., pole slightly tilted to the right. This initialization can be achieved by the code below, which returns the observation of the initial state."
   ]
  },
  {
   "cell_type": "code",
   "execution_count": 5,
   "metadata": {
    "colab": {
     "base_uri": "https://localhost:8080/"
    },
    "id": "VMr6qAqxdOsm",
    "outputId": "0e35ee3b-15d0-4e1f-926c-194a5a43f830"
   },
   "outputs": [
    {
     "name": "stdout",
     "output_type": "stream",
     "text": [
      "Initial observations: [ 0.04817042 -0.04626717  0.03937595 -0.01026086]\n"
     ]
    }
   ],
   "source": [
    "observation = env.reset()\n",
    "print(\"Initial observations:\", observation)"
   ]
  },
  {
   "cell_type": "markdown",
   "metadata": {
    "id": "qnG2QdfbeZrI"
   },
   "source": [
    "For the CartPole environment, there are two possible actions: 0 for pushing to the left and 1 for pushing to the right. For example, we can push the cart to the left using code below, which returns the new observation, the current reward, an indicator of whether the game ends, and some additional information (not used in this project). For CartPole, the game ends when the pole is significantly tilted or you manage to balance the pole for 500 steps. You get exactly 1 reward for each step before the game ends (i.e., max cumulative reward is 500)."
   ]
  },
  {
   "cell_type": "code",
   "execution_count": 6,
   "metadata": {
    "colab": {
     "base_uri": "https://localhost:8080/"
    },
    "id": "MmfMDvyYdWGk",
    "outputId": "fa12ffd8-6707-4cbc-fb86-aef8484d5d17"
   },
   "outputs": [
    {
     "name": "stdout",
     "output_type": "stream",
     "text": [
      "New observations after choosing action 0: [ 0.04724508 -0.24193105  0.03917073  0.29458103]\n",
      "Reward for this step: 1.0\n",
      "Is this round done? False\n"
     ]
    }
   ],
   "source": [
    "observation, reward, done, info = env.step(0)\n",
    "print(\"New observations after choosing action 0:\", observation)\n",
    "print(\"Reward for this step:\", reward)\n",
    "print(\"Is this round done?\", done)"
   ]
  },
  {
   "cell_type": "markdown",
   "metadata": {
    "id": "tj0zCh59fhBb"
   },
   "source": [
    "Now we can play a full round of the game using a naive strategy (always choosing action 0), and show the cumulative reward in the round. Note that reward returned by env.step(*) corresponds to the reward for current step. So we have to accumulate the reward for each step. Clearly, the naive strategy performs poorly by surviving only a dozen of steps."
   ]
  },
  {
   "cell_type": "code",
   "execution_count": 7,
   "metadata": {
    "colab": {
     "base_uri": "https://localhost:8080/"
    },
    "id": "AVucQVRwf6Jm",
    "outputId": "72f0b7d5-7cb5-4e37-da3d-997c1bfb4641"
   },
   "outputs": [
    {
     "name": "stdout",
     "output_type": "stream",
     "text": [
      "Cumulative reward for this round: 10.0\n"
     ]
    }
   ],
   "source": [
    "observation = env.reset()\n",
    "cumulative_reward = 0\n",
    "done = False\n",
    "while not done:\n",
    "    observation, reward, done, info = env.step(0)\n",
    "    cumulative_reward += reward\n",
    "print(\"Cumulative reward for this round:\", cumulative_reward)"
   ]
  },
  {
   "cell_type": "markdown",
   "metadata": {
    "id": "2oIzK9SzhlWN"
   },
   "source": [
    "## Task 1: Development of an RL agent"
   ]
  },
  {
   "cell_type": "markdown",
   "metadata": {
    "id": "Cc6_e5c_huiq"
   },
   "source": [
    "## Chosen Solution\n",
    "Q-Learning. Why? CartPole is a simple problem, does not have many states and there are only 2 possible actions! \n",
    "Also, Q-Learning is very easy to implement from first scratch and does not require a strong computer to train the agent.\n",
    "Computing Q-Table state-action pair can be described using the equation below\n",
    "\n",
    "$$\n",
    "Q(s, a) = Q(s, a) + \\alpha [R_{t+1} + \\gamma \\overbrace{\\max_{a \\in A(s_{t+1})}(Q(s_{t+1}, a))}^{\\text{take best future action}} - Q(s,a))]\n",
    "$$\n",
    "\n",
    "## Chosen Policy\n",
    "Epsilon Greedy. Why? Similar to the previous reason, it is simple to implement.\n",
    "\n",
    "## Discretization\n",
    "Q-Learning works well for environment with discrete states and actions.\n",
    "However, CartPole states are continuous! In order to deal with that,\n",
    "we will need to make the states discrete. The idea is to split the range\n",
    "of the states into \"bins\", i.e. intervals. For example, if range is $[1, 10]$, and we let $N = 10$, then each interval is $1$.\n",
    "\n",
    "## Decaying of $\\alpha$ and Exploration Rate\n",
    "Initially, we tested static $\\alpha$ and exploration rate. While it worked after many episodes, the agent took too long to get good. For our decaying function, we chose the following implementation below, with $\\text{let}\\;y = \\text{exploit episode} = 50$ and $\\text{let}\\;z = \\text{episode no}$\n",
    "\n",
    "$$\n",
    "\\text{Rate} = \\max(0.01, \\min(1, 1.0 - \\log(\\text{z} + 1 / y)))\n",
    "$$\n",
    "\n",
    "The idea we have is, at the beginning, we want the agent to explore more so that it can explore random state spaces. Then as the number of episode increases, we slowly start to exploit, because by then, the table will already be filled with \"good\" states and we want the agent to exploit those states"
   ]
  },
  {
   "cell_type": "markdown",
   "metadata": {},
   "source": [
    "**Make bins, i.e make intervals between lower and upper then divide them into $N$**"
   ]
  },
  {
   "cell_type": "code",
   "execution_count": 8,
   "metadata": {
    "id": "Hk-M4QEfh6l5"
   },
   "outputs": [],
   "source": [
    "def make_discrete(lower, upper, no_bins):\n",
    "    return np.linspace(lower, upper, no_bins)\n",
    "\n",
    "def generate_discrete_bins(no_bins=10, dims=4, no_actions=2):\n",
    "    shape = [no_bins] * dims\n",
    "    shape.append(no_actions)\n",
    "    return np.zeros(shape=shape)"
   ]
  },
  {
   "cell_type": "code",
   "execution_count": 9,
   "metadata": {},
   "outputs": [
    {
     "name": "stdout",
     "output_type": "stream",
     "text": [
      "(10, 10, 10, 10, 2)\n"
     ]
    }
   ],
   "source": [
    "print(generate_discrete_bins().shape)"
   ]
  },
  {
   "cell_type": "markdown",
   "metadata": {},
   "source": [
    "**Generate Q-Table filled with 0**"
   ]
  },
  {
   "cell_type": "code",
   "execution_count": 10,
   "metadata": {},
   "outputs": [],
   "source": [
    "def generate_q_table(no_bins = 10):\n",
    "    no_dbins = no_bins\n",
    "    bins = np.array([\n",
    "        make_discrete(-4.8, 4.8, no_dbins),\n",
    "        make_discrete(-2.0, 2.0, no_dbins),  # original problem: -inf to inf\n",
    "        make_discrete(-0.3, 0.3, no_dbins),  # -0.3 to 0.3 is good\n",
    "        make_discrete(-2.0, 2.0, no_dbins),  # original problem: -inf to inf\n",
    "    ])\n",
    "\n",
    "    q = generate_discrete_bins(no_bins=no_dbins)\n",
    "\n",
    "    return bins, q"
   ]
  },
  {
   "cell_type": "markdown",
   "metadata": {},
   "source": [
    "**Utility function to map** $\\mathbb R \\mapsto \\mathbb Z^+_0$"
   ]
  },
  {
   "cell_type": "code",
   "execution_count": 11,
   "metadata": {},
   "outputs": [],
   "source": [
    "def round_toNearestBin(observation, bins):\n",
    "    pos, vel, angle, angular_vel = observation\n",
    "    pos_bin = np.digitize(pos, bins[0])\n",
    "    pos_vel = np.digitize(vel, bins[1])\n",
    "    pos_angle = np.digitize(angle, bins[2])\n",
    "    pos_angular_vel = np.digitize(angular_vel, bins[3])\n",
    "\n",
    "    # its 1 based, need -1\n",
    "    return pos_bin - 1, pos_vel - 1, pos_angle - 1, pos_angular_vel - 1"
   ]
  },
  {
   "cell_type": "markdown",
   "metadata": {},
   "source": [
    "**Decaying variables**"
   ]
  },
  {
   "cell_type": "code",
   "execution_count": 12,
   "metadata": {},
   "outputs": [],
   "source": [
    "def learning_rate(episode_no: int, min_rate = 0.01) -> float:\n",
    "    # need add 1 cos episode is 0 based\n",
    "    return max(min_rate, min(1.0, 1.0 - math.log10((episode_no + 1) / 50)))\n",
    "\n",
    "def discount_factor():\n",
    "    return 0.995\n",
    "\n",
    "def exploration_rate(episode_no: int, min_rate = 0.01) -> float:\n",
    "    # need add 1 cos episode is 0 based\n",
    "    return max(min_rate, min(1, 1.0 - math.log10((episode_no + 1) / 50)))"
   ]
  },
  {
   "cell_type": "markdown",
   "metadata": {},
   "source": [
    "**Epsilon Greedy Policy**"
   ]
  },
  {
   "cell_type": "code",
   "execution_count": 13,
   "metadata": {},
   "outputs": [],
   "source": [
    "def policy(q, observation, episode_no):\n",
    "    action = np.argmax(q[observation])\n",
    "\n",
    "    if np.random.random() < exploration_rate(episode_no):\n",
    "        action = random.randint(0, 1)\n",
    "\n",
    "    return action"
   ]
  },
  {
   "cell_type": "markdown",
   "metadata": {},
   "source": [
    "**Function to train Q-table**\n",
    "\n",
    "This function contains a few debugging prints. The debugging only runs every 1000 episodes which keeps track the mean of the previous 1000 episodes, the mean and number of episodes that have 500 score within that particular 1000 interval. You also have a choice to terminate when a certain percentage score is reached even if your episode is higher, "
   ]
  },
  {
   "cell_type": "code",
   "execution_count": 14,
   "metadata": {},
   "outputs": [],
   "source": [
    "def q_learning_trainer(episodes = 5000,\n",
    "                       no_bins = 10,\n",
    "                       run_limit=120000,\n",
    "                       terminate_on_percentage_score = (False, 0.5)):\n",
    "    print(f\"init trainer with, episode = {episodes}, no_bins = {no_bins}\")\n",
    "    \n",
    "    bins, qt = generate_q_table(no_bins=no_bins)\n",
    "\n",
    "    print(f\"Table shape: {qt.shape}\")\n",
    "\n",
    "    episode = 0\n",
    "    avg = 0\n",
    "    fullscore_episodes_in_interval = 0\n",
    "    interval_avg = 0\n",
    "\n",
    "    while episode < episodes and episode < run_limit:\n",
    "        observation_discrete = round_toNearestBin(env.reset(), bins)\n",
    "        done = False\n",
    "        reward_episode = 0\n",
    "\n",
    "        # keep stepping t+1 into the future until done\n",
    "        # which happens when it fails or when it completes\n",
    "        while not done:                \n",
    "            action = policy(qt, observation_discrete, episode_no=episode)\n",
    "            new_obs, new_reward, done, _ = env.step(action)\n",
    "            future_obs = round_toNearestBin(new_obs, bins)\n",
    "\n",
    "            max_future = np.max(qt[future_obs])\n",
    "            q_current = qt[observation_discrete][action]\n",
    "\n",
    "            q_New = q_current + learning_rate(episode_no=episode) * \\\n",
    "                ((new_reward + discount_factor() * max_future) - q_current)\n",
    "\n",
    "            # update q\n",
    "            qt[observation_discrete][action] = q_New\n",
    "\n",
    "            # update previous obs to new one \n",
    "            observation_discrete = future_obs\n",
    "\n",
    "            # track episode rewards\n",
    "            reward_episode += new_reward\n",
    "            \n",
    "        avg = ((avg * (episode)) + reward_episode) / (episode + 1)\n",
    "\n",
    "        interval_avg += reward_episode\n",
    "\n",
    "        if reward_episode == 500.0:\n",
    "            fullscore_episodes_in_interval += 1\n",
    "        \n",
    "        if terminate_on_percentage_score[0] and fullscore_episodes_in_interval / 1000 >= terminate_on_percentage_score[1]:\n",
    "            print(\"Found 500/10000 full scores. Terminating training!\")\n",
    "            break\n",
    "\n",
    "        # print logs\n",
    "        # reset interval avg and fullscore in interval\n",
    "        if episode % 1000 == 0:\n",
    "            if episode != 0:\n",
    "                interval_avg /= 1000\n",
    "            print(f\"Evaluating episode: {episode}, episode_reward: {reward_episode}, avg_so_far: {avg}, interval_avg: {interval_avg}, explore_r: {exploration_rate(episode)}, 500_in_interval: {fullscore_episodes_in_interval}\")\n",
    "            fullscore_episodes_in_interval = 0\n",
    "            interval_avg = 0\n",
    "        \n",
    "        episode += 1\n",
    "  \n",
    "    return qt, bins"
   ]
  },
  {
   "cell_type": "markdown",
   "metadata": {},
   "source": [
    "**Q-learning Agent**"
   ]
  },
  {
   "cell_type": "code",
   "execution_count": 15,
   "metadata": {},
   "outputs": [],
   "source": [
    "def q_learning_agent(qt, obs, bins):\n",
    "    return np.argmax(qt[round_toNearestBin(obs, bins)])"
   ]
  },
  {
   "cell_type": "markdown",
   "metadata": {
    "id": "RAi7KKwNiegR"
   },
   "source": [
    "For Task 1, we can show the observation and chosen action below:"
   ]
  },
  {
   "cell_type": "code",
   "execution_count": 16,
   "metadata": {
    "colab": {
     "base_uri": "https://localhost:8080/"
    },
    "id": "ae2ia-vUiNKJ",
    "outputId": "22c614ca-5ba0-43d3-d27a-d79073b5d04e"
   },
   "outputs": [
    {
     "name": "stdout",
     "output_type": "stream",
     "text": [
      "init trainer with, episode = 5000, no_bins = 10\n",
      "Table shape: (10, 10, 10, 10, 2)\n",
      "Evaluating episode: 0, episode_reward: 15.0, avg_so_far: 15.0, interval_avg: 15.0, explore_r: 1, 500_in_interval: 0\n",
      "Evaluating episode: 1000, episode_reward: 500.0, avg_so_far: 298.4605394605396, interval_avg: 298.744, explore_r: 0.01, 500_in_interval: 452\n",
      "Evaluating episode: 2000, episode_reward: 500.0, avg_so_far: 395.4237881059473, interval_avg: 492.484, explore_r: 0.01, 500_in_interval: 890\n",
      "Evaluating episode: 3000, episode_reward: 500.0, avg_so_far: 427.60513162279256, interval_avg: 492.0, explore_r: 0.01, 500_in_interval: 891\n",
      "Evaluating episode: 4000, episode_reward: 465.0, avg_so_far: 441.472381904524, interval_avg: 483.088, explore_r: 0.01, 500_in_interval: 856\n",
      "Observation: [-0.00743946 -0.03504021  0.02686237  0.01921021]\n",
      "Chosen action: 1\n"
     ]
    }
   ],
   "source": [
    "q, bins = q_learning_trainer(episodes=5000, no_bins=10)\n",
    "\n",
    "observation = env.reset()\n",
    "action = q_learning_agent(q, observation, bins)\n",
    "print(\"Observation:\", observation)\n",
    "print(\"Chosen action:\", action)"
   ]
  },
  {
   "cell_type": "markdown",
   "metadata": {
    "id": "-XtIQ0Rti1gm"
   },
   "source": [
    "## Task 2: Demonstrate the effectiveness of the RL agent"
   ]
  },
  {
   "cell_type": "markdown",
   "metadata": {
    "id": "djBEShf0kGI4"
   },
   "source": [
    "For this task, use the agent developed in Task 1 to play the game for 100 episodes (refer to tutorial for how to play a round), record the cumulative reward for each round, and plot the reward for each round. A sample plotting code is given below. Note that you must include code to play for 100 episodes and use the code to obtain round_results for plotting. DO NOT record the round results in advance and paste the results to the notebook."
   ]
  },
  {
   "cell_type": "code",
   "execution_count": 23,
   "metadata": {},
   "outputs": [],
   "source": [
    "def run_n_trained(qt, bins, render_to_screen = False, n = 1, is_jupyter = False):\n",
    "    res = np.zeros(n)\n",
    "    for i in range(n):\n",
    "        observation = env.reset()\n",
    "        ep_reward = 0    \n",
    "        done = False\n",
    "        while not done:\n",
    "            if render_to_screen:\n",
    "                env.render()\n",
    "            #your agent goes here\n",
    "            action = q_learning_agent(qt, observation, bins) \n",
    "            observation, reward, done, _= env.step(action)\n",
    "            ep_reward += reward\n",
    "\n",
    "        res[i] = ep_reward\n",
    "\n",
    "    if render_to_screen:\n",
    "        env.close()\n",
    "        if is_jupyter:\n",
    "            show_video()\n",
    "    \n",
    "    return res"
   ]
  },
  {
   "cell_type": "code",
   "execution_count": 24,
   "metadata": {
    "colab": {
     "base_uri": "https://localhost:8080/",
     "height": 295
    },
    "id": "RZrCKywQi6CE",
    "outputId": "e304ecc5-14b6-4cf1-831b-dcb42eb46351"
   },
   "outputs": [
    {
     "data": {
      "image/png": "[encoded data removed]",
      "text/plain": [
       "<Figure size 640x480 with 1 Axes>"
      ]
     },
     "metadata": {},
     "output_type": "display_data"
    }
   ],
   "source": [
    "episode_results = run_n_trained(q, bins, n = 100)\n",
    "plt.plot(episode_results)\n",
    "plt.title('Cumulative reward for each episode')\n",
    "plt.ylabel('Cumulative reward')\n",
    "plt.xlabel('episode')\n",
    "plt.show()"
   ]
  },
  {
   "cell_type": "markdown",
   "metadata": {
    "id": "XndSYH7wlvn7"
   },
   "source": [
    "Print the average reward over the 100 episodes."
   ]
  },
  {
   "cell_type": "code",
   "execution_count": 25,
   "metadata": {
    "colab": {
     "base_uri": "https://localhost:8080/"
    },
    "id": "pOiOp9OYlo5Y",
    "outputId": "7a02ba7b-ff17-41f2-aa7f-eb50d49a83fd"
   },
   "outputs": [
    {
     "name": "stdout",
     "output_type": "stream",
     "text": [
      "Average cumulative reward: 489.63\n",
      "Is my agent good enough? True\n"
     ]
    }
   ],
   "source": [
    "print(\"Average cumulative reward:\", episode_results.mean())\n",
    "print(\"Is my agent good enough?\", episode_results.mean() > 195)"
   ]
  },
  {
   "cell_type": "markdown",
   "metadata": {
    "id": "Yg0DCT38lFA6"
   },
   "source": [
    "## Task 3: Render one episode played by the agent"
   ]
  },
  {
   "cell_type": "markdown",
   "metadata": {
    "id": "vx1awMr9lc_w"
   },
   "source": [
    "Plug your agent to the code below to obtain rendered result."
   ]
  },
  {
   "cell_type": "code",
   "execution_count": 30,
   "metadata": {
    "colab": {
     "base_uri": "https://localhost:8080/",
     "height": 421
    },
    "id": "LYyavfbIa47D",
    "outputId": "10c2f1e7-f3b9-4975-ed25-7c380966a56c"
   },
   "outputs": [
    {
     "data": {
      "text/html": [
       "<video alt=\"test\" autoplay \n",
       "                loop controls style=\"height: 400px;\">\n",
       "                <source src=\"data:video/mp4;base64,AAAAIGZ0eXBpc29tAAACAGlzb21pc28yYXZjMW1wNDEAAAAIZnJlZQAAnZttZGF0AAACoQYF//+d3EXpvebZSLeWLNgg2SPu73gyNjQgLSBjb3JlIDE2NCAtIEguMjY0L01QRUctNCBBVkMgY29kZWMgLSBDb3B5bGVmdCAyMDAzLTIwMjEgLSBodHRwOi8vd3d3LnZpZGVvbGFuLm9yZy94MjY0Lmh0bWwgLSBvcHRpb25zOiBjYWJhYz0xIHJlZj0zIGRlYmxvY2s9MTowOjAgYW5hbHlzZT0weDM6MHgxMTMgbWU9aGV4IHN1Ym1lPTcgcHN5PTEgcHN5X3JkPTEuMDA6MC4wMCBtaXhlZF9yZWY9MSBtZV9yYW5nZT0xNiBjaHJvbWFfbWU9MSB0cmVsbGlzPTEgOHg4ZGN0PTEgY3FtPTAgZGVhZHpvbmU9MjEsMTEgZmFzdF9wc2tpcD0xIGNocm9tYV9xcF9vZmZzZXQ9LTIgdGhyZWFkcz0xMiBsb29rYWhlYWRfdGhyZWFkcz0yIHNsaWNlZF90aHJlYWRzPTAgbnI9MCBkZWNpbWF0ZT0xIGludGVybGFjZWQ9MCBibHVyYXlfY29tcGF0PTAgY29uc3RyYWluZWRfaW50cmE9MCBiZnJhbWVzPTMgYl9weXJhbWlkPTIgYl9hZGFwdD0xIGJfYmlhcz0wIGRpcmVjdD0xIHdlaWdodGI9MSBvcGVuX2dvcD0wIHdlaWdodHA9MiBrZXlpbnQ9MjUwIGtleWludF9taW49MjUgc2NlbmVjdXQ9NDAgaW50cmFfcmVmcmVzaD0wIHJjX2xvb2thaGVhZD00MCByYz1jcmYgbWJ0cmVlPTEgY3JmPTIzLjAgcWNvbXA9MC42MCBxcG1pbj0wIHFwbWF4PTY5IHFwc3RlcD00IGlwX3JhdGlvPTEuNDAgYXE9MToxLjAwAIAAAAAZZ2QAH6zZQJgz5eEAAAMAAQAAAwBkDxgxlgAAAAZo6+PLIsAAAAKhBgX//53cRem95tlIt5Ys2CDZI+7veDI2NCAtIGNvcmUgMTY0IC0gSC4yNjQvTVBFRy00IEFWQyBjb2RlYyAtIENvcHlsZWZ0IDIwMDMtMjAyMSAtIGh0dHA6Ly93d3cudmlkZW9sYW4ub3JnL3gyNjQuaHRtbCAtIG9wdGlvbnM6IGNhYmFjPTEgcmVmPTMgZGVibG9jaz0xOjA6MCBhbmFseXNlPTB4MzoweDExMyBtZT1oZXggc3VibWU9NyBwc3k9MSBwc3lfcmQ9MS4wMDowLjAwIG1peGVkX3JlZj0xIG1lX3JhbmdlPTE2IGNocm9tYV9tZT0xIHRyZWxsaXM9MSA4eDhkY3Q9MSBjcW09MCBkZWFkem9uZT0yMSwxMSBmYXN0X3Bza2lwPTEgY2hyb21hX3FwX29mZnNldD0tMiB0aHJlYWRzPTEyIGxvb2thaGVhZF90aHJlYWRzPTIgc2xpY2VkX3RocmVhZHM9MCBucj0wIGRlY2ltYXRlPTEgaW50ZXJsYWNlZD0wIGJsdXJheV9jb21wYXQ9MCBjb25zdHJhaW5lZF9pbnRyYT0wIGJmcmFtZXM9MyBiX3B5cmFtaWQ9MiBiX2FkYXB0PTEgYl9iaWFzPTAgZGlyZWN0PTEgd2VpZ2h0Yj0xIG9wZW5fZ29wPTAgd2VpZ2h0cD0yIGtleWludD0yNTAga2V5aW50X21pbj0yNSBzY2VuZWN1dD00MCBpbnRyYV9yZWZyZXNoPTAgcmNfbG9va2FoZWFkPTQwIHJjPWNyZiBtYnRyZWU9MSBjcmY9MjMuMCBxY29tcD0wLjYwIHFwbWluPTAgcXBtYXg9NjkgcXBzdGVwPTQgaXBfcmF0aW89MS40MCBhcT0xOjEuMDAAgAAAAedliIQAJ//+9bF8CmrJ84oM6DIu4Zckya62IuJtAMAVHyAAAAMAADtlv8XMgJRqXwAAAwBCQA1AfQZQeYiYqxV4jO8f+8ExWMAQHkxDL5r3ikbgg1T0yqkfK+2akEVZkuhI6VXoMDjOOTROZX2dAlN9hxpXSsYHsE4wIP0aCRHUqw/h0pflV48in1ey0BrLCyvwclJ4FL9e/V6fN/lfQaaxnBEv/j765GMUcX52iBeugm1kN2JCkfRdUeeSTno1UvpSiXD7187UZMWr9HnI9j+l/FqHi0mFtH7YkCbg0ub03b+g4Cjyc4AqPJNyh/naTrx3ADIpzpT+eYdIrwJJMlgF0aRjCo3n3VuCABhqgzAdx9+PTEBDua2sPWnQBzF3YrYLiuB7yAO4QecUcc26cXpK2whZrFxy/2zCMFrcOyoedl0UrdI+vc0uFbaDur5dlDdC3Ll8QiyJ94POnE82i4Fz/pAfIDxS13+29zRtQtjHByN+GiL3wrEswDJGWiy53cIzPwz1yM5qbgZSrXU9QO+N8704miOTVO5OcetTR0g30Pi8HoHqgDUU/CsLMhZkXDx3gfbkrO6KmwszdClYxohRbDxkHzeD/5wcrlx7MQI1wyQTGgR+qnrgwZB8LD6UAAADAAADAAPrAAAAr0GaJGxCf/3xAAADAp9XiQrgbWgAR2c1WXcMjFlVAdZiIQ3myKKIXp4TMvvQ8NYIZrFMJGGmrKlEfNm3dJFsQP6SjBcn5WDASR4YMuJ7wioPKv5Zbgvd5q8fh0880n+P4hdgiWqNeD6m+5wlYy7JLZ44uGJVGRCUvkj9pbmfAGXkErFU7dZT/+aZ9QLS5dWKsOShESNXUIaOCFGtosIVhTNmO2I5rDj+Xi/g1bXb10MAAAAxQZ5CeIR/AAAWvl0LP7JiG9mVi45crrvOJWzVN9G5tFF+Ty9lh1ucaDAOwDoLU1JjcQAAABwBnmF0R/8AAAUf0MEBEonb4FYgiIJL+diEH82YAAAAMwGeY2pH/wAAI78a+maMjikVw4hAS/Kerw9lK/4+kdqlPypzv3cI+Pff6gw8gSOAtM9KgQAAAHNBmmhJqEFomUwIT//98QAAAwKhATKPwDVy0VssBw4KXQoIiBCuenFM46AxZEOahDghOw1yQtK198P3yju3zdxs3zcMv0xuzz5G5476SwW9n/TZtEHu80ZhvJmMy7Q+Hv3JRTfSppT+yMvqyw7AySuhDByHAAAAIUGehkURLCP/AAAWtVwWeC4tdvxF30IOelujYsooakF2fQAAACUBnqV0R/8AACOsPmx+X/WE1SZF/AGE3K6jIaL7qTAXirOzV02ZAAAADwGep2pH/wAABR81CgCbgAAAAGpBmqxJqEFsmUwIR//94QAABBUXgPNrbm2YHtV3wCoLU5PKZUfeAeqV6zIDEAD+FDKfgPK9Zw87R19IJUfpBpCTssU2Qq2GY28OBNAtdyiWNn6vBrbIBpcDdeqZMd10OgLBZoRCJcOMJ++wAAAARUGeykUVLCP/AAAWtViveckorxBiIcm0peJIGZn2rZloRVxDHdL0sqACWOam9yox7Zo812QUMHVk4BT8pSlRQwdLIxtVbQAAADABnul0R/8AACOpz+7JzQocMyplATNwwnS8R54ce1RHqMuyRXDdl4r2OE40US1a8GAAAAAyAZ7rakf/AAANemAhU07HCpjKfA/JcKQDujPbvvZTZmf1KNX30m22aygaCm4pJyHYyBgAAADDQZruSahBbJlMFEwr//44QAABDPr4ZATNozSVT11iqIc3IWgp8XrTwIHk2yMBsl/DAZP6i64PilOXAEpW4XCQseosg+ioQQcSdmWwzElk0PKzqAFfRdguKc/l24S+/EZxB3LZzvtVXrYVgxIJG9AoHIEtpzKkvn0mwdT6/hTp7PPgAG7nA5iadLaaiehgYTNsqlm0kwTu7kRcCD0oFFGcVK9tn4kAWe/t96691TnIy8Qr5Fvxj/uOsjuPn1/AwMuHMxkBAAAAKgGfDWpH/wAAI7IrAgOQU4pX180gSXhSWcYfbo1CECwG9RLH7QIhI5XEXQAAAJ9BmxJJ4QpSZTAhH/3hAAAEFLnsqdc+jZqhNUMgDpFTsXh963qsyniUoYtVonwygWCZl/fe6bgLQ0KiyVpa4jZyKx/TRj7gJI5dAsuz6/k/2IAj0L01lAQ2wj04h5tLuej85XMGSzo+9W/MSPopEjz/ng76cg7+hGumUgn/Tc8eoOZ8yG/oXYYiTiOiHfMXsaHEoETEzvyKBO7hi7DAmMEAAAA5QZ8wRTRMI/8AABa8Q8pQciY9GDMLEg9LCyh4Ijn3NweuN40xal+NCGZVYNN8iqCsVQQVSCDbvIWAAAAAMgGfT3RH/wAABR406RUnZIbIUALF9tLOP3Cc48dSMODmqotCujSy4+5V3FU+/tCpa0xUAAAALQGfUWpH/wAAI7HMDdj2Lfts93GUxcBkMyosvl17DycCw+oLCCHl02O8GHuiMQAAAGhBm1ZJqEFomUwIR//94QAAAwGHYwU0+yCLaFpSF8j+0HoF/0k/ilVcvdk/F9aPG3CbaT7rllYcihpbCRIpqIlA2R1inSjGpibvoorYxgXVoaPQTJTIOpL4HsgmzCdbesBBzRB8ZBAg5AAAAEFBn3RFESwj/wAAFqg2fSQBHTPMU9xrbnjvqnZ5EnbIvuFgla2cXYn81gXmk5nJdOVz5i4LHGqiZCNIhyRUMtVvQAAAACYBn5N0R/8AACOr+Gi5VYvXMjuou8D85RheUGj8KegqowOygg1HuQAAAB0Bn5VqR/8AACO/BCxc/dJXNvVJqXTOEYuc05gweAAAAINBm5pJqEFsmUwIT//98QAAAwKe9uW/q3fEYoCePepFcdm5vJZTE+IMLsnnBNB5UzuBIqcI2RY3V1rxvkEg1LI4dpW+Cu0wToIPqiaKKDV1TSfHkRwUFcNL5VctYC4kntZYWFLIOz2f1ywFecvR0nDzR0xQojF/lKxv7MwuDLScLJl1wQAAAD1Bn7hFFSwj/wAAFrNHznBLc9SAAiIFPhZq+Zn+OfzRUoA8Lt645CS94Z2UdXfjdlsPkrWVCv/VpAcr+UnxAAAAQQGf13RH/wAAI6v4WdJXV4rMw6aAejk8tO8kBO+y3N5DKE08AEzFpiy2wSIL6BaEUIAANOgTikDn/vv8UgzZG4BAAAAAKAGf2WpH/wAAI7IrBjs/Uc12GM30eRdWX8oL8cSTfW8VIqf4hsMobMEAAACrQZveSahBbJlMCE///fEAAAMCoKx2R93ACjjEglwvoTfAB5k7IkHQB3SdayDxzHpS9wcOOu6nt3MqvWwxN8hSj93esPXMmc7ltx+etA2O4xf8RwBoGDrM94bneN3Aat5caU1JYCZGQsK5WI/v4QhkQ+VnP/OFfr07evAVLAKvFh1FMlsM/H1eqVUki6eGumFsZiulwc9R4znXZOXHrFA550ANSCoMhQGqGzZgAAAARkGf/EUVLCP/AAAWu4rel+bnyCJrgUNV6Npoo7Z3+TLErCSv7tpLQdiPcOpgA2j0Y9TtA+A8AhPegvyx0AnNXq4EauZwTYEAAAAsAZ4bdEf/AAAjrDf0wFe1OzTg8EfJTuuBGf9dlYtHTERE36gTBrt+RKmae2cAAAA1AZ4dakf/AAAjvYQd/Vnebg/h/5YNycpISPqhdOaS7DAnZh1MmccPts2HWv4o8Utma2lwtuAAAABgQZoCSahBbJlMCE///fEAAAMCtcn1w9IAcK8YDUxgSf29iRModcU0YJcrqY3D8CJA2504hjbujE4uHmvIl9l5hNNdzrkXjNH53KzXS/7u2zFfxG8zcmd/Y+WP9MGnQ75BAAAAPEGeIEUVLCP/AAAWwFaVwyt5UygmGrQS4MHGZPct0wWdHlG8y6CvKTYomTYAvPITQAJ2GIQZFPJvaiuCwQAAACQBnl90R/8AACPDRwi1aEx3B9Qca+LeL2d45T4v6evoif2mX8cAAAAzAZ5Bakf/AAAjvxr8PGSPli6orLEvYIU+49FlKgF0IRlK9SiufQqJhVEZtHH+2wMZbo5JAAAArEGaRkmoQWyZTAhX//44QAABDTiMuABpFuzTO2WAj7nJpvNv/S2aHMchxsoEo5Gd/Sv3I6cfOBl+PEfpmGsxDfwGSuRVD1rj1JAZjy6R9GOS9nr2JCawKBRvKAuySnrwhlR/DTD2Jm6Hkcfcjc/2iD/UWuWPZ00d81YrDFbs6kTuOe40Yr6f1fxMwvK4re3qdanRuU9FjsdJGaSeVDu7NoxbS/YHGcTsPBSE+yAAAAA+QZ5kRRUsI/8AABa1VpftAFqYRlolUelkguSBoQnZBykM35ePY4jOXz/mLptjADdP+ebYe9AFZrrS0HP0gsEAAAAnAZ6DdEf/AAAjqc/JiWihB0V3giv2ljViZgQvOh0GhSQJzr6DkJ5JAAAAKQGehWpH/wAADYSdq2NVWg0/uvtYKTDjeDJievGOTv1nU/usXcQMvuSBAAAAVEGah0moQWyZTAhX//44QAAAJqKdiAIiu7c8mEStweNfCelplxcu4c5u6JrgZR0Lw6lsP1EjgMhEjZi8u/9CUgrbFX3z6Gvvvn7zIW8kJbjaOPlhgQAAAGtBmqtJ4QpSZTAhP/3xAAADAp8FeZATvSe8Au8613uR1KmNVFa4u5JqX6/w3V1G1HzKn8aDGfdMrR+IWve4XGwQ7k3EkMwdbho3z9OhVnRVtNcU1r3lZiM9O1Ehmeh7uv8XOFz+UwYdo8XcJAAAADFBnslFNEwj/wAAFrVYthPg95rofnWGS3sZkGDnClr8eFj7DDS1P/TYU8wZrhqQt+TgAAAAMwGe6HRH/wAAI6w6VKho2IKpWq6DVclstLKG5F8hxlE9Ox4sN4zrk85yD3OiLgXQb8dItwAAACUBnupqR/8AAA2En5fNdAOF2Z63Ei9iVHdeqlPixUmPJ9kGaCTgAAAAbkGa70moQWiZTAhP//3xAAADAp725s7kqQiUNXOTJY9uWh2EF63/68JqXowx4S/HPLW/+xatSm67/QM9HoF5ptDHPRAKBZClApyHFFn1JvVOKPcKhZn82dR3prG0cKyqI611R8Rw8tMgQDdZBmeAAAAAOkGfDUURLCP/AAAWvqaAujquVE5OZF/LHf6StgAIv2w2D9YCnzeYwar3gTh0VMqMM/F525dgdl302YEAAAA3AZ8sdEf/AAAjrDldzVaUlla9mdbt2FnSml130XO/46v3SKIqkF7YgwnzeS2hyBWOmXWlSGZYsQAAACQBny5qR/8AACO/Gs6TxKkmZbACLAqhdadTUm/39BZWn+CeJCcAAACsQZszSahBbJlMCE///fEAAAMCoKx2R93ACjTiHRC98NE9d7yntiVtZaZ8jkU2WtjVXm8Bkx7Ju5ujtMK8ppUGcTiQdvjwDZ9fcWR6KKTLgygkeosejNiljGxD2fHh7CUudS8YH4CUaMScTby4oHVDruDctV4zSObjUYvZ1usrCdJobJwfyJo0xQiMNwTodk/7ACU0abNL4JzN5ZeEUdL1T68xSIsVPw4tG/WbhAAAAE5Bn1FFFSwj/wAAFruK0fG8AAP1e2nP3uDpwrKXddE/ZGQEUqEO0N8ycoo56+uktCw85nW94+4+L29J4bMdCbxOyn1U+KtXC8Tcdqre0+AAAAAqAZ9wdEf/AAAjrDrTjpHOFto+z5pUTZm/22D2GbNqrdKNWtM4aXTNxGAhAAAALgGfcmpH/wAAI72EABELlVBqnd7SqNqzGZUmGI4lRT7QvlSkul000CpUlrJjwYAAAAA3QZt3SahBbJlMCEf//eEAAAQTc5LweElHoxelSSWyXXV+ROCnjbP2eNL04ZHgk0LbnA1QzVgS8AAAADVBn5VFFSwj/wAAFrVYs03rrIIB2+eqzZAEC1Hbl9xKC7nqxGV5MSgeCD+WDLLtnjmTMs04LQAAAB0Bn7R0R/8AACOsOQduGqwef0g3xB2+Qk4IHIuSYAAAABsBn7ZqR/8AAAUfMJZ8Oks1AlipeBNI+KFwO3EAAAB7QZu6SahBbJlMCE///fEAAAMCoaoS2la0BARvPbSUiexGOuybCOFlGdepfgP4eiLoSFYbT5LSPcXExp+clatAOcA/LCb/F7VynI0x9DsuAc8kN3tWaeUzWukJ0DAREJ+/ahxnvkKSmBIgQGpcgkcoZorANgBczstu5gDXAAAAPkGf2EUVLCP/AAAWtVivq7Im1amZG7UsfpPKPtZqnEkMy0h38WgUxRXJcRV9XEMWveYAQb1dUP8FAYwGhjegAAAALQGf+WpH/wAADYJExwoLrxDklwT5DQ7UZ38BdfYV2CvjVmYpbnfvQOIeAmEVtwAAALZBm/5JqEFsmUwIT//98QAAAwKfBTUMmngkJyQAFgUctwW5VL+B2quvcs8Lo3AVckeGePZkS9nxUtbDT8EdBUx+4sYVBnQ3xt46BXg0MCL/gNXdc2mXKTRh9riu6fN08Faz6QFoWJ2xCnNM/oFr3ijilk5YTT/ZsEafy9YBCXZwLUohRnr9JrDOAdOfpLTejUKiy5OdGTteaIxaxN1IwbIf1Zy/1qtEdd21WzeqAy8EEytJwwH2JAAAAENBnhxFFSwj/wAAFrVSs4KAE02z1sJ5Zck8hujHE8dNqrE42+DP+dwvr1z6NdDKTIAOWsZDfaHaq+Nt5AuCvzzJQAyfAAAAKQGeO3RH/wAAI8M7Y0WaGMXDjjGA3vqkHBGMqmri/Z6gjlPFfjhIUd+lAAAAKAGePWpH/wAADTSfkmeRwtwIYxVlJQ/QLZKgRhSDAnQBP7CzyzHqnXgAAACqQZoiSahBbJlMCEf//eEAAAQXL8mYq1YBq5Rltcl0AffUhyST2RdtoVX6x9WMbo5cQaoTDoXOrH/IQQRottIuUe9dPV4owfqUa93fslJJKrsD3eLfbQKpEpag8iozDZD4vHpbegY93O+ycIJmxahok2hHCrOZbhAh/2CvrzVEn+p97iKb6j2XWNx+8wqh65ms12tWm8B6r4sGUIh9vlbRBZcj6rTIsoypq2AAAABOQZ5ARRUsI/8AABa1UR8Pc6Sjf10YwRdRbun5CEDnrfLfkUCi+HxAzjnub1XRgZ0T/5zuiUcjfC7A6JbKGC8caki9iuGjRa2AV/E/YnKBAAAAOgGef3RH/wAAI8C5mEjP6gie3fdFpO3FcIgZgxwYUrwgt4FKCW/HQ9+0GewGxLA14AEn6td7oHqtzrwAAAAvAZ5hakf/AAAN15WD/qymwjjuFDDjvzc07ksSddWA93jhG25+P/d9HfBhXYiR268AAABoQZpmSahBbJlMCEf//eEAAAQVFzTFAKOFLaEgtIF0GdY/CJX1NcUZh6ECCZQqXFM5DMqNEFWJ+/8KhBmOWX4h5e7hHiCVdmxQtkPKZm3uSlk0Nb/FaShtuYbcmhycjWAoy2mvwtqjsNcAAABFQZ6ERRUsI/8AABa7it6cCIVLhxzfZPLWOIp6CpGe7loBYg/Wmx6cUb3OAmcXOdY+wKJO7XFqwAIbik1/LjRuAmMGvLVhAAAAKwGeo3RH/wAAI6xCVCzio6seJu9sIvRVOzXGyBL0zcvwQBDJH/ZEvauFUvMAAAA2AZ6lakf/AAAjsjy/fyk/gIA3hLiX+9cpdUSL3DeaqyreY8h4Ezm+3a3fEzMmB+EBVhxkDbUhAAAApUGaqkmoQWyZTAhP//3xAAADArD22GeMHlotxM47XiAM2SIkZmX6NtJ5y6/sBYHsMG9B1wcZb1/lq7oa2g1F7UvrEqowcke/ccbqORLGhTt3DBY9n+uJOytfCxsJ7lzsIWnhCgJ768Zze+v7NM6Ib02llc+lJF3Z6qkODAoMsFd+6Lm0KYZ2UceLrEQvxdd2CMzue0UkeRJcw8huQ+e5g0U23/DUNwAAAEFBnshFFSwj/wAAF0w2Fbt5JCYZAYRW45sIzrZQKiVhBEnpo0bRjAqWXXwbNkhKY3feeK5fWbLJCoUBP5VG/n+2VgAAADABnud0R/8AACPDRsa2ndhuq4WjhBXFoL/cFRIQ4urRg55nOScs5iSTpIUtk79u14AAAAArAZ7pakf/AAAkvwQfC7gP/VIkVXnJsYdY3r2BcwzWKDwwLJSuE6+4g+2cqQAAALpBmu5JqEFsmUwIT//98QAAAwKxtw7GmPer+1AY5J0q4fNTsou3QNDJVafbZ4lnQLY7m3vSFsopIcmH2bkVZGc0bCkR7NO4mdbHCnMc7V21u/lBEipuUwhnNVTuuuZx2SWAGp6Vy0NZNS1J9yy2bJc6ft+o8wIpqjdNwClk2E2mt4j1LQE1DaJhI9CP0n30RgjNUhJVruLXK41nkLGczGOxPZJhIllsii2PM/lXKwc/K3fen+JFLxIFNyQAAABGQZ8MRRUsI/8AABdQROIEcvj7102Wrl+jUrgrNMDU18HFaDOMc6Z2O4AHn58FQ1YrgBwHstChz+oAAl0Bp/9s8phQ4HXegAAAADUBnyt0R/8AACTDF2ippB73RgFfVZFaSoqiX56RgbETO8jP7hgqb/Bz767hpiKDQk08qIz7MQAAAD0Bny1qR/8AACS/BCdgiQxIU3k2CeCk3B5k1QIrEQQcYxMwCVczGn7lPUnvP914AQTDl0Pryq/bmSO6C/clAAAAV0GbMkmoQWyZTAhP//3xAAADArHIaQA5VbSxAN7m7qBrxM3xPliHBJ1surEFzGaQzAGpfMz5QRg8QZhGYvcjLUh3OFERsBWngsUCV88opUmh//UIglCZcQAAACRBn1BFFSwj/wAAF0xDzbcVzKy2MHwPTMhNoE/2Ash/6YPApWAAAAARAZ9vdEf/AAADAENYcgyYYEAAAAA2AZ9xakf/AAAkscwNthjI1MiwnkG7tLxfbrYfVKydVW/tBHikNVr17m/kHOkpHXh7Pw/GfYCBAAAApkGbdkmoQWyZTAhX//44QAABFPrjNboAibo2o7LnUgIi7uXayMG1he/9nV8DpzjB52b5Pylh1x5yuR9dL4tqibco7DA2FArz38G2y4EPFHmn0kulWIcHdXDVWZUNfb0hDs/Mkv1l1HAvRlmNxVSMzmAlMNdDEwuoKphIcKbpF+E+BfcSnA5KmC6IkFA0/cVUu7qdX8K0i/5OeayTE63yRAoWc0jadkAAAAA8QZ+URRUsI/8AABdFKzdraZihglljOJyqKfan4hUilAPGFGuXHmL2RA2IhjPajeiN4UDNK9h2Yl/dT0PTAAAAPQGfs3RH/wAAJMMXae79E/fX75plcAHHjak6eCadHTfUruHkz2LTzIJr9P13EdXaybS1B0dPcp+SX5a682cAAAAdAZ+1akf/AAAFQybb4QbC6tLJAfnirvF23qzy73AAAACcQZu6SahBbJlMCEf//eEAAAQ7hqAup0pWOq4CP2vZv3WV1YF6Q36CJOqnva1OPiyUu6rdDzvVw9L4lpxEGYoudZ4zLkCJWxkOlOKiCY2o6orM2QsxEpUaKzyPvho2EfIDm7ZUB/W+vqMycciIZ/fMYRwrj0ON27b6cnSElWRGya3JmJ3Lx0L4r2Tt1qlaAERrIySu1oNcDoEbZ77ZAAAAOEGf2EUVLCP/AAAXTEPNikgdwuJuOxmvM6mbigOHzoDFCy1fCuPZrjjTtKDIvwBcTvVksLEbxofBAAAAKwGf93RH/wAABUHTc8ToJaij/ynW2MH46WZqAlq4RwPvWwZJi2qNqsq8M8sAAAAtAZ/5akf/AAAkvwQnYL7iK53XDnxS8sd5gYNIAMYZYcY9uv15wfdFp1VPqbUhAAAARkGb/kmoQWyZTAhH//3hAAAEM3Nl8/mx9/mLfL3Cv39flSweNAHZOT/eKilyN7MiGXQzNdnlvUK1/8ONW3J442JkNriLU+wAAABGQZ4cRRUsI/8AABdNMCl/eUT0D/liQOqP+DO2bU0rZQZb4xS+Stuyb+hAmU9sdKf8R+eNOAFkQBO6czG/0jZeWiEFTr7KwQAAADIBnjt0R/8AACPDQmxXTiSkUwj24W9Vh7KXRMxZgX9roDnbRMaXnQiWBaJzEzY1wbjrwQAAADEBnj1qR/8AACTHvYtduaCvqN2nScUj/Wh3J+KUeeD2tMO1XKBfHDRDdH51GVw4LnXgAAAAkUGaIkmoQWyZTAhP//3xAAADArD22GeMHlrByAIQ2g7QCw3b8UE4SPwouBlj5KUjaFMLw4x5CKptt6QgcYexuoLULpTytUXjubK/LV4p2V6htWz228E+VaTC6zgqiV7+yV2/rwVXHBl/+JxVY5eORjUiaf9fUQzlulsr4pcH5vAbRXZIOHVRNAUoUm0fIx0Z13wAAABLQZ5ARRUsI/8AABdDR7cNIr+Ssk8F9Vxp6NWEIAa1ocA5MUvGHB2yI+KzRlyb/LnJ93rEQPUI9Ftly9ckGXTmNiBzjohLc+5zMxatAAAAKgGef3RH/wAAJMMXajcKn9nxbZawKnEPPtFk94XtToQTdkdb4OZs4Fl3uAAAAC8BnmFqR/8AACS/BB/+JorYxT7ri0A9poDdK3yPNU0qMO2qgpofW8zK8R23BnS14QAAALpBmmZJqEFsmUwIT//98QAAAwKw9thni/m17IAHFUYGQBaGyiuyCRjtLfFw3MWvlZRaMzRVRpr4esk6OLaIvHXsuStpATsaOuE2wQGWdokGFdS393ItDxLbgp4sN6+Mg/YZddyy+gQuwlz3sxcysTL0R/i9/swWIl/F3EckDy2qjKtaHklkUnJIPxDIY14tzz0cKXkUKzhzwg/FpJie0IkoqR6cVWP4Q2EbNY6nJSk+0sp6oSA551v6IOAAAABPQZ6ERRUsI/8AABdDR7cNjH3NvRJbSO9cuYy1Xi1FXfYjhtgir5F9qygAkW45oZuLQ1dB/6eKkyYYe5vAp3+yhMX2LEPwboLMussGcV1d6QAAAC4BnqN0R/8AACTDF2ipNxUOc3k0wqhiyvwIxXY1VqB+MXcDA0WA7j2ySu9qbPcDAAAAMAGepWpH/wAAJL8EJm9CnHazr2c4LYvBYCaYirlmsYdidy19cizApObuUGwHpctftwAAAHBBmqpJqEFsmUwIR//94QAABDTVVAMe9Pz53M1aiNfrQu+oXQn0w3NvgbtPnyOyNja0l03xwAMKrssWDlBH9Aa7rmpIN8M7H+gQ7QhGEAn9qLFQ+e3hmZblfOoGvHGK9USzF15KDiDKlz2p+rQINEXBAAAAPEGeyEUVLCP/AAAXTEPNz+OrX/XFdBasxOSbxUH1ekVsfMRVvHknoyW5LUQa3oew+I69rduEvEFAEXtNgAAAAB8Bnud0R/8AACTIbDQMzYVMgxHO9JMF79gxJxxBBNekAAAAQwGe6WpH/wAAJLHMDUeOnPDcs+DqOeFx85ADyzSdInlYR7xZFImxeaaAEsVAKep8YZo54DXcaonTnwtvy8syxdtghJkAAABuQZrtSahBbJlMCE///fEAAAMCsbq3buDZVEBEX8YShiPU5rkMr3uc3q3rOlWsidkne5NgpAK6IxwQR2eG4RpneXO+g9/2u9aKFwreg5dJgJH6Kmn/duXskYQM3cxXBDXW787/mMEaFCRfVArV18AAAAA3QZ8LRRUsI/8AABdMQ8zHzRYw0DSsrwB4R37yhDs0iJEvitY5utE9ImhKrCjfi4lW9SKdQvWysAAAACwBnyxqR/8AACS/BCcSyqyOOP4TmxSojMXFQTuyjPJ0t7BRM9GX+O1q2SWdeQAAAKpBmzFJqEFsmUwIT//98QAAAwD+bw09VtYPi1iPQBYsn3WfWZ0fzWFTaXZRZaPDQ7nR/mP6hUvcnULmOvNLiBqer9+q+xvPcQvmsCgHSrP6t7meAW1zPsD+UMQ5iOanGw+EAPrivfs/SBI3mrUWjW4XlGKtUjaIO1NMaYpQur5fpV/OWvrVPqmy62v6Qk3EdnTK0cI5P+uhPadutxnt+7I8KyTjvS2LKBlSgQAAADtBn09FFSwj/wAACG8oWjGlJAAE7axboZI0i5LHfqTHJh9BFhikLEbUVFujcQKtmkgo4qsU4gvYvOxOUQAAACcBn250R/8AAAUf0eM/bA1DIH2AwJayYxuIa5AbICh5eCCePJfN97gAAAAuAZ9wakf/AAANeUtaohzYJIUkfbDpy5A+Wcd73jyPk/iZmX/zW1ACqFPOJq0tqQAAAIVBm3VJqEFsmUwIR//94QAABDN4RZjtLoQA+IdVB6foDs30lHErsbUTPlq/pbkHvN8kwEH2FUmWpl0cmKINDXD5b1davh6YxGmyadmFKsWyxzuG17ZVm9mbLe8cfDZ6OX1+5aVkbe8/9Zvx6nDiRHGLVfN/06mr0r+ljapzvz/nThzyP1sRAAAAIkGfk0UVLCP/AAAXRSs3a1qOzP00p8H9t5iAJTRa8mlZLVgAAAAwAZ+ydEf/AAAkrBUOC8ghJXzZccA6vSCAnRldD/zzEptcMU3o7l3Izk9arla/VpOvAAAADgGftGpH/wAAAwAAAwGpAAAAekGbuUmoQWyZTAhP//3xAAADArHu9wTIXZ97nkEjF0WhfWZ6tNC1V5fnWOqIYsn4BaGyfd8eOn2F3kNF2sWKPpC4Qjw4opYvVbi0Hh733GsdPMUmgNY+wYrJ167P4M6x/8x/v4tYep88mvAcs99G8Ybbxbcls5bm5vMcAAAAMEGf10UVLCP/AAAXTqOeBRRN+eSKgAC65nKYPMTR02iSgMfojkq1XfknFdZfiXHk5QAAADABn/Z0R/8AACSr+FwulCoS3mbde03GhSyrhwLydV9dO4n3jbZH5fG5KUWa3jFoki0AAAAuAZ/4akf/AAAkvwQnEslpmrhWUx8qPTD207ZPlSs11e0gAFeAT/XHKRMbOmG1IAAAAJdBm/1JqEFsmUwI//yEAAAQS6cjgdt3+8AU8m/dnLWa3Amno5hUSoEt73WyyRcZtcYDWxc6zD7UA+zEEyaVyDiiZ8WQ8+CaDuBSvrVIbxTIZrz0IXbFJCcuoY9nLl/QaypKBx2W9EuK0wSe3J7NRJYkc5ltE02UqfaskmpBW8RyTjsXrcCBhoAPW1GMm3qhGKIKAe5J6y5BAAAAMkGeG0UVLCP/AAAXQ0e3Df/OJVLzb2Kh5lDpb6Fygh44zaWEXA9rPnBviWojpe/nYK3oAAAAKwGeOnRH/wAAJMMXaKmoP+8m9lMR9zPj2eI633HfRoRcQp7qrbPbxMwJym0AAAA1AZ48akf/AAAkscwDO2mnJABbx8ZgNad7tH/r36EmLsJnixJciZ24W1rlK4e0c7YCFldKuvcAAACIQZo+SahBbJlMCEf//eEAAAQzd1+kgVCL4wj7xaZSzS0yjW6fLUwB9T9uterFV5Je/NBWPaykjDpx7oRstsKnIEX3ioaEgrwXn9dEHV6GVsqqWNg7Ye33X/waUTn2O9B5t7ptvQpOJ4w+TjshNwPjTwIkkwIkPAbLkf6YMyC4a9GweqGAc3ZkgAAAAHdBmkJJ4QpSZTAhP/3xAAADAP2GsJtHFyVaen8RemmdMUipD9L0zL/c3Nvd/5ABxs6FOkBVf7feQQ8tzjRIJplqYy34tUnv9VGBnCZP0nEQDHegeCIxb81uZFvTRnxi5VAV8aa3lmWqwtzEexgDfjyghrDlPx81RgAAACNBnmBFNEwj/wAACGdu8NIjbfW6+JWCNdEQhxvK0j23Rs18+QAAADIBnp90R/8AAA2CHEyUk6iebgyfiRgfHhCsArJDjqnhG6MYwhcr3sNLTwmjZM4Qs8jZgAAAABEBnoFqR/8AAA2EnhUN8NZqwQAAAJpBmoZJqEFomUwIT//98QAAAwKxmV+kBlfKcEDXSZOP9kn9bTbqCMUdTy0087YbFnEq8w+WYKdw4Z1G/osNf7HJ5TxgYxAE3jEG3bZuNFrxa5U2o/AAq8Q6tvnBspDGV+wFi0Y3caXzY+Z9OoQp+yw7nv16ysf8jMniEEdZ/XyBAzEeE0ufY78fBOIk6IURZ3rR1ef6c90bLgwcAAAAP0GepEURLCP/AAAXRV7ykntX+b+Rr9XTrgZEMHaVUYkSJDk+JVS3F1qDvLq03QTAw4+M1Nk0IqZxs4pjEbTJ8QAAADUBnsN0R/8AACTDRoL5tRG1L7M6MKrKl4ZOtf3fwwv1FZhkgWH0JjF386J1A7G9cdSDCqAbMQAAAC4BnsVqR/8AAAUgqPgBxI4db35FTw6Lnd/C/hs6rpN1iZPcXG6wl9FEhQxyPSLBAAAAtEGaykmoQWyZTAhH//3hAAAEM3jIwItDoWd56keY/ogWwhF0i9q5BLYw1hghukpybhQVfMfof+pYf54hQ6MXmOTyRy+Ve0e6qNm8BP9rpyYloNiG/luO9EyTN1k3qD/Q1/J6hKC9C8HwjiD03Yk0VLkLAGCzXrLkqLjBVYZhGVb5Uc6FJ0N/GzxsGq9bS9KlP8HIAVAekUNXAchteEVekP0LeGV60anKs5Pu9LF9yFDUTyaA5wAAAExBnuhFFSwj/wAAF0UrKeJGEZgg2+x0AVgr5zezzL61Ky9nA+WkYkgptC+8znqGMLe1E4hX0aBTLbnh4L1B/5eLbJRT9I5kIhyRLnofAAAAMwGfB3RH/wAAJKv4W4Lv/Xxym5h9F/I+kIHkpjbNwkeq7KsXUQKPK+AB6VaVZIY/wq7zrwAAACcBnwlqR/8AAAUyEV+i6Ih6PJF6Hf6R0ZUIbkXiUYR/45ZaikTYp18AAAC8QZsNSahBbJlMCE///fEAAAMCsQWLoCp8e/fSKjTihvlVV6l+jBiJpWwjyEGtDvJRO4wr/VWLI2dH0Mg9Mky21PWA7I4lSuEIFnMLW6Dzg5ZlBDoy8Xr/ocrSNdmNzOn+peLaqQaUDkWHknqozqYq5YHFcXmsji8o1hZADG8/Tjaz3/etY0DGKAhM6FmSyBmkFUQ60DSzShVZiiHgHUpVQjhEKzYxDeV2Fhyow3NrrtqbYhAIGftGEi9Kg4AAAAA8QZ8rRRUsI/8AABdLlFSxWGlHcTm6B7GIFtHl4iw9LcbeEdtNvITareGcYLsIC/9PgUHHTMLe/XHY39lYAAAAPAGfTGpH/wAAJL8EJoM/y/GQ1U30mt3VBRzvK1h0s4VI7irkZEwfTMQPhUqxySpZgqcAE7aZg0KeGU6NqQAAAIdBm1FJqEFsmUwIR//94QAABDcU5ZGnAGiR/S2+0bRO0ysGf9perY5iCPypKMjdRJt4hfCCqcXbLk88utNfcUxgJv4GZXBaHWpKDd4r9S2XzEJBeBTYo0vmMF9ZgTogY7TAd4SGD2qIgmlVZNuCGwPBRe0Bs9MAiAfzWNJz/Mh9O4xzKu7yi/MAAAA5QZ9vRRUsI/8AABdMQ823FcysmU6Ad5IY506x27AdT7YSbsLJs1mdGACVDvt2+QEHmOb89H5694OBAAAAGgGfjnRH/wAAAwC+9wLrwJab6hyFrWuB342AAAAAMgGfkGpH/wAAJK5dVODOePLnUAM2FBe9vAJh3lYJKU5F+XwG5JR3ezw+J3IWxl+QOz3BAAAAikGblUmoQWyZTAhP//3xAAADArD22GeLarI4TS+fhnc+QAceVK/cnLjPA+lPcfecKbfeVLGf2/7RdsbOk5tcSP2BHSMiHCUVOhlGcuEjxIvxLv1whpgg/n7QI40QjLK+3zTtRzJC9RM7PsHFlEeE5ndfO/KSfg69SD9kBG5P1+AzFt3wQ8fjsbW4YQAAAEBBn7NFFSwj/wAAFzT62RKkHpTaQug/htz5OTYhWebytW8AOIoGhtIbLc17GEPO8dVtgD2Q3/kZfacpKp6JYtWAAAAALQGf0nRH/wAAJMMXXCIeeDezefKz6S3/l1TJEiamSqa6DgTDXMuNs6j6jfcHBAAAACkBn9RqR/8AACS/BCb9xEa4S/kvjs/Ad7zpvrSr6/LHpyZu0VsrfEbUgQAAAHpBm9lJqEFsmUwIT//98QAAAwKxunXdJoH+AHzcJa/so7/VznXS9POVFpscBCo9VZPn//BO/5TA5NemVYbPJIZJVZiO+emsZ1TakSSudNykoTW4VY+Qw1Ho5P7emA+01EnPWwSYq+A+jQdhQusvdMk07GYgxaeA0Q23cAAAADhBn/dFFSwj/wAAF0UrOOrc1DK9Z1gaHBgxZIdBUgYuAkIXNb3RABomLuUZpFDfj+ARcCzrdl4tWQAAAB8BnhZ0R/8AACTDF2ippVPdAFwctGzEXkhZKfhG3OvBAAAAGAGeGGpH/wAADYSeR5VkVqTTzR0YBKdnggAAAEpBmh1JqEFsmUwIR//94QAAAwGdzzD+DZABQwTvc1WxH29N51L9SmbOmst+XXhR2zInEZfLbGrP8VGyjFraSvR6c029sOIUGuQhXQAAADtBnjtFFSwj/wAACG9iuAA2jzSYcgAh4uYvQZaGsUw0NsMgI6WKgqUzZGeXQYPFOs7ItF7IbbdsW2FLVgAAACQBnlp0R/8AAA3X9N7z2N1FLlHero1jCcIkprEfnDxjb5TXe4EAAAAqAZ5cakf/AAANz9aOD2jHOh30cXcYzr6YJx6rjwvgvCSPOSkTH1XZ2jalAAAArUGaQEmoQWyZTAhH//3hAAAEM3hEAKAh5/7Arji+fBucXPESkgOYX7g4h7byCbbbYhnK+zwDH7NAjYSfJi3KIb5Vgis4n529qa31dKo+6f4ycV+ixK4K3jAZIXQ5okMjqIsgq03CSC3zLXxoBLpriTghXr62EYGVPs5GDqgPQDT1V4DJB/GqHq0BX6+8Ml5RG2CYlw5qmK1dJmZwX3LdjfU4dER2SVPIuu+jAwSAAAAAMEGefkUVLCP/AAAXRSs0/ZtzjvNM/YzQOnkVld+bmR6/NEVuz5Ugo8RtyXcLNEek5QAAAB4Bnp9qR/8AAAUyEbZfJ398H58pjGAiDQxkf22uRYEAAACLQZqESahBbJlMCE///fEAAAMA/YZnUL7PpcALAkhffoNbMezxNoIcOC2bvUEmBj7CI2GcQm6JUf6Benle9c9f2+gdYvIGUwxbi/fpK5fccUUhmgemXCv0lN7WRAglF9oUkZWbKK+Vmo+tumdK2qbSr9bdoYJ2fJlmai8M7O0MG11qcJqJ8gzirhMTGAAAAFFBnqJFFSwj/wAACK/kf8tpRHUERddL+bIVubTfaYDpRd1IKyskz4C01XQAPbrVQKTROPByhDXbKwBybZiDr5YzmMl6RSF+ES9xltCF/HopMaEAAAAxAZ7BdEf/AAAN17TzDFTZEjU/UsTj6SgIMLrUwVV6u0P8UY8uJ6+LsUB3tdAkqj1+pAAAACUBnsNqR/8AAA1/230kslFKH886h+LhiBGsBFVmZQDfphrKKsXdAAAATEGayEmoQWyZTAhP//3xAAADArEC8OA7ob09F/4JECPl/vHmNQnx7cbADdP7SYe99E3WaeNINfwbZJX51zqaKn4fd8wZRT5kdU3gakEAAAA4QZ7mRRUsI/8AABdMQ8378hhrt9VO70bmyeC2Cvj88HQs2hNwjh86X3AXABrVyZ0hXkfnUb/GTlcAAAAjAZ8FdEf/AAADAfGxcbvS+wat83QbGI9/ztX1agkxhkQb9MEAAAAeAZ8Hakf/AAAkscwJb6lvs7NTZluK2mPhwCRR9dgQAAAAnUGbDEmoQWyZTAhP//3xAAADArD25b+rdv2rMEeGgByxOVQhRgCU57Jka8pJ/TthvoXgcE1zj3k3hgRkvZ4tJ/Lc8509rG6mzJ98XLECLQq9nV99NHuhJx7Nzoftqg7Ou0LMxG4dtJvGZvrhsFk2IA7bhU3CXClJKL17h9F5cVy3eKsSrV4ADJRwlXg5P2t6umx0CKde0gVnDISQwtAAAABDQZ8qRRUsI/8AABdDR851YobTPNYCzn86y3Io3khAJTM6RZDr6RFYnaGRc6SHr4Zwbhk5SR9BEVCiLPD8JD/NFJB8wQAAAB8Bn0l0R/8AACSr+Ft4Ep2+7Nxd0PRxIG2Oyz5HINSAAAAANQGfS2pH/wAAJLIrBex7XGEABcMIGsIkgRjHg9Or1NjSZJBfY3CPd0OgMkfML1IKbheomzggAAAAj0GbUEmoQWyZTAhP//3xAAADArEC8OA93HHFyA3xwHx+NSKypHqBZ3Puoc0g9DUXFrpD1piib/crjQghiilASr+Rzb//jfjSnPR0kmsb4Kd8DAD3/JnwSB4GFNoz1SCNgHDwkxhLfgI2sDXZomZ8yKPh9EbwtUVIxtxoykHW9w504SztEy+TqLZHzebTJ3nRAAAAK0GfbkUVLCP/AAAXRVi5rQ6VAPBTridJou7+VMoOTS4gKXlJaBLBenvL7K0AAAAvAZ+NdEf/AAAkwz6WZ95ric7SGb3VZFC/nM1tXdtVwZ4CDZyKQYXT9d7t4m8/UvEAAAAfAZ+Pakf/AAAN1UFlj2d0h68gFzIfLNz738uo9/O8EAAAAHpBm5RJqEFsmUwIX//+jLAAAEgUylIdfKsJHwF3nJeQ02VcyEalHBF7FB0zc4qcw3fPVegz8ihX5+mrCBRbOyq/6lCX9cx8JWI114sWod5Le3SgttZDWZ1o+k9fiujCZ71/rT6oghc02ODHMocAmk/X+Ef3yNVJj9qKQAAAAD5Bn7JFFSwj/wAAF0VZVWgzfgJeNQgCJkkJRL0y+Q0NRJZhgIdbCnoYHGFcvADU68fwRJZtrIWOMCMmKMpasQAAADEBn9F0R/8AACTDPqUO/lgL7HBbCV3BTfBJ5NakcyvKM6w4G5g+pTkfBT3YGtiN7qRYAAAAJgGf02pH/wAABT3g9/oBL7Bv7H7jBVMKw0aqkyy3INHStc2tpkWAAAAAnkGb2EmoQWyZTAhX//44QAABFU8wMBKxtJABbO6xcalp2MeVXiuaSjvnzaxi9Vh9ND0tmNQFcPG/gokBgN/DIAHrfjvUQQsW0jQ8tqQI7B12sMuvkClAfJO8g2R27b7iAp4lJs5ORoPXXoPscJrwj6mLf9dqHPRT58C99P/lRDA1f6Naih7WIlufuo8PyXXV4TqwQZhckA1mP/9q2HYZAAAARUGf9kUVLCP/AAAXRVc96G5YiN9zlAAV6s0DKX5etnX6vOWvawj8C80a34JxourQtiLGCFEe2zg2CAtw7TPU7Bn/6aM55QAAACgBnhV0R/8AACSsOQVxKr3OKxII3RIBN9dxZZQzR/3j2CR1/44bQEWBAAAAMgGeF2pH/wAADdWCf9FjPJJGE6ruUHTIJPCRZhXT95JHYZGB5dY8WY2RiLZfLzmfHleBAAAAQUGaHEmoQWyZTAhP//3xAAADAP4Xz64F8A4WIpCf9KlgzZHaEgGsUgw+U+cQp3X3wBSjQ5vpdB23WwK6+Ns6TIQUAAAAVEGeOkUVLCP/AAAXN813eNUR5d1ULvXR+2T4O/YZhL5FY6S5I+0e256O4EFogRFZ6RIyEB1JMGQETlfgRAmYX6kRpqS23LIUuKozV/b7d/n31nvMqwAAACwBnll0R/8AACQ9zrgqywjJXUZ9EtxD9NX+57eow7NuEFNfqjntmuexGDoQ7QAAACUBnltqR/8AACSxzA0tbtR7RYjPO7LLX9qSGtqLYL6wylMyYiXhAAAAiEGaQEmoQWyZTAhf//6MsAAASAHyf16XkAXTl7rVUd/ZS+BLUkZ1bkiEWyF9Nln3GsVUyPtfMeAKr/JIb6ImKGId0ud9UzeMUrAFZ+K0U0rNJjFPCa15d5EfOWnggmJmSqSG4VMUZySnAtRczZv81RlZfjNXOvJJrWWZ0XLYu85XCbGUx1MA/ZkAAABCQZ5+RRUsI/8AABdDSIvfN88NjCCxx+QmVflvaPmlADV6xM+kk1QRe1bUvlg3kIMLGkdXTGL4w1iqwZkfbS2/chWUAAAAMQGenXRH/wAAJMM+nIhAsj7YZnytjswmjpfLmim4gkLHoR6ktCmxIWbs7kliL+9Ns+AAAAAvAZ6fakf/AAAkvxrOk9JmKz/QxQAbESaThHF9T7I3pWZ2MtIJtACys3alM9/g1IEAAACTQZqESahBbJlMCFf//jhAAAEU+iXHjoCAC2X/IASeGJSHFF3cJ/RTFzGDYO8ecHEB/wBAAWOFC7U0QEp31q545jCsw5W3z2wOBV5FY7uSwEqFoZf6TcMYg2QGICAgoWZvJb77gdnJMfByIAVpC3yogyT7CB8udguUiCdlKzyL3AbufIIZLhIy3Ifkn7j5v0kO2vd4AAAARkGeokUVLCP/AAAXRVix4Pec7Snk24j1irHeBSAA4sls0bRdHcPvadxfGKutZ+YENgXmAEvpJlppFcr66G92GYBLndUcCcsAAAArAZ7BdEf/AAAkwzqzCimoQnzv0ZC4nMoE3X5cjyA2/71f9hQPDsGODnE97gAAACUBnsNqR/8AAA3SjGYSgfd9puib63y8wu+WDx24tV7x93iNX/HhAAAAJEGaxkmoQWyZTBRMK//+OEAAAGlh+GBnejnmYcFSXwlApABlQQAAACQBnuVqR/8AAA3Ptps3lrZwg2U6KnsW8hlZhh6JOLs5fjemsbEAAABdQZrpSeEKUmUwIT/98QAAAwKxBTUTFzdi5XNQEm8lGZHMipBEF1nvwKHXVGprmSnADoj93gBFfc66ZusnxSc07oEb1xvEvKZfgDeHBunaDnDfoFWvPAIm7N03ZiHhAAAAJkGfB0U0TCP/AAAXTE6L4HkSsNLRYJ0/2h3FYu2aFhBNwvL/k2AuAAAAKwGfKGpH/wAAJL8a+QuiURc90YBD5rZIfVkasqf3gObJw4KbAEV680QSdeAAAACZQZstSahBaJlMCEf//eEAAAQ0ufRp21Xx8QAblMEGqT1bLKsifwfbIg3eXmkymVNZk/vvC2bbMMAwIXgxE1IwQe+TjFtxjdtJRxFqXmpT8gRhRgsJKQ44gDcHbvfEDG1HxQooQjbqrvizr9vZr3tUZG7RhXh1o0ujTX3qPxYOg3UDuUHYptUI7SjhrT8uYIGindLBYNhQa08hAAAAO0GfS0URLCP/AAAXTE5sbmQ5qsUxYBBBq4DZ1fn4sk542sd7XRNs/tuhCjzjmQALTSgTjWZ8eH5LAAMnAAAAJwGfanRH/wAABUI06RVqn72LVY/GWNrf6xYgyPFjjO6Cf2umMECmwAAAAC0Bn2xqR/8AACSyLGWvAUJNq/9xSeubtYxiy49fAdYAbW12UrbpJFwOYYyIegsAAAB4QZtxSahBbJlMCE///fEAAAMA/YYlvoIO/c9WbD/f7gADdG+xdn51+UOvT0ohIdeUqrGqTbXCDtteJQLUADoKfLqpQ2Abn2LqEu/dnydN+3oKWZY3oLKeLhXGp2A290wV04olsOKx2tSefuCui3yicLLMZEkxH/fBAAAAI0Gfj0UVLCP/AAAIrAofF68Fz0s2KZpuBmwo6Qm6OevJkxvxAAAANQGfrnRH/wAADc9TaOdLlxwM2+7UAALbq+Hh+hChPn7a6MRS+ofJiyQDJs0qg88pFMJNnfZ8AAAADgGfsGpH/wAAAwAAAwGpAAAAm0GbtUmoQWyZTAhP//3xAAADArD25r4G9+bqp+Aj6l92F8PU/r9rgKGrvV78HQLFBJsxpwL/ykzQI/ebccZaFmwTMrE38buPRWYej/NCx+1IVsUmXaS0CZ2I5NNeqQIU6uFcBo0GLZ28OKu9MVwLo8RtFggOJaDEzKPkKphD0g5x4/EJTEFgNamyJm9ReCyJVjOwrZTKuJVI0LzBAAAAMEGf00UVLCP/AAAXTFC29gsBQSIC4Ndjra4QBA+ev4P8G5AiNVNIQihF5sFSZYFiwAAAACcBn/J0R/8AAA3Xxcs177s03jzAaA0alpLfCsVdvJyJym/kziN1YMAAAAAtAZ/0akf/AAAkrmBC/KQ5U1dTWcKoTvMjH53fAmkCalxSQvcIucycVN8tNCLBAAAAwkGb+UmoQWyZTAhX//44QAABFZEk2tRP6gFFxyTmFmPoBY+KU04u1SrMGtZk8yrGHNGNTr0ZnueDz865vztBAQOtkLHF9pl9H4AYHYpY6ceunGvXaKXEeDys2LxbJoyYADUVYDGeX83PaxESRl5uGB7DAPwlr+owDmViueW8YIPWQgkASR3EZIIYW5ROIdfPySEIbKkQuyegvK9e8RvZlMnkYhplXISdnoSQMe3uKq9bv+E4DtudZqfcGJ76lAc3JCOAAAAAQkGeF0UVLCP/AAAXS4renrRe62ZOvz7QPT3VUVUMgByNR9tsPZNxRpcOzEGdl858ipRdP9VGGEigsqMfS5cRVZUpgQAAADYBnjZ0R/8AACTDRwiPN+DtkAFtUqthbj5sKQDU/mUMSqZG+nvfBCW2i4aZX77ZWFMB4zxfVqUAAABMAZ44akf/AAAkvx+MIS2+OLtb/XIALapVbC4HdMf7qSvg6gyeBhIrOuZMTdLaBF9kr3N7aV8Whr+sL9VvBY7Ro5EEqJfenI+4eQLXgAAAAEhBmj1JqEFsmUwIT//98QAAAwBfZUuXyjmubZYQXpYlAHOt5zFbhjtuEBCqogFBobxhiEx8XOujdC7Zgo83k61UudLNR5FMfgUAAAA6QZ5bRRUsI/8AAAjxTPSd6Vy6/cTPqnvh41KG/IGAvJt/8gTSSOoXRTJwcxy1K24deMP2YZnLFofk5QAAAB4Bnnp0R/8AAA4kQA248jHJ/0cVXZ5GwYqQ5WCjhFkAAAAkAZ58akf/AAAOK/WIk1cdcOZPf43cH6RskzHsALR9//BAetSBAAAAfEGaYUmoQWyZTAj//IQAABBZDEYDq8BgLMTxSYVlXtEjPnX7qdLZS+j29AlsF+kwtOgauLUCmlJ8xUt5iT99L2MomvMsZgPXeZL7UpMB+wrFOcM7DXETe4zCJqzvX/PlsH8O6gkOdMBy9vrtg0mGmulkJ5LDVaeluozJlHgAAABKQZ6fRRUsI/8AABdFX09ZD7B+Y4Sz/UvHohZTwoAIID2YLW95MjtSfFFvHOLPKp2iHIU2WbOh3wwZVN7Tr6MAcpvwgylDCQPmgC4AAAAtAZ6+dEf/AAAkqdAcKR4XHqkqLegweaGvmsOJKZlwjSxdgHkjViOy4YeoXK1JAAAAMgGeoGpH/wAADivvpjeiNqT+daAs/xNPOoETw+EQGWh66IqWyPag+O3JFRrv+Ceg1LpgAAAAZkGaokmoQWyZTAhP//3xAAADAGG53eXIX0hABZCjFOyGc4ifE4kF/w4zaqjKxdhJ4FAeBNzdByWrMmhNXDphgBo6I2BjDeHttwoGkZMTWc7wd+KjbCKnfar4M25t/dzwptf0+/S18wAAAL1BmsZJ4QpSZTAhX/44QAABFPrlxySAQAcXEjywTb4QFFhyB/6S0jNHGDsN0fXP0bCIaLDb5VuIe22wN9Y5UFwQutHcJ+v4sbHAkGeJzNXQWZamdBcIsmmTUXbhP5GIjW+jjq23wMySwoWGDmePVD7CQC0n9/eeQyfgbXEMbaRMHcQxV//BLRllMHui0b3hYHALbbtN5jfmgCGVG+uw7OdzvQcr/HzD+OVxl7W1E3sqHwlLiKNTNAHUBMKTSv8AAABGQZ7kRTRMI/8AABdFX03jSvYaHcrjJ0+l9LPr98FVEAPmIGyWzWlkSQqhExs1imwbd7g5h6fDsMK/s0QxSnrWHUTOHsziwQAAADsBnwN0R/8AACSsQlO+dRYDNf8AEpsAA0qfBXPUT0ChWoWjRpwSxJgNnvHq3P8vlIiafEUlGM6P1z2iwQAAADsBnwVqR/8AAA4r9e4bo86jEKjAw4eLK3m4AzLdA5SqCHg5rp0tAJQa8NzoAA/sbc514TwEjkAO/O9acQAAAD9BmwpJqEFomUwIR//94QAABBuibX/7vw6zB4zTmhI6D9oToYATgCIoy90CshW8Iu7OgLTUYJCdq2VUWRAGQykAAABBQZ8oRREsI/8AABc4W0iNPUJhvtplcIlWJ7OcRHNA7J+kMwA3DVbCED/VYV4dwmD8K54i6z+z337gw4MUWtLK/+UAAAAgAZ9HdEf/AAAkrEJUJBqigBndyFHkyo/NiT9VsWm5HaAAAAAmAZ9Jakf/AAAkvx+MN7qvdYO/AVfSTB8aMx7wAkuVO5Gptmgd3WEAAACIQZtOSahBbJlMCFf//jhAAAEe64AAxv0jHsgO32y5Ms+RR6/WYfKsjo0eOgyFRXcw0g49GZSlrCHZRaKGR03gPhT4oAmyR/ZhH+BArygSS1WqnH+HmE4M+nzAsmkMdf8/OkLB0aRW4b+L9OUZ3aDUcS6MPCn+du9RdyagaUBCxX8Q5v7Vgi6/2AAAAFdBn2xFFSwj/wAAF0NIrk0xw5zbABxT9BoHAlTNVVS6iEFsGNSAvDhCOzw86EMQspY7UwZQHe0WxmhGX8JFHjydN7Lo1uelCJd5UfP4GRDXX0BLIVvG+7gAAAAxAZ+LdEf/AAAlwvB7MjoSZtbT8W/oVWi6DI7sKSpW+WqW+fjnKvqA0J1ITBg6hE5tOQAAAC8Bn41qR/8AACSyPH0Mfg3wFACw6XZ7IHnurfFV/PvbnoKp8lGEpg+GHB97T0A6cQAAAKFBm5FJqEFsmUwIR//94QAABFlcJCaAkz8IRJavKHxuhM7VSEYfQYC9x1NAc7um7pkZCZ9QnsKrsxL/rc4IPQ3yeFRAxFicN7HGgYyHkIcjb8KuCfWU7ZmeUwEQNJngBqDVoqQgMwIfAY7Axf3+/A30DccgUjWhksof+f75fPhClejuhleD34QjNrY1fbZZsmqzPpqbpWHA4Ow2O7lSxHPdwQAAADhBn69FFSwj/wAAF+H3/V4POf3ocr8k1nC3eivV8J41KYiEmAlsDM2TIHGdTEiDB0URGQ0WMo/ygAAAABwBn9BqR/8AAAVnMJZ7iS0kIz3vskwpw48E4u6wAAAAj0Gb1EmoQWyZTAhP//3xAAADAsL238uVBhfuPnAgBYZZyPXEUdIe9HwMuseX0eRG22mIpWAAQiHUY/HnV1/73IX+Sp6W9DjpJSeG40s6qoV1dSlSewsOdb5U07E9MPtL/VAMWNn1uytnXNcCiAGyMzErikDTAotWBocxdjnL1Vc1yxxsaDfc0nknJO++TV+5AAAAPkGf8kUVLCP/AAAX4Igp4KUa1iJUdnR0sYh8r/pLZBxvyAIVVBVzfWKzop6Ec15igXZG1n0JH60PRw66n2xcAAAAPgGeE2pH/wAAJb8EJZQKAk2E0/t0n+o6geJ7J3tvYmotJ++QAjQaOj0rhRFohKH3sGksp2aYWbKLFCwaTegsAAAAWUGaGEmoQWyZTAhP//3xAAADAsPMaAKMfyGzHGGOe7nlNHP38LpXHIFC15+niR+UJYN9NSp/iteyCCZYuSZLY3ItQt7hxIjoZpILSryKY6SeUmlvMw0Pqz9xAAAAL0GeNkUVLCP/AAAX4GwDozC9t9fZdX8HtedURUFH6KtecqjbzX+/WuPFqKzWALiAAAAAGAGeVXRH/wAABWRcz87ZdmPbxv9e2caI+QAAADYBnldqR/8AACW/BCJCOS/MvGKo2nI5pfm9S2IU5LIINmcYy1Xkb9LVckHAS/gztqg7l0G3YEEAAAAwQZpZSahBbJlMCP/8hAAABnfKJO2nVXDUf58p0RytHimGE2rK4fukPR4II9t4uANuAAAAGWdkAB+s2UCYM+XhAAADAAEAAAMAZA8YMZYAAAAGaOvjyyLAAAACBWWIggAN//728P4FNjuY0JcRzeidMx+/Fbi6NDe9zgDPmwAAAwAAAwKfd/aZqGbGHioAAAMBagA5AeIYoYAiYqxUCYEVeB4HRAD4wXB4yRF2I74Pkc4bRXmczuMtsbVhc0bW0SXIkTmxMu/jVf7Lmjo/HbKYjD/ey+xnn5P6fiBV4PX9lfvsrIRMrCesv5eSZU74PtTwpRy+9PSmn6lnmiMREjgYtakkOvm8m6t2APRwgX3DNEsavgF8R1zHEqTZgoJ0TDbpLrBKDQ4rs8AwUlWA4ohtWfqkNfa7ndUiRum2z1IF7PFAFRJJqNpgN0ux8mRRS6v6fiua766uFvA2DeZMyfvMLXQMeD4BHOR92TeryueL1l1EFY0GU//h5PR7zP4XBeDuuYMvUmUyumOH4wXn79HBgu2/izWlL7DFJZ8T82kW3qKdWRRpQn2vxe5DSb7Zupzjr6f3bRprhOugNN4tr+n4a6WxlUcJExjLjGBzJvLZd1zHfKVKz3lI1gU/e0oZXthWaDNDdy3efiUjzYDTeW5nW7NCiln+kUdBkrfAyH8MX/LwGr30L/e+zgo5UuZ7Z6UtB8WoGvfEDKRGeSo6W9MAdOZ91wBVo3xz8o3kDyCnMtAVmdI0bP6rAx3Zzn0JI5OqpNu9WTkJr6rRl6+Rs3JnzwymhOFNB3QAAAMAAAMAOKEAAAB1QZokbEI//eEAAARUFTWBnttHAHDuxFuhz+y5DTv2X3auPXDQZH8c8gK4cdbKA24bKdC3mWtwz9kHELBPrPP0YN4X+JIsrqfJwEeAXg+ZRdYAPxHwDx9ttOiND5XVU+WAax4GvakPeQxocyRmg8XRztjt4S7HAAAAMkGeQniEfwAAF+JrOeOOBY3XuAFn7jmXIoitj7avZ1JOMbDkDJUfDRsphExmv7o4aCWfAAAAKAGeYXRH/wAAJcMXaKmk9CIyOs4OKj5DO4Wwq7skqWcq7Uq3jE5lSk0AAAA0AZ5jakf/AAAN1J+YUP1w+D+b/U4ADdaXO4ACJNlnsEfLJ5iEg0oVSb251ItY6yoL6d7PgAAAAC1BmmhJqEFomUwIR//94QAABFUdn5A8OQ2o8gdktWmUt6KwLFiRX7U8vDVUKoAAAAA7QZ6GRREsI/8AABfpg83LutIrpOI5FZVvT39+Ni8MWF6z/BOBwdACGgZ+8+kYvTOMygo/Sd4gLsJyNuEAAAAcAZ6ldEf/AAANzhXCh54FOf8lSZ4FBKbZfa3+6wAAAB4BnqdqR/8AACW/BCcSyXBGRz8LZpzQUAMb8ZxQccEAAABvQZqsSahBbJlMCE///fEAAAMCwvbYZ4xjJUgjyQw05ptIsw/atgwnmUpNTCiHUJn/U7Ojs4VerhpWXFCpI2zq3nUM0ehyo0LnKzykGYxSzuM/0Ae3Oda/Ndry6ecCo9sCVGJl5IiJ38auBD2j2L7wAAAAM0GeykUVLCP/AAAX4IdILXieaSgDYXrX3vBPfIxWDIGaAD9nFqbIyRKzX1m+HF7sjQd1gQAAADUBnul0R/8AACXDF1cshdk3QibgAcbS+HbKJ8qysisXQa70E72Jjbzp/fUcqaGOyD4Z/iIjtQAAAC4BnutqR/8AACW/BCcSypfEIJ6yA+XkIMVjwrREbv9eNyumgAEPssll78/zows/AAAAvkGa8EmoQWyZTAhP//3xAAADAsL24lz4e1mOsgAi/G9w0ZOlAwNZau6ZR9ih5+eEIT16bdPgoM3RAmvAsdM0i8xrGiPkUQolGk0MldpgsM77dOkBqYdX3DEKjbJKDyf7emLxn/OtP4/vtpT1vC7e77/KYswqWH0i5DFDMknEzFXSWC4CB4Zqs8IxPKjjPRgyldpir/IICDOOEPLLotFN9yH0zK7KGfTdY4fptLvF93WRG9bolk2Nd7OGz2dIxnkAAABGQZ8ORRUsI/8AABfgh7cNjH3NvRKJBzop5YNcGihF9YuCRtuzNUH9AVpUTHWArTAB1d7nz0AsaZ93vQO5tuzelhtFWE46cAAAADEBny10R/8AACXDF2iRq7T1tcdzLVv1RYXIXP+oPa1NpcCT87UD2/DeL+gKGalk81ZgAAAAMwGfL2pH/wAAJb8EJHDL6XsGB0TyeMEVgJZmfCvXesPWFxh9k0WTERXOVuvhkg9SbnxrYQAAAFZBmzRJqEFsmUwIT//98QAAAwEGkWObZFTDAUBA0I7S4qYtnVmZL2cnrB1eQTfMng0Al6q7QrCBCyoNMwC25lNYhVDgOfUZRnw5vqsGHGk/HTdJ1vmGdwAAAEJBn1JFFSwj/wAAF+Z6SUALDlkXf6iWqvYx4wCCgayFwYlF7odK9hgB+VwgCv2sf+7/EsaR4lIB8iZROyT9fK0RZ8AAAAAyAZ9xdEf/AAAlq/houU9h/5a9akWovVSkRNmlAtekAu+EbzPACWcuAGBdfA5AVL/kJOEAAAA0AZ9zakf/AAAlsi10zBWSGrG6EWP3VKrA8NJZRG1VVRLjW/g2nZn2DNkVVABtYzVk8WgbPwAAAJtBm3hJqEFsmUwIR//94QAABFNdwJwAWwEwpbYSdMxNsGCvOtw4kSeT1y7GUG8jgFrVDXRLaQ0sSfyTvAYnt8OJxGUG9/uMGuGxgjcS7n2TeDE1fJtv3IPJE2m131ol9j2bFGH1m5/F0e6Rx8xisezgBENVXNRgxmAEfmgL35DFoVJH4Is02aC0VR3m8eNrd+aGNvfoek7IradQ8QAAADVBn5ZFFSwj/wAAF+BrtQK2DNjlyu/lkZy0Gzg8+B4vAWPIA3briUpHM6BOBeq/YGFgh2XdYAAAADABn7V0R/8AACWr+Ft0oGaseQrcyrmPD8oOLfNPQ+5//6MgjqbmvJmxYcfnXvWce04AAAAmAZ+3akf/AAAlvwQnEsuteiElEh8LumYcvHjT23Sf0tG2gwQStOEAAACfQZu8SahBbJlMCEf//eEAAART9rwMnuS7zDs0cFo/u1WYoOMZQv3/fwx4gMNU9rNIEWjbWO0Mvo6/Y+ppqo8ZyJDcSap/DaaSjkWCQVQhRHgko0Eu+aEaQ/qeA7C5l1mC+K3cWYF0JB64LFMFMZQ6NlVR75RhCe+zLQr/zC/LEXEJ1GXERtWckuj9Ya1Lt80lhiOwWBpJEX6fX/foySGgAAAAPkGf2kUVLCP/AAAXTFC2AYlH2rKEIh+7RepDe5z9nGjKPRxifR2F0ACjA26JnfS+TikdMwMLe94ze4GKEI24AAAANgGf+XRH/wAADi+hBuHnPxSzyr/rk/R1JkX1lgZwVIAEih1HIsGCc4gtbbvsgqQC02smnmY6cQAAADABn/tqR/8AACSyPMHVwNCBPsBX3fz8VmQl/n7RCtR55Gxv/RQA3dUSntd/Wt2FacAAAAA4QZvgSahBbJlMCEf//eEAAARVFVcPuIbsiN5mQr7+pQIX8nJTf50oc9sGhIQ2hqP/wVFlJJ8AXsEAAAA9QZ4eRRUsI/8AABfgh7cOSBCbkrqLJgETlRZE0GtVj94t6QsekCjBTQ/vdzAsQXI5K/KPzioV29zQqz7TgQAAABsBnj10R/8AACXDF2ippVPVDqBlurXj6kf7PHAAAAAxAZ4/akf/AAAlvwQkAvkKkwJVCzb65NSdEEc90fhmr9/8ba0A9HpYnYrjxhX5JLbPgQAAAFxBmiJJqEFsmUwUTCf//fEAAAMCwwKe2sNxbymqB82Fs2AuX6cltzPqsYwdhtZKzNmR37J5GJHgHZkrJwtWJwu/5KDxYqOcfmE+jFPyOJv5gBcvgmwLfaQmMEg3cAAAACsBnkFqR/8AACW/BCcSyJTXcliqC0W1ZD20R7A3kb5DizOqDA94RZhhUEgxAAAAhkGaRknhClJlMCE//fEAAAMCwvbYZ4pjnMRmACsehdY2ZjthlgDdmLVtrFa+MUifT1lOmQjEIahGYBPI1kWHle9e41YFvZ5L4EcqBNxLar4MIoyf9ti8uY5cJ3Hr0bvh9oyuIh1994+04PmNUaCjqjBno6/HqyWqSx706F3rz4RY5RMplMihAAAARUGeZEU0TCP/AAAX4Ie3CsjSAFItszGrsMqx0BwDUYbYannxg3CKK5JMV3Aa26e9OAac7+hO8K4wynuqrk7djlbRPHydOAAAACQBnoN0R/8AACXDF2ippXlqQsuCQdbYZ1VXBunU2cMlrgexIMAAAAAyAZ6Fakf/AAAlvwQnLCgAW3VyniZ8QU2IzaGE7LVCGwD5ax3WfHi1UjSGbWNvBDhCM+EAAAB3QZqKSahBaJlMCE///fEAAAMCxLQ9EbqAUXTpVw+bwtF/uZohDNxeKwTF0nWolho0n8F0VLIKjhiv5TH6eMBcXGNCO6cHi07O2AQo9Xm7jAeEBVpeCuIWY7/F5w8vSxuvu80Pyk6nzll9NPpYEqSl2s+E8wZCJGwAAAAiQZ6oRREsI/8AABfiazdrUIbz5G04PHYax/dn62POva/Q7QAAAD8Bnsd0R/8AACXDF2n1C73mEXxj2MlXqxDiiaPlHxvWvF9+cS248y+twux3x6puiYwAW7u5NBacRcXR1kxFjZ8AAAAOAZ7Jakf/AAADAAADAakAAACLQZrOSahBbJlMCEf//eEAAARVHZ+RCKAomv19Z6N5Rywp3Qzy00dmuRjMzGDHb6z5I7bjaxDhZQU31FNqor3Xrhelv+uztsIRGgCPFIfKAQAouYN9O9KTmIKU7DQojSv28TZH+OdOn1T0ocjPYdTFUVIITRq6JjQK7BFldshwm2PbuLuWkTKOGDlfOQAAADVBnuxFFSwj/wAAF+BsA5BjBiAaZQlMWjbCPbieGfAG5fUqfQyBw4OpuKy7z9qA3g3RSam04QAAADIBnwt0R/8AACWsQeTZCqUtkwLuJo06cMrq0BC9QOeq19fWBWql6oUBFARSAjTAewPm3QAAADUBnw1qR/8AACWxzAmY3IpEVYwTUH2uyTB+foHiJ5v1VF5hNP3Cv6OL6ZcPSmkg2OY9z0K27gAAAN1BmxFJqEFsmUwIR//94QAABFZXPDF3900X25ACqobNipY2FEMKuOoNZYuzdGvxrMxRrMZt0h5K37sGfdOF9JstSNwN1lbxhzumSbnWoIYLo+c1bqbCK2I5d+AnZT8ErFt/78aYdlb3yh2/LRpewK/MFpkmHC4uT6BOaaOqsVvINkvns5q5RW79c+DZ1UKAxtdLuj6QJf0kAoIP5cS6oVYf63hhzf1O9PJQVHBqloEkwTkaCspxjK/z58v+CxCzWhOj+1aExL1/6gUYWA6TXQagjLBYfMYtpYqohViEgAAAAEBBny9FFSwj/wAAF+mDzbdM5SCTkrsZSkYvC62EdKwgqcCVBAMEbMH04dgBLPoL7UhOg/XCckI0Ml3wxsopA+z5AAAANQGfUGpH/wAAJb8EJD4oD7ocwJLrMHQ8s94x4qCuyc3X7uAlo9W1lfUNooCz0Y2FlaqCfs+AAAAAvUGbVUmoQWyZTAhX//44QAABHSXhIChjc9Fd1NGE8Om6Jzw/RFOQzPgUPDAlru8WFukk73fUWb5Tzbxe16RVOXXoN04nQMmWCTzkanhRJuVVFMBGcDeFlIN0q2oRYBzLjiv99OkP1MyCiXECH/vjpNiM2i6dC6dHxOkBE8E59/HIe95ABzkqJKY6kYZSIxQey0haXwAorNHPbpJmUpzUO1DxsITtQwBn4B4iJE3WO0KKJErVEhaAATWEcEmCzAAAAENBn3NFFSwj/wAAF+JrOggbMHnZGQP9tswFpJDTo4MJFUqLcPgluxkkJBs24PoV8tYkc4eJ7XxQwHboZphzY/0qZDaBAAAANwGfknRH/wAAJcMXdxSeh/gAvm2OVQi4QfCCCegKrfOmxtgB31TTjxBJSA+vsR4zqblKBECm1AkAAAAsAZ+Uakf/AAAFZkB7pd60pyycBjIYA9DzdVzbFBb+rsAh/cFBMftUoQ4ffKkAAAAgQZuXSahBbJlMFEwn//3xAAADAA6PpuxIo3NuCcaCQ44AAAAxAZ+2akf/AAAN0lQecqez8N9WCfCiIx8beiOxlcQtMBl6IV+6MBf7IgATqplrL1uTgAAAAKRBm7tJ4QpSZTAhX/44QAABHZK8JoABfuETbbSkYkME5Cf7GlyfUqbpGQWwfMGgqKsJgdNW/hVYbvRjOtAPyXN1gw7QFVu5ISkPf+HclMZ9mLKdJ5H4hDlUSKq85Yd5aStYFwcHo64rbmlyAH5K/LIeZ0Ewcw81NGC46MW+wkRaPqyTCk08djiw/gcGzWbRIHfdzWzcBYp1VQob71iwpk6AYuvJwQAAAElBn9lFNEwj/wAAF5UsqkYxiKI5/W4RRLGJtHKsThLWR07vjL4f5nlqpCuXmLnNb1GG+JIdbEKH2XNrjIASPxjr+ca9HQq9mNAgAAAAMwGf+HRH/wAAJav4XDAesy3Yz+Fo4nIchFEM65p4bwpv9l96wgeG4+zvEflwkWt/Y2DnwAAAADQBn/pqR/8AACWSu8+eVmpelU0RxdtZEGjP9FMAoSIlikVhFvHv27CGOWrezrNqUhoL64gxAAAAs0Gb/0moQWiZTAhP//3xAAADAsL25b+rdwV6BCPDQA5YnGhfpwyvRBs2+q2u095H7Ale6tbVi6oU5xsu92V4HQdJpZVYFoJnOt29jPyhDQBPsPwiuanhCikoLIgGAyRFKYVNAlLKg9o0OCXu+E2ZRuQkcAXun9bP0u8e6Ev7mvnS/lrXafSrUIm8RiZ+B9bvCl43FyWo0pQjq9YCVOVKBPGoUKPYoZ7kvg0+SHNmYvM2J1rAAAAAPUGeHUURLCP/AAAX4IfOe2DYWnLr2R6wczY949J8A5qK+Mz+8OWuRIHeu4DRXIvPlR7Xa9JY/q7gvJ4LVn0AAAAxAZ48dEf/AAAlq/hbeCeOGiSRcoqdu+rsHakZQlI0B/8dmJL5STem+Ar3nF+Xys12AwAAADYBnj5qR/8AACWyKw3C76XMbIALeAOo1HKO0OB1Pm7kt8EItGfzQaSWD/XEyLHDGBDSYym2z4AAAACjQZojSahBbJlMCE///fEAAAMCxLRFcQUAFHJ8NbrGDyn79rVbkdi8aLdx1xHaicXhJzl8HiW+54I4R4df1ArDyUNKi7EQrHdQwCHGrCHbuGY4dN8LAbHd9GBS2LtsIX47bu8OrLohQE4bFpTkrAWpymfdBOlL7Ed57WEI29jfDWHRglPFuBfKF816YZVaLQ8ZBavLDNAHywmimM5UzjM29k+pwQAAAEJBnkFFFSwj/wAAF+jK3pf3MY0XAA4Emm4bvtdovDb88XbzcT9uZvP21K3WyBBYhs8lA7+Oh08c71XFb0SxpslbGQYAAAA1AZ5gdEf/AAAmwvB/AjoW2y/dtBG9B3fmshbD0z7D3vTvFHBD+35boomKnfk8vkDcwiS27acAAAAfAZ5iakf/AAAmx6+V7C1s1qy10U8aSJ7zHT46XDDiwQAAAGpBmmdJqEFsmUwIT//98QAAAwLDylxPgZJBkcAEPqLgLrAnGZlP4wj3dKDoVAHevSIODLXSuXjzghCMZfdm/RDkAu81H/S3XGOFNd2UiciRaF8avlhsHNf7vYS3Wvfs2igmjVctIwKD9ZFAAAAAQEGehUUVLCP/AAAX4p9HQLHryfHcvtbH8k4YXF3h+aG2KRmCq+OYi5qtI+tYQ9AEGcd8PTQ8BEr0s8lnHx63s+AAAAAxAZ6kdEf/AAAln08FFdvVDgaKAMYvEezeZheRIWDckUY8InC7P/vN5XsUWga8tuDTbwAAAC4BnqZqR/8AAA4s/pOfDCo4hQOZXgag7nNk/iHdM4Y/l5hnjRPHlImsgBdeMd1gAAAAcEGaq0moQWyZTAhP//3xAAADAsMFNRKrBAKwXwViZMWohShFOlzOhAVTgO75NnCzz3RlphJKwRnG00T3knIblmumHQpMJ2vVQQxLfXVhLDszDlVC8aIWCkzMxDxbvPDPIE79/vfYd4zH8xs1voZ5FvUAAAA9QZ7JRRUsI/8AABfin0xRs4hwONDxC8RGD4tFL8Lht72qJDtQ3TrUnbnSAhW//wAC2c/X2S8vzYZFc8J67QAAACkBnuh0R/8AACWsN5OCZNUv4aPoQLUWNFQiI8B1UlSMt2SfBU8DrHFpwQAAACIBnupqR/8AAA6ED5xE8lNe0CpTwgB2OTC06aK9MF3xJifNAAAAkUGa70moQWyZTAhP//3xAAADAsPt+YwT2VCtqIAcHBYw1lQ/NwD/e0fndfhVsvnpDPrjmzpRxEOznn9xUVvxQ0rrQw49tJ+BQNHSbWTaqNrEMnp8gfjSIvn7NkDDGL1ht0G4CIYOP+iu7oxSszsTiol2cRfzOCw0J8/dEcX6YH3zaBP6a1Pb1cUkjUlkFKEsg8EAAABOQZ8NRRUsI/8AABfin09QUWvM245vXyrYGXNjjVJkiBfMQJvQ4A3s2l9D8ZhAAQAHFhHzCBBtmYbiTlVExQqpBwlsGgE+bIo4UkuBuhnxAAAANAGfLHRH/wAAJaxCU/H1+0J9XlZLsQIAjVzCEJFgabeWz8ob09Ou2F7vq0qecMUyuigj8CAAAAAvAZ8uakf/AAAOhA+cOcG9XbQx5pJ3w4/d+CvuBPAMRExV/YI174Baiq7ggfYCz4AAAABjQZszSahBbJlMCE///fEAAAMCw/ODHjotllI13ADV+/jrG/soUXUSzKviL3BW787ylZyPNUTYUyqdeutklXlVvzqsEDEAR3ucLFwIlkOovYjnG1stPNVdrvi2vlrZMe2L1RKlAAAALEGfUUUVLCP/AAAX11RyNIjczAqdgRym/5aUykwNSXNA7KhUAQr1r4j6WBrwAAAAGwGfcHRH/wAAJaxCVG1szNynSwY/eIgHDPAW0AAAACcBn3JqR/8AACXHxtglcxGYJvIubvMpV5sjlH09O6kr3WIx85mEeVEAAACZQZt3SahBbJlMCFf//jhAAAEc9kUQcmXG+GgA18YTYQVr9o+YJBFmDuO0L6JwEt2NMCKv3GKxkvy72MHYgJD5jH/BUwVKXs/3i3j4uLZFs6avQqQykfxHy9da9JdORZxs6OxHx7vrGC0uMPEALL49RUrAM/cunqTwD8U9IMqkYw/5QJGxTy1BNrYdYxz8LmBDEvSqy3w8g7mBAAAAT0GflUUVLCP/AAAX6Y6m95Vmg4JREzRULp9QAeBpVxlcu2XhoqKYActu+A59wn7H/zirgTFdP4BABdOCriqGb6eFIsRjZgQQRG5nfS2o5IEAAAAnAZ+0dEf/AAAOLwAYLyQ0zXL3JT1wQAsZ7qMmbGGfQeO8EiQJvbuAAAAAKgGftmpH/wAAJa5fuqXNuYiIoS1Dcg+cM9VGaonwNEpjP5rN7a1oVojiYAAAAJBBm7lJqEFsmUwUTCf//fEAAAMCwwLEgwHcMZo0AEdq0MNi5yBHAlfGXYV7j4fk+4AQ1nqNtRGLDAxz9h3u3R0s1gNehiIhc27wJb5l6TYTAIdk52de8fqmvWdu9svUl09tnhE7uV66T6g0J7Q+DIAE4+1PpWgRDDwQVxzuZSyXhDS2N8x+SsILuZmQTbmJblcAAAAzAZ/Yakf/AAAlvxlgJ7L3vBpjUzopGcS1YKKRaqJIP/GzLCnjhJ/xG70jv96zGHd5o1pwAAAAsEGb3UnhClJlMCE//fEAAAMCxWyakiQOAQqE5Gq+TatHVA+E+txT7k36EwSjBUuOnXF1Y9fkGC+G6bTd7VscReWHaiguMnmllLOk2YaXhIC94EQN7+ZfdUliBYKewi8/+VSjJ8F8NEoGLXGGxcCIsmyMIbD9T8Xl7XaZSxWNfFK6walrSZ7eCRRS+KEPoL0ckF6cO3PWld+0zb6jbnEdxY86dZJY1nBIHytug6fpNxvoAAAAREGf+0U0TCP/AAAX4pi1IITVDRKaoY3YjncXmlrYhF3gPhQAnGm7trrIGfa84czBf3iAxi38w4H6Jy/bQ0IIwnDRQI6dAAAANgGeGnRH/wAAJanq+nD1qw6Dj9D8hEaRgIk0yYYqcVLc+yB1xQj3AM4XwX5wUJ29jwiprbqbPgAAABwBnhxqR/8AAA4majTF3i70xlxRhGwrhM7aL3zBAAAAUUGaAUmoQWiZTAj//IQAABDTjqcbiH2ecrzbMzMiK+YtCWx2TbVAni1RkDJsMzSpWeObc4IBaxD/988q+/2itz0BWVCXJW7Fc590qhkfof3OkQAAADdBnj9FESwj/wAAF+mOoRjv6vsqVyAHNWA8TGA/sn4hLkwf+i0mmmqdBIDbADVlAEkivgDgusgwAAAAJQGeXnRH/wAADiRQ8yXN87ELxJgXOuAob2pk8gBNJTuRVK8OyO0AAAA5AZ5Aakf/AAAlvxllBjQlgWbIaEExVDE+bFfMgFG+B49h1pTT37L0NJFZHvwAJleZmwe6AqdgQTWfAAAAVEGaQkmoQWyZTAhH//3hAAADAaVjiUoY3GxWW4AtFcOHYnp0u4UGOYq3Ifnhb0uAIRJg5+UGthrhKYGhmdBt0FFYJ3ETfML6WBeUML7m3AGK60WnEQAAAHxBmmRJ4QpSZTBRUsJ//fEAAAMBBtg1wGL5mAlTHRrvR3yq+EOrgywHCAqFxjB8NT+WJNRSia7OQHnOZprWt9lwE3Hxlgf+Bb62tYTbz8oT3CRVLHx73zBNELuj2kvoLtVfO2yYTYGUgQXa7p0nzdD7zblF3DjilLPLhdS1AAAANgGeg2pH/wAADiZpClIAAJYp86fHSVTdLclRZSAsJMJO/8TdnEoJ/Tgdk4qsiVBeItgsz7sLPgAAAKZBmohJ4Q6JlMCEf/3hAAAEU3hzvDo0AI60abXvq8YKMA96d5Ao92phc8UeUsAvzNHxeuQWYFj+kCCn/5hRn/HYTKB1LRyf2f/JkpbiOJlTx/3+rLud8DIypjgf3s58D45EoXN1+QIHCJaYXq4HBFEP6STVIBtiNm0cXMsSS5ReyoitgcZE1yxwV/+QhYGWugbwGevRHoo7eTjMr+GuSWoNrHnmYpuYAAAASUGepkUVPCP/AAAX4pMy/JUvCeqsaahEeo4wIceSe3EzrMR31+G8WRyIcRvAZs70t9PeooHzA2wkMpVDgndOCmj3FiMaa/xiz4EAAAA8AZ7FdEf/AAAlrDKRTtDGeo4QACRRAXneBWwJMTrOKz4D6p3XBnnZCah56FYuvfZIYviZNxsqSPXeDze0AAAARAGex2pH/wAADdSfk7z5vDfZaqoAjUUCRuPvsoncAzNn5ZFfOXkRfFHow8jnKi5kWxqfRyuan1UK2BDzOlYJRnXzku4RAAAAVUGazEmoQWiZTAhH//3hAAAEVR6P+vpsTeoKcFK9EuwovaZfijc0dIugb1hLgrdlmuTKGgCN+/y84WlxSOXrBnuA1P7Wbd7p1f37mKH5P6Bvg7xa0lYAAABJQZ7qRREsI/8AABfXVCP3UH3eWAAbplHP3lLo2mxdbEyWNYKh0JT+WLbF7/2r/6NMrL0xAC+9+5+85I/ZzrL/fidR4/JaRr3uEQAAACgBnwl0R/8AACWsOQCs/bqsS2/2ngR2dC+/iQACbpgVHPjmQdmxotlRAAAAKAGfC2pH/wAAJX/CcQF1f8j74hNaWk00Z+ino4cOmmZHFJ10ETTOo90AAABxQZsQSahBbJlMCE///fEAAAMC1PcEfEzLMOr9pAM5LXaA5DW53r5G+Pbkh6VuXApsN9gVg2i7ocThWmh0xh1CGdM7+pRK6WetcCr1OUt5l/yXJrL4eAsg0NSeZh+/R2+yVwI6SbsnRN89wQds+fc2hokAAAAyQZ8uRRUsI/8AABiJdhW7epG/JQ1AK2EP6EBZVZic8DKNsyGcJiecsVgQFc55hSNFLPgAAAA+AZ9NdEf/AAAlrEJLL/7s/cAC56uuV/MH24y3X90SH4O533ggdPNAnD1u8eUWTAZnEuBD44Z8WNa+YFHuflQAAAAcAZ9Pakf/AAAmscwJb6lwASEem8JSgx+m9cbKgQAAAKtBm1RJqEFsmUwIT//98QAAAwLVuAXZiI/ByrsBGQARMZ5ms2pMgYKKrVYG6fT5vdSt84aRTfP/QAMS9fIVzvT5ukDj1TWCyRnVSLc2DI+N0cPh2rXeZRtfJ6sCJPSdPQ7oAEbTeRvVMO3csEZrguUZmxchIjMnL9W2PLrzJD0WKQbUjXeOt7JsqOQjYCPyAir1NvfV/DcFKMRNWtzasrV+vmCjU3phg7umXAoAAABGQZ9yRRUsI/8AABh/7COjqUjXvunpeQwuAILq1B1fNyvqKOsH7M7T8lp2v9lBtTXL1EDBTZEaHkJ4TNQaTN/GAxSfvQGgQAAAACYBn5F0R/8AACasFOkLsfD65jQ449sHhGvmlNooMfDv8+nsJp/Z8QAAAEABn5NqR/8AACauXuJ5Zt8AFs0vOGkqFh0B8bOZ7ZZl+s49PKzoOMBSygtCTP/nuCnCaLaq8xJqVUJfpVAS3pCDAAAAckGbmEmoQWyZTAhP//3xAAADAQ6hrleMNbyDDTq5IBhIaIAC6hS8nL3ItDgnPYxReJ8tsSLuDMAsJXeFmP7IfMHXttJ56JFsQ56FGBREWJfYRBjP98+/brnO4ftQBNOMY4o2mK8ra7uFiOkaCHSD5uG7gQAAAC5Bn7ZFFSwj/wAACS2CDgnHCNIAg6KmcwZHtOBfcl/o/5ggV/hMq9dQOpSJ/kmfAAAAEQGf1XRH/wAADnxSKVGZgB0wAAAAPwGf12pH/wAAAwILlwTTma45mZ9CIaotRyA8hKz44ZLqoQAWLOugdTI/gPeWtnogW3ReVGkVuMyf5dXv41Ze0QAAAJ9Bm9xJqEFsmUwIR//94QAABHNdtHDvtXyLJeMfgDJv9Cfy9ShqtwyPzf6EOk4QsZczwuGJA/rijrS76Y9le3Nw5AQ6S6PoejYgxM1pxS9pisKhZm6xAa/Mo28r7v2An0EllXdDhgMZwuWzNM0fKqM43ZN+neLlhndP9Z2ZinTUUqqYKRIMf8/jUspSPYcQ8fHTMD8IfZxkCG0M5Yh3PxoAAAA5QZ/6RRUsI/8AABiAa7UCtgd7QhuN3jh3bBejuuxLa+7cNHSheVjWtzd4PtnaY7Hg49v1EzDWK9wgAAAALAGeGXRH/wAAJqv4W3gKjI0lSMq2EAglqBH8Y2EXT7AeSypSK0dIhBMAdNVZAAAAMQGeG2pH/wAAJrHMD4yY4NeV7s+/qZbt0WzlWWOGThIwge66Y3sYZFebkp2cExoN+VAAAACYQZoASahBbJlMCE///fEAAAMCxQKwp/QCjRpM+r/EF4md//4HlYYUUSqOtXEEHV9Lwpe9uDpd9C/5Ocz6tchOAmwc2M9ZPpVkvRwnRAINKHRGSM+M4ib1nk6ct9X72cqK8Jto2/2JdAIMqS9XNoc7JquM33XDDnHI3vVKe4WuaYpohm8hmuTBIUpCtq0JdGBi57d2+CAyAEEAAAA2QZ4+RRUsI/8AABfin003JBLsv2Aeh0ifE4dgBUVBhNoPkzFfsAAtRmiDhoGvwIlVGwAVCc+BAAAAQwGeXXRH/wAAJcNHICe7Cw/0v28c3AuME7zL2mXIfcvyfh82BvdJLa3wR4LEJr2+A8IzC9+kAAtUZf3/QgoDKTScnPgAAAAuAZ5fakf/AAAmrvPBbEgeL1v1k3LXxz5r/q4kDIGQ/1cyQvYKaVfIiNo1tdE58QAAAGdBmkRJqEFsmUwIT//98QAAAwLV7vcFQgDFaF/zAZIECA3ZF6B5+Ki+t5jxTmYgb/L9O3EtxcL7szQq028roChARz0077OWaiFpLZdff93dvYUDh6gFzluKKGJYe7QjWARdLMZ/D9WAAAAAJUGeYkUVLCP/AAAYhuZ1DrLQduaneiEFGZaXUhF1U0wKeQNWOUEAAAAYAZ6BdEf/AAAFhG9RGYKQn0Xol4ERCJ3BAAAAHgGeg2pH/wAAJrHMCViRiOcUS/f5FNyqlJwHj6pZUAAAAKJBmohJqEFsmUwIR//94QAABHNbtGNw9l4Se2GQf4CH0H0XGK2rnc/+vcojcw3zhpEwzSUD/e301Fh8CyJf8TE77j9XvarP1Rl4qncvew24tUANlw9qJNAYvvwb9WDOc318lj/2H12fXKopjDdQEcKKcQjgbx7eXO59haPfrXuip+CGYi0StR3fIxgi36TtVJtnku49U+t4MViyUiLqZ08bcoAAAAA+QZ6mRRUsI/8AABiAh0gtT6MJ3I2DNolsJq44IxKGWwwEOEYAaxCvfP1/c4JlMyxZPHfGlhBTeoOeeak5bPkAAAA/AZ7FdEf/AAAmwxdeO3p7WXkfFSXUOvM9QA0zY/UUIqGQ2uOsTpStzQz9rcstQAfHyFk7tER/4DnNWPaHJtnwAAAALAGex2pH/wAAJr8EJZI7piz9M4diBQgPq6jtrqxQp/qI4sP1WEenlqLkqX3DAAAAwEGazEmoQWyZTAhP//3xAAADAtT3r9NAMwyFYMsIDYiW/5nkrdRU/jH/K4PeZAaZw0wyCDwU0ENpjvAklxszIEgmCbh07bzAWJJVcVp/JqJW0s9h0C7g/gjDtDmsMcb4NNw8slJ9m84dk8KhxElJR49LGKaq9B7XlOJUhK3PspDQg3JLfx71SDB5eeNIUisO1L8cqc93MshbSU4e6kGk+BGI5psvb2sAt4hmcKrhljnFeEu/eOqFkRv0EHX9NQJMsAAAADxBnupFFSwj/wAAGIjKlGRc1iukwZYFZzkSGhXYlxa9lfcY5S3Y+DEHuT4EDP0jdAe0AoqdvktHMII5VVkAAAAuAZ8JdEf/AAAmwxdoqaFQ+AzFWx9Nu98K/Sg2NsLClU2KJYo71aDjjpiTs8ua8QAAADMBnwtqR/8AACauXVTj4dpaAz6MtJvuvtM0AbwNjskbQ8nWbtgZzVpODc2eaButEr3ncIEAAAB9QZsQSahBbJlMCEf//eEAAAR03SAFESxhK3vbKsASU9TNl1RBEMJnNrPYDHSKgOF8Dah+Hbpuud9i7+H1tsHGNa3OeTVBaQxbH9gxTKDd5W8v7oIBJamaDqq01NglzApiESARyDBPGWGE7taKwyM0FT9n2YjsAW3oe73FWP8AAABCQZ8uRRUsI/8AABiJg83P4GiQFJO3RlC3k2al6kOS+BuvEY/TaZ7tYNdFNVD0EoA5usMAGqRTbAF7Tj7lZ6NCms+AAAAAIAGfTXRH/wAABWMPrAYbwcL6iYhD29ydTxdNFvAH17pgAAAALwGfT2pH/wAAJrHMDbe7fb3uvlA0MUyPKgTlqnmspBGQLlMwXRbfIMs40rfE7L8rAAAAcEGbVEmoQWyZTAhP//3xAAADAtUFHT9gCqp/mzMZoJnPt/wqubosBoijzW/TLEFA4WpunDIh3EoQw8qBz6bYLczlOGtbbdVsIRNA8bIKrekiENcTVd6/bV0iW0nTIIQkfb2wOWaPljlW1EMRsP2p7xAAAAAwQZ9yRRUsI/8AABiCazd4kb2ibCvFwjNRgUR0CWgSkFlTdPgIzJ4jh7a6CN2BD2VAAAAAKgGfkXRH/wAAJsMXafBiOXJv9QVv+ySt4Nv3zKcr0XaE/rbIZvRa+Bp17wAAAB8Bn5NqR/8AAAMCCyLt6+Vv9Zo74Lu7BCmAYc99/R7hAAAAikGbmEmoQWyZTAhH//3hAAAEdRWF5c2AF1mnf8tahAUIPpqUipgTEmiaPkkYuRIt5R7AeYfc4uLr+CrHzEyyP9aHbwkv5Z3UUu76eByRUqcTtF3bhbA7hhCKth/Kiy23qhQteCVZzr3oBcWNVPv6AEW+F/B0cpA9Sqappt3rwDgG+3o8CPhr9M7EIQAAAD5Bn7ZFFSwj/wAAGImDzYpIHJOJuMReY6q8SoagCDgYKXm8Up1CPxllSNoCqgRngni2GKLl2FLh3pL+9M77hAAAACABn9V0R/8AAAWKhP3TNDUHU9IegwbUJal4d2ztOm7ZUAAAAEABn9dqR/8AACaxzAy9PnyQ2juxeWrJ7UNiZ/N6Gr9z4AC0ZyokYe8DsgPvmLb0F732LvRmAfuDokm1hicDGRyhAAAATkGb3EmoQWyZTAhP//3xAAADAtXIaQFt2mUFXwxxOsmMTWs3aHuFJgjsJQlK2ipUHNtvkwAoIirLfv0UWjyvqKsagX7Qf5WJmM6RGjsL2AAAAD9Bn/pFFSwj/wAAGImDzcy0i9gNxU78UejSvicX2VKPXaRQ/UU+q6+L0+8fHe4+TzMhal5mUKbi0NVI8rqU58AAAAAcAZ4ZdEf/AAAOfFDwzUPFWq6mIYL60jckSUTHuQAAAB4BnhtqR/8AACa/BCcSyWmauQ8uq9E4LMdEckSzwO4AAACDQZoASahBbJlMCE///fEAAAMC1PbYZ4xjJUgki+kkYgAqTlj9L+eFz5iQwS7+vgMOlR2uxn9ma/0/NflB99ySaFMcKGYyFU+8NM/YckpGDIMyFQWPQ24P7kg2ud/Zc3p0PQythxUL+XzIXEpKi12OqCy3fonmfu148qo+4iMXHxGcwEEAAAA8QZ4+RRUsI/8AABiJg8wMfolrHW3S98YOVx7LS1iq18rTTBWiEqEcnARwxAmfYQ6EwtWRuve2k+o/sbsrAAAAHQGeXXRH/wAADiRSmnVX/WEPZ/fc+yY72ufsSj3AAAAAKAGeX2pH/wAAJq5eM4F5QdyXdsSsZHUbgxC8dSH8zPXREiGLESM0vZUAAACAQZpESahBbJlMCE///fEAAAMC1tQWt4XQKAuEf+nV2n2QJXpHkevQZGOEq6gsYQuy+b4EznAnVfvBCiWXU2VSy/ZcDMZ6hxxJzDXWy0wX/6+tWdbE1N98agTHrKOR1tSkv/oOaF85rt2w5LM9ffbEfGIgZvgPd4OwQEIjsKYz5XAAAAA5QZ5iRRUsI/8AABiCazMFZJuGBhqFXF5LVVQ2oSM1NItk+nukZTJ5yzK7W0QinaP3v5UYtrFiC7hBAAAALgGegXRH/wAAJsMXaJdHLIWtVSkuF/PfGSZo1/lp5dts63ZDRmxRLnAIRp8uOfEAAAAvAZ6Dakf/AAAFikU4Vblc2GTQ7kpaVuDRg/T0HiRfJuOpfr8AqgR0LDkd8nyWz4AAAABcQZqISahBbJlMCEf//eEAAAMBsIJN0/AA/bRTvqTok9I4N/oq1L8JPPrGIix7yBDFiwnvMsNAOf4AkaYTjyLjhpbznApQqwXTIIgnmEkPKq65cmrdwmrH+xJ0XtAAAAA8QZ6mRRUsI/8AAAkvI7acgSNoOJtR9DhWiNIOQA0OQyuC2GY9SqP/5P6ZEsZ5QP57JArGveqgT0D6v7hBAAAAHQGexXRH/wAAJsiTCMwNrzjCV3OylrbksGw2p0coAAAALwGex2pH/wAADoFXD6l+WLpP3mdCa1cH4oRRWVKHRRVj7r1subH/4Lm6SPz8zXcJAAAAbEGay0moQWyZTAhX//44QAABJPrjgJ6AI4GcLUzih0u1zYm6iQh3L3drGqPKYFZdDREBRL5vWn5iSUggRUME5p9+PrDFmaqSRZxMmsifUTjriJ5eef3yCvdEghey3JixIP+tn+tiiSX8T8BBsAAAAC9BnulFFSwj/wAAGImDzRyWtbBbsI+xMasBgufYB9Se/XdmtKpZSOQ+tMy0NZ7KgQAAACQBnwpqR/8AACaxzAlvrEDWnTSJimyGJpwDR3feX3+x5S3WwIEAAACKQZsPSahBbJlMCEf//eEAAAR0ue7xtBLwpaEQCYRJ6gH5g32XvTDwn3iqi+gl4fuRotUD2D2eUEqCqpps84vGcyT/AhOZPIo1Ux2s3qtbO2R/kPZ9G3XP7VSneC3M/Sd+luVFMBC1sPL6HaqBMMZOr6eb8ZaXeh2RSUYbsr/waBqKoaXFXS0ysfrtAAAAN0GfLUUVLCP/AAAYiYPMp/R2v2hTvJyuUTezTAABxmmcJHVTaX6vvMWQ5D2gzWgrKaZovOA0GysAAAAhAZ9MdEf/AAADAfyxnmiA8MoElf/bwWA3IbOfYqJ7M2VAAAAANwGfTmpH/wAAJrHMCsXAAtGedPVphnUU5BMAaCyoZfwWxtwwQhSE7q9PcNhw2Xt+ErIsG4Qaz4AAAACqQZtTSahBbJlMCE///fEAAAMC1YW9QDnKOBAcMcVKX0uuB9tSBBQtjKgCJXpmOqqFV0b01J26oos8BVkKJNKCvqzoNxswIhsHKNmKQgqWF71k3bQQMd1P23lpThHQLpJsoWyyUoxOy/r3g8Lv/oablXn9lLm9Tg2gj95iQAHssMlbxdxcoDG4uJTCYdckrnVrQ6+CBBsp4g5Y0WcaMGCWeAxhQ+xKrQaiWDkAAAAgQZ9xRRUsI/8AABiCazdrWl64ooQaBd8cFKohO5X3FlQAAAA2AZ+QdEf/AAAmwxdp8P/MIfTtnhPKJGMCKr6wZpqH0rNQIcXX4VuO5Kuw1TXdbIPVZCnupza8AAAAJwGfkmpH/wAAAwALWUiEMNqxeotSEigAmCe/dnV+/qlKLfDJFe2RZQAAAHVBm5dJqEFsmUwIV//+OEAAASVPJefgkz7J3l/Suh/wxBqS0+5yfQx4eToUbszZWHYtmFbb2z1uXdEfnp/+6YP7z/QsjVNzt7cDyww32kjSnqFtKz5bFycgE02pa6UmFeXMTxqTZ4Yj3/g60ufrNWCf2aoO1ScAAAAvQZ+1RRUsI/8AABiAh7cM+pXDLEuA9PpsIoKRj4HomZ4vMfmi3oB/htJJxJET73EAAAAxAZ/UdEf/AAAmqenHFEdbEZaTg47U+Xarul3knGfhl/9twYHmHWmjjkI0AB/h/EL/BAAAAC8Bn9ZqR/8AACa/BCWbyDaxGlMRKr96kDvheY0bXh7DJrfVqizZ+7GJyqhD/pJ9lQAAALpBm9tJqEFsmUwIT//98QAAAwLU9thoY0Or383Ch6j1achrCZkHicXQynm7xGIDUdibtkCR9GQvYgtp1Nz4oX4ek2C8qNYfMmbtYslbP+fz4scouLU2wncCw9Vukq3f8MHvqueSWdYoPvfMacxmk4aP6BPtLWLsA7uUVLVBBVFeUjjuBDuUgqiong72ymucfxlg/TIuvhWvlXlEWFFstcrb/BgI0GI9Z0sQ7UDBccwIgjurWvC/7yr9kzUAAAA6QZ/5RRUsI/8AABiAh/txfHGUKDw4vH7gOJAiLe9PjYZnYSTe1fErgH7ok4AAEN4YUViHwnblzGr9qAAAADcBnhh0R/8AACbDF2ipnfHZDO7cFqAAS8g66w9yx8UZXp0xheBEYXAACZhFwpWruNZ3OGYdynuEAAAAMgGeGmpH/wAAJr8EJm8rTzNE+57yemCarzL3laeRm9giMrui6TTaSmGG2A+370eHQbKhAAAAVkGaH0moQWyZTAhH//3hAAADAa9l7u/Nj2fRXqXcRawTJD+KUKCQ9O8C+w5w3wQDUpBGhirRPivSNMwRaqr6uX9xYTwGFZniytLkYfczplrIKyIa0lVAAAAAO0GePUUVLCP/AAAYdMrDiQAliFszneLx2jutxDq6uoIodpZaSwcCYjiiwoxH1E2SW/yamoHAK0D8o9nxAAAAHQGeXHRH/wAAJsNCWCcPIH8eW55w/m96hmDT0RRZAAAAIAGeXmpH/wAAJrI03FPesPcAwOMaH59XV2JDgpL/FmvAAAAAg0GaQ0moQWyZTAhX//44QAABJZLrsE5tCmOABVIfNgtIH/GZHcEJ0LuC5NcIf5UJ6X26SiroSL/XdIVeJ3yt4f/rLKQ/zBwYY8fRWVjTIU2SSpLEwMIuy4DSKtNFce1MOYJ3Q0FvKRK1vzFKYyJyx9kDWtio1lDgRwCHG9P0v2o5eSiBAAAAP0GeYUUVLCP/AAAYgGu1BcOKAfaz75gxGF/HQ5jH+LhPYZOlifZOyemZLxzGOAs6WU8ANA+P+Alb5MsI0u/KgAAAAEMBnoB0R/8AACar+FvGQAAuoA/Pv+OlnUXyD+8HPsrWPoJaXBXXzl2eb3Rcx5iMOEP+8LS6ycg9FiVdp5e2vDTaCk2VAAAAKgGegmpH/wAAJr8EJxOhDhyoupkePvg3JIWaB/CJJzsDGTTCMSmwHNWsqQAAALFBmodJqEFsmUwIT//98QAAAwLVBR0/YAbxNHHBeCKO0y7MXjs59RzYeMQT3ZofccTv8DsIZt3wUdQiEINkoKODyfICT9JRdAd6JbXc4CoUeuQ9Usz8a7sP1TPyP+NwFiXVA0I8VHapp3HJDGJKqcjmPi+p1XFYpuF1zQwDW0m7W2pf22gjByuQN0NyhpVH5uslohVVInQrRo9rAU4DvyocLw54PoCuxMtOXUwl2GDumjMAAAA9QZ6lRRUsI/8AABiJg8y01yIOCiqUO5yeO+kJp7mogZY4ZL6tlZTeYXCED3m61s+hcXdAoaUW8LUeHcmuUAAAACwBnsR0R/8AAA4kU77CGUKr64kiiPDSj5M45I0PqAwkzvHyfrHJIph7fybKgQAAADgBnsZqR/8AACaxzA3XKnvBiZwCzqmd4dNeNr/cRxmHYoHSLGbe2VtDfMMzwaw3KqEZLnaRgubXgAAAAFlBmstJqEFsmUwIT//98QAAAwLVyGkAOVW6Bvg6AINBW45Up4oh0TbURkOYpUXI+9fhznQ4tcChU9w12a7lPLypkahkXeLCgsBmY79D+BloMJso9oC4IE7OVQAAACZBnulFFSwj/wAAGImDzMmsVzTsW1nH3zvJ8vrAAAY4CpPPhBOCygAAABMBnwh0R/8AAA58UiqxmcVMYyvhAAAARgGfCmpH/wAAJrHMDVFNtR020L8AraNbz4ygEauk3xUDvkNJEEpYCjz7HttM9vt+MjHcbcsACGcU8bwx0IJOmqES6+L5OVEAAAChQZsPSahBbJlMCE///fEAAAMC1Pbas32AclSPCw8FmSAdOh2ADu/EaOW60kKmrwpS7X1AdDhozsaDOylByr+LzSipvqme+bq+mJFpjeQb4WLKI/3zgTZcNyLFRcruoEEx8nbJdSu1P2qRAw8fcCV7EmQhze83aXPj86UUGi8Dsu9Nd+anzqphTtlakjzj/1r1A0DvOHwQYtdTn9obE+RTQUEAAAAsQZ8tRRUsI/8AABiAh7cNugvqTXaSQUsrAplZ9s/h2ibOUm6hPksV/4jkHKEAAAAbAZ9MdEf/AAAmwxdoqaVT3Uj54JqcFLB/XxsqAAAANgGfTmpH/wAAJrHMCW8mHEmjVUCAArw0j0KS/phHzbmnCXbBXcp6XVj6UtHoYqgribr0pzHPgAAAAKhBm1NJqEFsmUwIR//94QAABHZHr9Up+AoI6OiyjS523rMqS+eS/xNXevBaqN9DJWsOGO1c7gqYDfcVOEQbz+Fg2MLMQtgB+EK7ThGsp7fERYVrJxXciQmojxLFj3/ENLp4sc4oC3yD4vOjk5INJPXSIgwuCPB8B3nhdbHzGGcHdHixf60RoZGM/NKpMS1O+ajFSV0J4ZmJIzmhPNDCr/tlwh+gKnTVnKEAAABGQZ9xRRUsI/8AABiIyoKaROhMaXdgRq6yTX4RHt7zmsRcTMRxVg4b8QjHpcKULik0a6bkyYkL5XEzr1hIHGo8760AXjbKgAAAADIBn5B0R/8AACar+FwvW4mEo2AEAw4yuocb5T6KkXcat8polU0QZ6k7mOJR6oWZu7tVYAAAAC8Bn5JqR/8AACauXuJ7CQNanrUW2o051Bh8R8Lt+pyT2HHzo6vPJIukLnAepRJZwQAAAFtBm5dJqEFsmUwIR//94QAABHe1FQ2XZknuwd0p8uVZOYdiF/EMHdQ5MSJ5WrgA5XkzZ01niXz54fhAb4V/byJR7e0Ra36Uy3ZBSNMWh4wKsVMtn/iiK8MYyD5VAAAANEGftUUVLCP/AAAYgoQF+0WAEviRsAOoABttYpXTlCwj+YS2TzlzpTb+h52qymMqwgQM9lUAAAAxAZ/UdEf/AAAmwxdqNwuJtqtoAXgG6wQS+2XF52WaS0c5PXk7RHkOPWcnYW2GaBox7gAAAC4Bn9ZqR/8AAAV6EbhzbRM/KeiGZpYWRnbmISeaQuMedUSh5wGCIg03u2yNbvZUAAAAsEGb20moQWyZTAhP//3xAAADAtUFHTZEnd7OIbwDVll4Him4OETZBOnAYsPKKvLiqyxHmivohgG4yLA6HdIPu0N1CGN7fDKG2kVht73uz+xJsJqsbIy847AWCobntyyrjnC+3hR/Dsu7GQINM9GJr2YsKGNoHBoo4m0aqigWVuZqKMdr01zMqqor8iRySaVNPi0cOJE7LECHNXXwnyoIwl/Uw4Qb3LfoojJQDGdmnCKBAAAAQkGf+UUVLCP/AAAYgms0wd9pctO7wB8YiqlCvVDi0WLb/L1wbQ126MqhFfwlF9Z1uKnKBt8KvmM4t6SMeK3sXpddwgAAADABnhh0R/8AACbDF2Ku+IYoIBQq1WCckSINmeAod/5ES/XHvfaEM1KgYLfHATqoQ7gAAAAoAZ4aakf/AAAFiyDlpjH14Ay+dFZeGI83YuWJv2IfJ9L7LUTkURI7UQAAAMNBmh9JqEFsmUwIT//98QAAAwLXs749XwFC/ke4UhOfUwb3YvjMhoOntFHC0G4CJHqQJ4nYDKlaBZkH2H9sRzkKeNDQQk6m04GsFBjs44RKjSUAtnN9tvHXBsZc6skmw6v8RII16nlyHOKpsOp0zbF+qm93AD1oCZd4qMxOdL8IHHRB4e3+lhN96oEFBXgDKypm5b8RK2htowdq9bPZaGTOcQe1PgD53DqNOGdtRmwG2u3krTzXb43Psg18v8fhNYmtwFMAAABJQZ49RRUsI/8AABg1eFcRT5nohVJujAvSo3Q5oWfciDVObQqzGVZG++9RSsF0KbfNeFfRsET6vrNACRtFpI/dPF+zR/PuoFHbywAAAEEBnlx0R/8AACar+FmvMDs3RBWZrYkEjsx/edNJoqa/jP/9XwPNttpQAmkqFElc1CeJOaVjKPetK9uGwnMU/kH8EQAAADEBnl5qR/8AACaxzChVB0zTxsYA9amCB9uUvqAaIzM4z4qmESsaPnl44ABO7HURDniwAAAAbEGaQ0moQWyZTAhP//3xAAADAtXy5agEYIyX6OclSzKaf+TL8ctOE4vxZkEDivhKrhW06LPLfPxulqTsKgXHbbiAHQK3mUpyYtD/Oi8Ai3uxtqHaMzDIdCatLK4JJPfnSbn3LWRjMJnJKzjmgQAAADFBnmFFFSwj/wAAGImDzbcVzLNIh64llp0SXajKPscL+DRyfdcAJY/LcQQs/ZENdOacAAAAHQGegHRH/wAAAwIaw5B1pPCjulhPKjYpx91fLsIPAAAAMAGegmpH/wAAJr8EJxPG7edHQRhm6BroZthl+yNtDs8fXlgTjtDz4J9iRWIbGPfiwQAAAIlBmodJqEFsmUwIT//98QAAAwLWs4XmapA4IcJchd7qlhPwSvmc5sT9Zy/QqHNkerZozk283hOg/8NqhSzhpEVEdkQTa0DHKlVJEEDR2JtHKgEM0JzzVZyrpjIChlEF7wlMrL33VGnEFBLGwk1t5+IcNgLEJAziHnPGrC+YtDYGZf+yFLU/vFsuaAAAADhBnqVFFSwj/wAAGIl9LlWj0WGvGA3kYqRL+XNXvb9oxsarlPt8lU+Nfjk02KrVdCe5qIg+vvKP3AAAAC0BnsR0R/8AAA6FbhZo9T4776t4AvlHP4Qy9moAAGqJh6OpZHZiH6UgDpTo5ncAAAAzAZ7Gakf/AAAmscwJbxoK95zYZZONJKgBbGuPCXMYGKLPYzRhLcsxfl+VX95Nir3tzj44AAAApEGay0moQWyZTAhP//3xAAADAtascovu4ANvLpQsTTrPct30EAL+g31zsVxyBlMGFY2nG2h48DV9cn2EJ44qb55cmzVWq6FWKBDLQpNJ0t6Cki2+GKMReLlVf3Yju/Jqep7cnoTbVNd9JnlPYFk/Mj/5swfaBtflanHqLoAl6h9YFH+AzUh2G8PROmrN7yNEmmDNVP0ljSKoCIxwV5W77mMTUQzBAAAAOUGe6UUVLCP/AAAYiMremEZkQ9MJscOhsg3eOJCTx8Qj9OZW1PsolwT4ARAgWhvzIn5iBePpTaxYEAAAADkBnwh0R/8AACasOQWDyxIgALhhA1uXkChjJFxwL4H9lUMZPhXziy0qDtqPypEmsP+2NQLhDTaV3XkAAAA3AZ8Kakf/AAAmvYQd/UDC0UCbWTrLKE+IHo1slZQI4ORvxJi08PRrv5XNlqO3msFXDM2Px3NlQQAAAEVBmw9JqEFsmUwIT//98QAAAwLV7d8ML4BwsRopdtY+IBCoNGfadBo2aVmCLj14AUJDgvz3D3QKifpfYuGJ1YF61PjqEUEAAABHQZ8tRRUsI/8AABiIyt6OYiURurjIncrloL36FFYM9fEhOM7gfKSwUS8wSYBeA92z5/JekrABaZlkXG2OrQF1R0FVe4HRZ8EAAAAhAZ9MdEf/AAAmrEJUJRR3Ut0A0w/LpYNTza54m/7F2v7hAAAAHwGfTmpH/wAAJr8aznvdt42Q+4FPqLzPS0KfC74oDZUAAABOQZtTSahBbJlMCP/8hAAAEUwXN1zloASySrDH/dj3hX+aSVplG46yQUVBNV2RJ+hKqJsgMcizC3KCyqymKYBLxmJ9FDgkjD2Zp3NCFMvBAAAAQkGfcUUVLCP/AAAYiY3GQMA8hACt28DTT2+Ru8mMSzWtiea8U4atYAwJdBe8ok9s6Fb+mhdzUEmq0hceVUBoxflZUAAAADABn5B0R/8AAA7djYNx4nHMMB90EFMbcnv6ZHUw7Wq9KMVRY2DA0M/5F3yGlsL75UAAAAAzAZ+Sakf/AAAmsjyu7itIGAwuSiZgJ9RUaNBS462oDWx1+Y0XXZNAdkSsDsuRO9k53rKhAAAAUEGblEmoQWyZTAhX//44QAAAblfWAobkxbe6Y7lw6n7/2yduae1j5Suf2k7CN3FoIQ7rNDgQLm+UApJNuhDsqBumq0kr+4sI67GdafT8FDOpAAAAakGbuEnhClJlMCEf/eEAAAR1FYgzi6j8ACMhQA2bzsXoYtyMUP39jPab4u4vQBOmZdEmY0dVuabYfgEmfAMQOHsp2SerPnBAK92acAIkyXT9xhlZEgdc1Cx6xfgCvh87r7U2W7GOOan97zsAAABIQZ/WRTRMI/8AABiCmK5KIAA3VAK5G59ED9bhu0TPV0PmcuQjpuM1+PGRtvsmLqhDzaqCnWHLTUTKxInwSjR7ZZhOMDgHiP3AAAAAKgGf9XRH/wAAJsM+DZozg8dWMtMSOEI5qxG7l5NXZ2dIA4kyI5UWNVm+OAAAACcBn/dqR/8AAA526T0wE6t7iG5Ll19f6NHM059JwjFMgK2eXrDVO4EAAAA4QZv5SahBaJlMCP/8hAAAAwJ7X8053zoM58VYnUnC4QLAFBp8/xLL+Q1dNKUoQNuDM0Ms0YLKbcAAAAAZZ2QAH6zZQJgz5eEAAAMAAQAAAwBkDxgxlgAAAAZo6+PLIsAAAAHVZYiEACv//vZzfAprRzOVLgV292aj5dCS5fsQYPrQAAADAAADAABNxUTOiwpjxNkAAAMAXEAR4LAI8JULYSEfY7fE4JjdsAAuif4AXAvjE/3WkBLRU5321K2zujS1T/kHnj3gQqeqTCgC77zlFpvrMw0QxV2JXaE06PC84t6LEddLhw/l9MAOXMmsqONQmKqnLrFCziB8qcu82Q+WPBkixLZQEJCpZUFKNQZOrA/dKv+Cp3AXTF73BxkxIlnUHSbo/iQvfLBcHYYGrQVCKBNcQdXZ2e5ZfjEwAMjBVEMNQQNPq4aHl15RA6yMVX6tNFZEcjeFouN5p2O093eZd/jFw2jg9OM3F9SzvIndj3wN/R5ySrjSjqG2FG9lqjIC40Z5XTPGsfbJitlgyNz/UMgm6XhACqVULmI1UugnUFxa5WP71qWxsfLgFwSlR7pvMPtzKDOm8K8Mml8Q1btkBYaTP4qs7CSSvaKQu+7JRlnsVMCtIZjVwQ4iZu8POo3IBH2DaL3/sgDttwLMs80oQnTvBWKubsZsJfCizAD6fDtRfM4Q4AKz4E+vy4prX7QYYuF2K3haNOyppWjl/BQD49b6byAA1gABMljKItbAAEkAAHMAiQAMCAAAGlZtb292AAAAbG12aGQAAAAAAAAAAAAAAAAAAAPoAAAnJAABAAABAAAAAAAAAAAAAAAAAQAAAAAAAAAAAAAAAAAAAAEAAAAAAAAAAAAAAAAAAEAAAAAAAAAAAAAAAAAAAAAAAAAAAAAAAAAAAAAAAAACAAAZgXRyYWsAAABcdGtoZAAAAAMAAAAAAAAAAAAAAAEAAAAAAAAnJAAAAAAAAAAAAAAAAAAAAAAAAQAAAAAAAAAAAAAAAAAAAAEAAAAAAAAAAAAAAAAAAEAAAAACWAAAAZAAAAAAACRlZHRzAAAAHGVsc3QAAAAAAAAAAQAAJyQAAAIAAAEAAAAAGPltZGlhAAAAIG1kaGQAAAAAAAAAAAAAAAAAADIAAAH1AFXEAAAAAAAtaGRscgAAAAAAAAAAdmlkZQAAAAAAAAAAAAAAAFZpZGVvSGFuZGxlcgAAABikbWluZgAAABR2bWhkAAAAAQAAAAAAAAAAAAAAJGRpbmYAAAAcZHJlZgAAAAAAAAABAAAADHVybCAAAAABAAAYZHN0YmwAAACwc3RzZAAAAAAAAAABAAAAoGF2YzEAAAAAAAAAAQAAAAAAAAAAAAAAAAAAAAACWAGQAEgAAABIAAAAAAAAAAEAAAAAAAAAAAAAAAAAAAAAAAAAAAAAAAAAAAAAAAAAAAAY//8AAAA2YXZjQwFkAB//4QAZZ2QAH6zZQJgz5eEAAAMAAQAAAwBkDxgxlgEABmjr48siwP34+AAAAAAUYnRydAAAAAAAAH3OAAB9zgAAABhzdHRzAAAAAAAAAAEAAAH1AAABAAAAABxzdHNzAAAAAAAAAAMAAAABAAAA+wAAAfUAAA9gY3R0cwAAAAAAAAHqAAAAAQAAAgAAAAABAAAFAAAAAAEAAAIAAAAAAQAAAAAAAAABAAABAAAAAAEAAAUAAAAAAQAAAgAAAAABAAAAAAAAAAEAAAEAAAAAAQAABQAAAAABAAACAAAAAAEAAAAAAAAAAQAAAQAAAAABAAADAAAAAAEAAAEAAAAAAQAABQAAAAABAAACAAAAAAEAAAAAAAAAAQAAAQAAAAABAAAFAAAAAAEAAAIAAAAAAQAAAAAAAAABAAABAAAAAAEAAAUAAAAAAQAAAgAAAAABAAAAAAAAAAEAAAEAAAAAAQAABQAAAAABAAACAAAAAAEAAAAAAAAAAQAAAQAAAAABAAAFAAAAAAEAAAIAAAAAAQAAAAAAAAABAAABAAAAAAEAAAUAAAAAAQAAAgAAAAABAAAAAAAAAAEAAAEAAAAAAQAAAgAAAAABAAAFAAAAAAEAAAIAAAAAAQAAAAAAAAABAAABAAAAAAEAAAUAAAAAAQAAAgAAAAABAAAAAAAAAAEAAAEAAAAAAQAABQAAAAABAAACAAAAAAEAAAAAAAAAAQAAAQAAAAABAAAFAAAAAAEAAAIAAAAAAQAAAAAAAAABAAABAAAAAAEAAAQAAAAAAgAAAQAAAAABAAAFAAAAAAEAAAIAAAAAAQAAAAAAAAABAAABAAAAAAEAAAUAAAAAAQAAAgAAAAABAAAAAAAAAAEAAAEAAAAAAQAABQAAAAABAAACAAAAAAEAAAAAAAAAAQAAAQAAAAABAAAFAAAAAAEAAAIAAAAAAQAAAAAAAAABAAABAAAAAAEAAAUAAAAAAQAAAgAAAAABAAAAAAAAAAEAAAEAAAAAAQAABQAAAAABAAACAAAAAAEAAAAAAAAAAQAAAQAAAAABAAAFAAAAAAEAAAIAAAAAAQAAAAAAAAABAAABAAAAAAEAAAUAAAAAAQAAAgAAAAABAAAAAAAAAAEAAAEAAAAAAQAABQAAAAABAAACAAAAAAEAAAAAAAAAAQAAAQAAAAABAAAFAAAAAAEAAAIAAAAAAQAAAAAAAAABAAABAAAAAAEAAAUAAAAAAQAAAgAAAAABAAAAAAAAAAEAAAEAAAAAAQAABQAAAAABAAACAAAAAAEAAAAAAAAAAQAAAQAAAAABAAAEAAAAAAIAAAEAAAAAAQAABQAAAAABAAACAAAAAAEAAAAAAAAAAQAAAQAAAAABAAAFAAAAAAEAAAIAAAAAAQAAAAAAAAABAAABAAAAAAEAAAUAAAAAAQAAAgAAAAABAAAAAAAAAAEAAAEAAAAAAQAABQAAAAABAAACAAAAAAEAAAAAAAAAAQAAAQAAAAABAAACAAAAAAEAAAUAAAAAAQAAAgAAAAABAAAAAAAAAAEAAAEAAAAAAQAABQAAAAABAAACAAAAAAEAAAAAAAAAAQAAAQAAAAABAAAFAAAAAAEAAAIAAAAAAQAAAAAAAAABAAABAAAAAAEAAAQAAAAAAgAAAQAAAAABAAAFAAAAAAEAAAIAAAAAAQAAAAAAAAABAAABAAAAAAEAAAUAAAAAAQAAAgAAAAABAAAAAAAAAAEAAAEAAAAAAQAABQAAAAABAAACAAAAAAEAAAAAAAAAAQAAAQAAAAABAAAFAAAAAAEAAAIAAAAAAQAAAAAAAAABAAABAAAAAAEAAAQAAAAAAgAAAQAAAAABAAAFAAAAAAEAAAIAAAAAAQAAAAAAAAABAAABAAAAAAEAAAUAAAAAAQAAAgAAAAABAAAAAAAAAAEAAAEAAAAAAQAABQAAAAABAAACAAAAAAEAAAAAAAAAAQAAAQAAAAABAAAFAAAAAAEAAAIAAAAAAQAAAAAAAAABAAABAAAAAAEAAAUAAAAAAQAAAgAAAAABAAAAAAAAAAEAAAEAAAAAAQAABQAAAAABAAACAAAAAAEAAAAAAAAAAQAAAQAAAAABAAAFAAAAAAEAAAIAAAAAAQAAAAAAAAABAAABAAAAAAEAAAUAAAAAAQAAAgAAAAABAAAAAAAAAAEAAAEAAAAAAQAABQAAAAABAAACAAAAAAEAAAAAAAAAAQAAAQAAAAABAAADAAAAAAEAAAEAAAAAAQAABAAAAAACAAABAAAAAAEAAAUAAAAAAQAAAgAAAAABAAAAAAAAAAEAAAEAAAAAAQAABQAAAAABAAACAAAAAAEAAAAAAAAAAQAAAQAAAAABAAAFAAAAAAEAAAIAAAAAAQAAAAAAAAABAAABAAAAAAEAAAUAAAAAAQAAAgAAAAABAAAAAAAAAAEAAAEAAAAAAQAABQAAAAABAAACAAAAAAEAAAAAAAAAAQAAAQAAAAABAAAFAAAAAAEAAAIAAAAAAQAAAAAAAAABAAABAAAAAAEAAAIAAAAAAQAABQAAAAABAAACAAAAAAEAAAAAAAAAAQAAAQAAAAABAAAFAAAAAAEAAAIAAAAAAQAAAAAAAAABAAABAAAAAAEAAAUAAAAAAQAAAgAAAAABAAAAAAAAAAEAAAEAAAAAAQAABAAAAAACAAABAAAAAAEAAAQAAAAAAgAAAQAAAAABAAAFAAAAAAEAAAIAAAAAAQAAAAAAAAABAAABAAAAAAIAAAIAAAAAAQAABQAAAAABAAACAAAAAAEAAAAAAAAAAQAAAQAAAAABAAAFAAAAAAEAAAIAAAAAAQAAAAAAAAABAAABAAAAAAEAAAUAAAAAAQAAAgAAAAABAAAAAAAAAAEAAAEAAAAAAQAABQAAAAABAAACAAAAAAEAAAAAAAAAAQAAAQAAAAABAAAFAAAAAAEAAAIAAAAAAQAAAAAAAAABAAABAAAAAAEAAAUAAAAAAQAAAgAAAAABAAAAAAAAAAEAAAEAAAAAAQAABQAAAAABAAACAAAAAAEAAAAAAAAAAQAAAQAAAAABAAAFAAAAAAEAAAIAAAAAAQAAAAAAAAABAAABAAAAAAEAAAMAAAAAAQAAAQAAAAABAAAFAAAAAAEAAAIAAAAAAQAAAAAAAAABAAABAAAAAAEAAAUAAAAAAQAAAgAAAAABAAAAAAAAAAEAAAEAAAAAAQAABQAAAAABAAACAAAAAAEAAAAAAAAAAQAAAQAAAAABAAAEAAAAAAIAAAEAAAAAAQAABQAAAAABAAACAAAAAAEAAAAAAAAAAQAAAQAAAAABAAADAAAAAAEAAAEAAAAAAQAABQAAAAABAAACAAAAAAEAAAAAAAAAAQAAAQAAAAABAAAFAAAAAAEAAAIAAAAAAQAAAAAAAAABAAABAAAAAAEAAAUAAAAAAQAAAgAAAAABAAAAAAAAAAEAAAEAAAAAAQAABQAAAAABAAACAAAAAAEAAAAAAAAAAQAAAQAAAAABAAAFAAAAAAEAAAIAAAAAAQAAAAAAAAABAAABAAAAAAEAAAUAAAAAAQAAAgAAAAABAAAAAAAAAAEAAAEAAAAAAQAABQAAAAABAAACAAAAAAEAAAAAAAAAAQAAAQAAAAABAAAFAAAAAAEAAAIAAAAAAQAAAAAAAAABAAABAAAAAAEAAAMAAAAAAQAAAQAAAAABAAAFAAAAAAEAAAIAAAAAAQAAAAAAAAABAAABAAAAAAEAAAUAAAAAAQAAAgAAAAABAAAAAAAAAAEAAAEAAAAAAQAAAgAAAAABAAADAAAAAAEAAAEAAAAAAQAABQAAAAABAAACAAAAAAEAAAAAAAAAAQAAAQAAAAABAAAFAAAAAAEAAAIAAAAAAQAAAAAAAAABAAABAAAAAAEAAAUAAAAAAQAAAgAAAAABAAAAAAAAAAEAAAEAAAAAAQAABQAAAAABAAACAAAAAAEAAAAAAAAAAQAAAQAAAAABAAAFAAAAAAEAAAIAAAAAAQAAAAAAAAABAAABAAAAAAEAAAUAAAAAAQAAAgAAAAABAAAAAAAAAAEAAAEAAAAAAQAABQAAAAABAAACAAAAAAEAAAAAAAAAAQAAAQAAAAABAAAFAAAAAAEAAAIAAAAAAQAAAAAAAAABAAABAAAAAAEAAAUAAAAAAQAAAgAAAAABAAAAAAAAAAEAAAEAAAAAAQAABQAAAAABAAACAAAAAAEAAAAAAAAAAQAAAQAAAAABAAAFAAAAAAEAAAIAAAAAAQAAAAAAAAABAAABAAAAAAEAAAUAAAAAAQAAAgAAAAABAAAAAAAAAAEAAAEAAAAAAQAABQAAAAABAAACAAAAAAEAAAAAAAAAAQAAAQAAAAABAAAFAAAAAAEAAAIAAAAAAQAAAAAAAAABAAABAAAAAAEAAAUAAAAAAQAAAgAAAAABAAAAAAAAAAEAAAEAAAAAAQAABQAAAAABAAACAAAAAAEAAAAAAAAAAQAAAQAAAAABAAAFAAAAAAEAAAIAAAAAAQAAAAAAAAABAAABAAAAAAEAAAQAAAAAAgAAAQAAAAABAAAFAAAAAAEAAAIAAAAAAQAAAAAAAAABAAABAAAAAAEAAAUAAAAAAQAAAgAAAAABAAAAAAAAAAEAAAEAAAAAAQAABQAAAAABAAACAAAAAAEAAAAAAAAAAQAAAQAAAAABAAAFAAAAAAEAAAIAAAAAAQAAAAAAAAABAAABAAAAAAEAAAUAAAAAAQAAAgAAAAABAAAAAAAAAAEAAAEAAAAAAQAABQAAAAABAAACAAAAAAEAAAAAAAAAAQAAAQAAAAABAAAFAAAAAAEAAAIAAAAAAQAAAAAAAAABAAABAAAAAAEAAAUAAAAAAQAAAgAAAAABAAAAAAAAAAEAAAEAAAAAAQAABQAAAAABAAACAAAAAAEAAAAAAAAAAQAAAQAAAAABAAAFAAAAAAEAAAIAAAAAAQAAAAAAAAABAAABAAAAAAEAAAUAAAAAAQAAAgAAAAABAAAAAAAAAAEAAAEAAAAAAQAABQAAAAABAAACAAAAAAEAAAAAAAAAAQAAAQAAAAABAAAFAAAAAAEAAAIAAAAAAQAAAAAAAAABAAABAAAAAAEAAAUAAAAAAQAAAgAAAAABAAAAAAAAAAEAAAEAAAAAAQAABQAAAAABAAACAAAAAAEAAAAAAAAAAQAAAQAAAAABAAAFAAAAAAEAAAIAAAAAAQAAAAAAAAABAAABAAAAAAEAAAUAAAAAAQAAAgAAAAABAAAAAAAAAAEAAAEAAAAAAQAABQAAAAABAAACAAAAAAEAAAAAAAAAAQAAAQAAAAABAAACAAAAAAEAAAUAAAAAAQAAAgAAAAABAAAAAAAAAAEAAAEAAAAAAgAAAgAAAAAcc3RzYwAAAAAAAAABAAAAAQAAAfUAAAABAAAH6HN0c3oAAAAAAAAAAAAAAfUAAAdcAAAAswAAADUAAAAgAAAANwAAAHcAAAAlAAAAKQAAABMAAABuAAAASQAAADQAAAA2AAAAxwAAAC4AAACjAAAAPQAAADYAAAAxAAAAbAAAAEUAAAAqAAAAIQAAAIcAAABBAAAARQAAACwAAACvAAAASgAAADAAAAA5AAAAZAAAAEAAAAAoAAAANwAAALAAAABCAAAAKwAAAC0AAABYAAAAbwAAADUAAAA3AAAAKQAAAHIAAAA+AAAAOwAAACgAAACwAAAAUgAAAC4AAAAyAAAAOwAAADkAAAAhAAAAHwAAAH8AAABCAAAAMQAAALoAAABHAAAALQAAACwAAACuAAAAUgAAAD4AAAAzAAAAbAAAAEkAAAAvAAAAOgAAAKkAAABFAAAANAAAAC8AAAC+AAAASgAAADkAAABBAAAAWwAAACgAAAAVAAAAOgAAAKoAAABAAAAAQQAAACEAAACgAAAAPAAAAC8AAAAxAAAASgAAAEoAAAA2AAAANQAAAJUAAABPAAAALgAAADMAAAC+AAAAUwAAADIAAAA0AAAAdAAAAEAAAAAjAAAARwAAAHIAAAA7AAAAMAAAAK4AAAA/AAAAKwAAADIAAACJAAAAJgAAADQAAAASAAAAfgAAADQAAAA0AAAAMgAAAJsAAAA2AAAALwAAADkAAACMAAAAewAAACcAAAA2AAAAFQAAAJ4AAABDAAAAOQAAADIAAAC4AAAAUAAAADcAAAArAAAAwAAAAEAAAABAAAAAiwAAAD0AAAAeAAAANgAAAI4AAABEAAAAMQAAAC0AAAB+AAAAPAAAACMAAAAcAAAATgAAAD8AAAAoAAAALgAAALEAAAA0AAAAIgAAAI8AAABVAAAANQAAACkAAABQAAAAPAAAACcAAAAiAAAAoQAAAEcAAAAjAAAAOQAAAJMAAAAvAAAAMwAAACMAAAB+AAAAQgAAADUAAAAqAAAAogAAAEkAAAAsAAAANgAAAEUAAABYAAAAMAAAACkAAACMAAAARgAAADUAAAAzAAAAlwAAAEoAAAAvAAAAKQAAACgAAAAoAAAAYQAAACoAAAAvAAAAnQAAAD8AAAArAAAAMQAAAHwAAAAnAAAAOQAAABIAAACfAAAANAAAACsAAAAxAAAAxgAAAEYAAAA6AAAAUAAAAEwAAAA+AAAAIgAAACgAAACAAAAATgAAADEAAAA2AAAAagAAAMEAAABKAAAAPwAAAD8AAABDAAAARQAAACQAAAAqAAAAjAAAAFsAAAA1AAAAMwAAAKUAAAA8AAAAIAAAAJMAAABCAAAAQgAAAF0AAAAzAAAAHAAAADoAAAA0AAACMAAAAHkAAAA2AAAALAAAADgAAAAxAAAAPwAAACAAAAAiAAAAcwAAADcAAAA5AAAAMgAAAMIAAABKAAAANQAAADcAAABaAAAARgAAADYAAAA4AAAAnwAAADkAAAA0AAAAKgAAAKMAAABCAAAAOgAAADQAAAA8AAAAQQAAAB8AAAA1AAAAYAAAAC8AAACKAAAASQAAACgAAAA2AAAAewAAACYAAABDAAAAEgAAAI8AAAA5AAAANgAAADkAAADhAAAARAAAADkAAADBAAAARwAAADsAAAAwAAAAJAAAADUAAACoAAAATQAAADcAAAA4AAAAtwAAAEEAAAA1AAAAOgAAAKcAAABGAAAAOQAAACMAAABuAAAARAAAADUAAAAyAAAAdAAAAEEAAAAtAAAAJgAAAJUAAABSAAAAOAAAADMAAABnAAAAMAAAAB8AAAArAAAAnQAAAFMAAAArAAAALgAAAJQAAAA3AAAAtAAAAEgAAAA6AAAAIAAAAFUAAAA7AAAAKQAAAD0AAABYAAAAgAAAADoAAACqAAAATQAAAEAAAABIAAAAWQAAAE0AAAAsAAAALAAAAHUAAAA2AAAAQgAAACAAAACvAAAASgAAACoAAABEAAAAdgAAADIAAAAVAAAAQwAAAKMAAAA9AAAAMAAAADUAAACcAAAAOgAAAEcAAAAyAAAAawAAACkAAAAcAAAAIgAAAKYAAABCAAAAQwAAADAAAADEAAAAQAAAADIAAAA3AAAAgQAAAEYAAAAkAAAAMwAAAHQAAAA0AAAALgAAACMAAACOAAAAQgAAACQAAABEAAAAUgAAAEMAAAAgAAAAIgAAAIcAAABAAAAAIQAAACwAAACEAAAAPQAAADIAAAAzAAAAYAAAAEAAAAAhAAAAMwAAAHAAAAAzAAAAKAAAAI4AAAA7AAAAJQAAADsAAACuAAAAJAAAADoAAAArAAAAeQAAADMAAAA1AAAAMwAAAL4AAAA+AAAAOwAAADYAAABaAAAAPwAAACEAAAAkAAAAhwAAAEMAAABHAAAALgAAALUAAABBAAAAMAAAADwAAABdAAAAKgAAABcAAABKAAAApQAAADAAAAAfAAAAOgAAAKwAAABKAAAANgAAADMAAABfAAAAOAAAADUAAAAyAAAAtAAAAEYAAAA0AAAALAAAAMcAAABNAAAARQAAADUAAABwAAAANQAAACEAAAA0AAAAjQAAADwAAAAxAAAANwAAAKgAAAA9AAAAPQAAADsAAABJAAAASwAAACUAAAAjAAAAUgAAAEYAAAA0AAAANwAAAFQAAABuAAAATAAAAC4AAAArAAAAPAAAAgAAAAAUc3RjbwAAAAAAAAABAAAAMAAAAGF1ZHRhAAAAWW1ldGEAAAAAAAAAIWhkbHIAAAAAAAAAAG1kaXJhcHBsAAAAAAAAAAAAAAAALGlsc3QAAAAkqXRvbwAAABxkYXRhAAAAAQAAAABMYXZmNTkuNC4xMDE=\" type=\"video/mp4\" />\n",
       "             </video>"
      ],
      "text/plain": [
       "<IPython.core.display.HTML object>"
      ]
     },
     "metadata": {},
     "output_type": "display_data"
    },
    {
     "data": {
      "text/plain": [
       "array([500.])"
      ]
     },
     "execution_count": 30,
     "metadata": {},
     "output_type": "execute_result"
    }
   ],
   "source": [
    "env = RecordVideo(gym.make(\"CartPole-v1\"), \"./video\")\n",
    "run_n_trained(q, bins, render_to_screen=True, n = 1, is_jupyter = True)"
   ]
  },
  {
   "cell_type": "markdown",
   "metadata": {},
   "source": [
    "##  References\n",
    "- SC3000 Lecture 5: Reinforcement Learning\n",
    "- Numpy Official Documentation\n",
    "- Gym Official Documentation"
   ]
  },
  {
   "cell_type": "code",
   "execution_count": null,
   "metadata": {},
   "outputs": [],
   "source": []
  }
 ],
 "metadata": {
  "colab": {
   "authorship_tag": "ABX9TyNczA+lJQOKjOo4XtzYjWQc",
   "include_colab_link": true,
   "provenance": []
  },
  "kernelspec": {
   "display_name": "Python 3 (ipykernel)",
   "language": "python",
   "name": "python3"
  },
  "language_info": {
   "codemirror_mode": {
    "name": "ipython",
    "version": 3
   },
   "file_extension": ".py",
   "mimetype": "text/x-python",
   "name": "python",
   "nbconvert_exporter": "python",
   "pygments_lexer": "ipython3",
   "version": "3.9.13"
  }
 },
 "nbformat": 4,
 "nbformat_minor": 1
}
