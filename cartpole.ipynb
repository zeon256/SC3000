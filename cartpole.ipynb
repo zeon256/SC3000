{
  "cells": [
    {
      "attachments": {},
      "cell_type": "markdown",
      "metadata": {
        "id": "ZauhjPSfX7pI"
      },
      "source": [
        "# SC3000 Artificial Intelligence, Lab Group Z59, AY22/23\n",
        "\n",
        "Team members\n",
        "- Budi Syahiddin (U2120429A)\n",
        "  - (development of q-learning, testing hyperparameters, formatting, testing)\n",
        "- Faiz Rosli (U2121876J)\n",
        "  - (development of q-learning, testing hyperparameters, formatting, testing)\n",
        "- Chin Tao (U2121927G)\n",
        "  - (development of q-learning, testing hyperparameters, formatting, testing)"
      ]
    },
    {
      "cell_type": "markdown",
      "metadata": {
        "id": "UBiYOoesYMvr"
      },
      "source": [
        "## Installing dependencies:"
      ]
    },
    {
      "cell_type": "code",
      "execution_count": 21,
      "metadata": {
        "colab": {
          "base_uri": "https://localhost:8080/"
        },
        "id": "PbgnVwZmX5uW",
        "outputId": "7dcfe5ac-b419-4d5d-8305-1ba3c1240df3"
      },
      "outputs": [
        {
          "name": "stderr",
          "output_type": "stream",
          "text": [
            "The system cannot find the path specified.\n",
            "The system cannot find the path specified.\n",
            "The system cannot find the path specified.\n",
            "The system cannot find the path specified.\n"
          ]
        },
        {
          "name": "stdout",
          "output_type": "stream",
          "text": [
            "Defaulting to user installation because normal site-packages is not writeable\n",
            "Requirement already satisfied: gym[classic_control] in c:\\programdata\\anaconda3\\lib\\site-packages (0.25.2)\n",
            "Requirement already satisfied: numpy>=1.18.0 in c:\\programdata\\anaconda3\\lib\\site-packages (from gym[classic_control]) (1.23.5)\n",
            "Requirement already satisfied: cloudpickle>=1.2.0 in c:\\programdata\\anaconda3\\lib\\site-packages (from gym[classic_control]) (2.0.0)\n",
            "Requirement already satisfied: gym-notices>=0.0.4 in c:\\programdata\\anaconda3\\lib\\site-packages (from gym[classic_control]) (0.0.8)\n",
            "Requirement already satisfied: pygame==2.1.0 in c:\\programdata\\anaconda3\\lib\\site-packages (from gym[classic_control]) (2.1.0)\n"
          ]
        },
        {
          "name": "stderr",
          "output_type": "stream",
          "text": [
            "The system cannot find the path specified.\n",
            "The system cannot find the path specified.\n"
          ]
        },
        {
          "name": "stdout",
          "output_type": "stream",
          "text": [
            "Defaulting to user installation because normal site-packages is not writeable\n",
            "Requirement already satisfied: setuptools in c:\\programdata\\anaconda3\\lib\\site-packages (65.6.3)\n",
            "Collecting setuptools\n",
            "  Using cached setuptools-67.6.0-py3-none-any.whl (1.1 MB)\n",
            "Installing collected packages: setuptools\n",
            "ERROR: pip's dependency resolver does not currently take into account all the packages that are installed. This behaviour is the source of the following dependency conflicts.\n",
            "conda-repo-cli 1.0.27 requires clyent==1.2.1, but you have clyent 1.2.2 which is incompatible.\n",
            "conda-repo-cli 1.0.27 requires nbformat==5.4.0, but you have nbformat 5.7.0 which is incompatible.\n",
            "Successfully installed setuptools-67.6.0\n"
          ]
        },
        {
          "name": "stderr",
          "output_type": "stream",
          "text": [
            "The system cannot find the path specified.\n"
          ]
        }
      ],
      "source": [
        "!apt-get install -y xvfb python-opengl > /dev/null 2>&1\n",
        "!pip install gym pyvirtualdisplay > /dev/null 2>&1\n",
        "!pip install gym pyvirtualdisplay > /dev/null 2>&1\n",
        "!apt-get install -y xvfb python-opengl ffmpeg > /dev/null 2>&1\n",
        "!pip install gym[classic_control]\n",
        "!apt-get update > /dev/null 2>&1\n",
        "!apt-get install cmake > /dev/null 2>&1\n",
        "!pip install --upgrade setuptools 2>&1\n",
        "!pip install ez_setup > /dev/null 2>&1"
      ]
    },
    {
      "cell_type": "markdown",
      "metadata": {
        "id": "RwKbYeTgbaTA"
      },
      "source": [
        "## Importing dependencies and define helper functions"
      ]
    },
    {
      "cell_type": "code",
      "execution_count": 22,
      "metadata": {
        "id": "j6KpgCLGYWmj"
      },
      "outputs": [],
      "source": [
        "import gym\n",
        "from gym import logger as gymlogger\n",
        "from gym.wrappers import RecordVideo\n",
        "gymlogger.set_level(40) #error only\n",
        "import numpy as np\n",
        "import random\n",
        "import matplotlib\n",
        "import matplotlib.pyplot as plt\n",
        "%matplotlib inline\n",
        "import math\n",
        "import glob\n",
        "import io\n",
        "import base64\n",
        "from IPython.display import HTML\n",
        "from IPython import display as ipythondisplay\n",
        "\n",
        "def show_video():\n",
        "  mp4list = glob.glob('video/*.mp4')\n",
        "  if len(mp4list) > 0:\n",
        "    mp4 = mp4list[0]\n",
        "    video = io.open(mp4, 'r+b').read()\n",
        "    encoded = base64.b64encode(video)\n",
        "    ipythondisplay.display(HTML(data='''<video alt=\"test\" autoplay \n",
        "                loop controls style=\"height: 400px;\">\n",
        "                <source src=\"data:video/mp4;base64,{0}\" type=\"video/mp4\" />\n",
        "             </video>'''.format(encoded.decode('ascii'))))\n",
        "  else: \n",
        "    print(\"Could not find video\")"
      ]
    },
    {
      "cell_type": "markdown",
      "metadata": {
        "id": "ehbqP9CXbmo7"
      },
      "source": [
        "## Tutorial: Loading CartPole environment"
      ]
    },
    {
      "cell_type": "code",
      "execution_count": 58,
      "metadata": {
        "id": "Go12dH4qbwBy"
      },
      "outputs": [],
      "source": [
        "env = gym.make(\"CartPole-v1\")"
      ]
    },
    {
      "cell_type": "markdown",
      "metadata": {
        "id": "9XZ9g3xrcAXE"
      },
      "source": [
        "We can check the action and observation space of this environment. Discrete(2) means that there are two valid discrete actions: 0 & 1."
      ]
    },
    {
      "cell_type": "code",
      "execution_count": 59,
      "metadata": {
        "colab": {
          "base_uri": "https://localhost:8080/"
        },
        "id": "ytxvVmLdcRyw",
        "outputId": "1ce07099-492b-4126-a792-8ff12d79c2db"
      },
      "outputs": [
        {
          "name": "stdout",
          "output_type": "stream",
          "text": [
            "Discrete(2)\n"
          ]
        }
      ],
      "source": [
        "print(env.action_space)"
      ]
    },
    {
      "cell_type": "markdown",
      "metadata": {
        "id": "pVXGWi_Ncfg-"
      },
      "source": [
        "The observation space is given below. The first two arrays define the min and max values of the 4 observed values, corresponding to cart position, velocity and pole angle, angular velocity."
      ]
    },
    {
      "cell_type": "code",
      "execution_count": 60,
      "metadata": {
        "colab": {
          "base_uri": "https://localhost:8080/"
        },
        "id": "DyqHr9I5cdkX",
        "outputId": "369a0733-e7c0-4bca-b427-5e1c603ff074"
      },
      "outputs": [
        {
          "name": "stdout",
          "output_type": "stream",
          "text": [
            "Box([-4.8000002e+00 -3.4028235e+38 -4.1887903e-01 -3.4028235e+38], [4.8000002e+00 3.4028235e+38 4.1887903e-01 3.4028235e+38], (4,), float32)\n"
          ]
        }
      ],
      "source": [
        "print(env.observation_space)"
      ]
    },
    {
      "cell_type": "markdown",
      "metadata": {
        "id": "HFOdaU2Gdyg0"
      },
      "source": [
        "We call each round of the pole-balancing game an \"episode\". At the start of each episode, make sure the environment is reset, which chooses a random initial state, e.g., pole slightly tilted to the right. This initialization can be achieved by the code below, which returns the observation of the initial state."
      ]
    },
    {
      "cell_type": "code",
      "execution_count": 61,
      "metadata": {
        "colab": {
          "base_uri": "https://localhost:8080/"
        },
        "id": "VMr6qAqxdOsm",
        "outputId": "0e35ee3b-15d0-4e1f-926c-194a5a43f830"
      },
      "outputs": [
        {
          "name": "stdout",
          "output_type": "stream",
          "text": [
            "Initial observations: [ 0.02595066 -0.02412082 -0.01844706 -0.01334705]\n"
          ]
        }
      ],
      "source": [
        "observation = env.reset()\n",
        "print(\"Initial observations:\", observation)"
      ]
    },
    {
      "cell_type": "markdown",
      "metadata": {
        "id": "qnG2QdfbeZrI"
      },
      "source": [
        "For the CartPole environment, there are two possible actions: 0 for pushing to the left and 1 for pushing to the right. For example, we can push the cart to the left using code below, which returns the new observation, the current reward, an indicator of whether the game ends, and some additional information (not used in this project). For CartPole, the game ends when the pole is significantly tilted or you manage to balance the pole for 500 steps. You get exactly 1 reward for each step before the game ends (i.e., max cumulative reward is 500)."
      ]
    },
    {
      "cell_type": "code",
      "execution_count": 62,
      "metadata": {
        "colab": {
          "base_uri": "https://localhost:8080/"
        },
        "id": "MmfMDvyYdWGk",
        "outputId": "fa12ffd8-6707-4cbc-fb86-aef8484d5d17"
      },
      "outputs": [
        {
          "name": "stdout",
          "output_type": "stream",
          "text": [
            "New observations after choosing action 0: [ 0.02546824 -0.21897343 -0.018714    0.273459  ]\n",
            "Reward for this step: 1.0\n",
            "Is this round done? False\n"
          ]
        }
      ],
      "source": [
        "observation, reward, done, info = env.step(0)\n",
        "print(\"New observations after choosing action 0:\", observation)\n",
        "print(\"Reward for this step:\", reward)\n",
        "print(\"Is this round done?\", done)"
      ]
    },
    {
      "cell_type": "markdown",
      "metadata": {
        "id": "tj0zCh59fhBb"
      },
      "source": [
        "Now we can play a full round of the game using a naive strategy (always choosing action 0), and show the cumulative reward in the round. Note that reward returned by env.step(*) corresponds to the reward for current step. So we have to accumulate the reward for each step. Clearly, the naive strategy performs poorly by surviving only a dozen of steps."
      ]
    },
    {
      "cell_type": "code",
      "execution_count": 63,
      "metadata": {
        "colab": {
          "base_uri": "https://localhost:8080/"
        },
        "id": "AVucQVRwf6Jm",
        "outputId": "72f0b7d5-7cb5-4e37-da3d-997c1bfb4641"
      },
      "outputs": [
        {
          "name": "stdout",
          "output_type": "stream",
          "text": [
            "Cumulative reward for this round: 10.0\n"
          ]
        }
      ],
      "source": [
        "observation = env.reset()\n",
        "cumulative_reward = 0\n",
        "done = False\n",
        "while not done:\n",
        "    observation, reward, done, info = env.step(0)\n",
        "    cumulative_reward += reward\n",
        "print(\"Cumulative reward for this round:\", cumulative_reward)"
      ]
    },
    {
      "cell_type": "markdown",
      "metadata": {
        "id": "2oIzK9SzhlWN"
      },
      "source": [
        "## Task 1: Development of an RL agent"
      ]
    },
    {
      "attachments": {},
      "cell_type": "markdown",
      "metadata": {
        "id": "Cc6_e5c_huiq"
      },
      "source": [
        "## Chosen Solution\n",
        "Q-Learning. Why? CartPole is a simple problem, does not have many states and there are only 2 possible actions! \n",
        "Also, Q-Learning is very easy to implement from first scratch and does not require a strong computer to train the agent.\n",
        "Computing Q-Table state-action pair can be described using the equation below\n",
        "\n",
        "$$\n",
        "Q(s, a) = Q(s, a) + \\alpha [R_{t+1} + \\gamma \\overbrace{\\max_{a \\in A(s_{t+1})}(Q(s_{t+1}, a))}^{\\text{take best future action}} - Q(s,a))]\n",
        "$$\n",
        "\n",
        "## Chosen Policy\n",
        "Epsilon Greedy. Why? Similar to the previous reason, it is simple to implement.\n",
        "\n",
        "## Discretization\n",
        "Q-Learning works well for environment with discrete states and actions.\n",
        "However, CartPole states are continuous! In order to deal with that,\n",
        "we will need to make the states discrete. The idea is to split the range\n",
        "of the states into \"bins\", i.e. intervals. For example, if range is $[1, 10]$, and we let $N = 10$, then each interval is $1$.\n",
        "\n",
        "## Decaying of $\\alpha$ and Exploration Rate\n",
        "Initially, we tested static $\\alpha$ and exploration rate. While it worked after many episodes, the agent took too long to get good. For our decaying function, we chose the following implementation below, with $\\text{let}\\;y = \\text{exploit episode} = 50$ and $\\text{let}\\;z = \\text{episode no}$\n",
        "\n",
        "$$\n",
        "\\text{Rate} = \\max(0.01, \\min(1, 1.0 - \\log(\\text{z} + 1 / y)))\n",
        "$$"
      ]
    },
    {
      "attachments": {},
      "cell_type": "markdown",
      "metadata": {},
      "source": [
        "Make bins, i.e make intervals between lower and upper then divide them into $N$"
      ]
    },
    {
      "cell_type": "code",
      "execution_count": 29,
      "metadata": {
        "id": "Hk-M4QEfh6l5"
      },
      "outputs": [],
      "source": [
        "def make_discrete(lower, upper, no_bins):\n",
        "    return np.linspace(lower, upper, no_bins)\n",
        "\n",
        "def generate_discrete_bins(no_bins=10, dims=4, no_actions=2):\n",
        "    shape = [no_bins] * dims\n",
        "    shape.append(no_actions)\n",
        "    return np.zeros(shape=shape)"
      ]
    },
    {
      "cell_type": "code",
      "execution_count": 30,
      "metadata": {},
      "outputs": [
        {
          "name": "stdout",
          "output_type": "stream",
          "text": [
            "(10, 10, 10, 10, 2)\n"
          ]
        }
      ],
      "source": [
        "print(generate_discrete_bins().shape)"
      ]
    },
    {
      "attachments": {},
      "cell_type": "markdown",
      "metadata": {},
      "source": [
        "Init Q-Table utility"
      ]
    },
    {
      "cell_type": "code",
      "execution_count": 64,
      "metadata": {},
      "outputs": [],
      "source": [
        "def generate_q_table(no_bins = 10):\n",
        "    no_dbins = no_bins\n",
        "    bins = np.array([\n",
        "        make_discrete(-4.8, 4.8, no_dbins),\n",
        "        make_discrete(-2.0, 2.0, no_dbins),  # original problem: -inf to inf\n",
        "        make_discrete(-0.3, 0.3, no_dbins),  # -0.3 to 0.3 is good\n",
        "        make_discrete(-2.0, 2.0, no_dbins),  # original problem: -inf to inf\n",
        "    ])\n",
        "\n",
        "    q = generate_discrete_bins(no_bins=no_dbins)\n",
        "\n",
        "    return bins, q"
      ]
    },
    {
      "attachments": {},
      "cell_type": "markdown",
      "metadata": {},
      "source": [
        "Utility function to map $\\mathbb R \\mapsto \\mathbb Z^+_0$"
      ]
    },
    {
      "cell_type": "code",
      "execution_count": 32,
      "metadata": {},
      "outputs": [],
      "source": [
        "def round_toNearestBin(observation, bins):\n",
        "    pos, vel, angle, angular_vel = observation\n",
        "    pos_bin = np.digitize(pos, bins[0])\n",
        "    pos_vel = np.digitize(vel, bins[1])\n",
        "    pos_angle = np.digitize(angle, bins[2])\n",
        "    pos_angular_vel = np.digitize(angular_vel, bins[3])\n",
        "\n",
        "    # its 1 based, need -1\n",
        "    return pos_bin - 1, pos_vel - 1, pos_angle - 1, pos_angular_vel - 1"
      ]
    },
    {
      "attachments": {},
      "cell_type": "markdown",
      "metadata": {},
      "source": [
        "Decaying variables"
      ]
    },
    {
      "cell_type": "code",
      "execution_count": 33,
      "metadata": {},
      "outputs": [],
      "source": [
        "def learning_rate(episode_no: int, min_rate = 0.01) -> float:\n",
        "    # need add 1 cos episode is 0 based\n",
        "    return max(min_rate, min(1.0, 1.0 - math.log10((episode_no + 1) / 50)))\n",
        "\n",
        "def discount_factor():\n",
        "    return 0.995\n",
        "\n",
        "def exploration_rate(episode_no: int, min_rate = 0.01) -> float:\n",
        "    # need add 1 cos episode is 0 based\n",
        "    return max(min_rate, min(1, 1.0 - math.log10((episode_no + 1) / 50)))\n"
      ]
    },
    {
      "attachments": {},
      "cell_type": "markdown",
      "metadata": {},
      "source": [
        "Epsilon Greedy Policy"
      ]
    },
    {
      "cell_type": "code",
      "execution_count": 34,
      "metadata": {},
      "outputs": [],
      "source": [
        "def policy(q, observation, episode_no):\n",
        "    action = np.argmax(q[observation])\n",
        "\n",
        "    if np.random.random() < exploration_rate(episode_no):\n",
        "        action = random.randint(0, 1)\n",
        "\n",
        "    return action"
      ]
    },
    {
      "attachments": {},
      "cell_type": "markdown",
      "metadata": {},
      "source": [
        "Function to train Q-table\n",
        "\n",
        "This function contains a few debugging print and ability to render the training if you want. The debugging only runs every 1000 episodes which keeps track the previous 1000 mean, the mean and number of episodes that have 500 score within that particular 1000 interval. You also have a choice to terminate when a certain percentage score is reached even if your episode is higher, "
      ]
    },
    {
      "cell_type": "code",
      "execution_count": 51,
      "metadata": {},
      "outputs": [],
      "source": [
        "def q_learning_trainer(episodes = 5000,\n",
        "                       no_bins = 10,\n",
        "                       run_limit=120000,\n",
        "                       terminate_on_percentage_score = (False, 0.5)):\n",
        "    print(f\"init trainer with, episode = {episodes}, no_bins = {no_bins}\")\n",
        "    \n",
        "    bins, qt = generate_q_table(no_bins=no_bins)\n",
        "\n",
        "    print(f\"Table shape: {qt.shape}\")\n",
        "\n",
        "    episode = 0\n",
        "    avg = 0\n",
        "    fullscore_episodes_in_interval = 0\n",
        "    interval_avg = 0\n",
        "\n",
        "    while episode < episodes and episode < run_limit:\n",
        "        observation_discrete = round_toNearestBin(env.reset(), bins)\n",
        "        done = False\n",
        "        reward_episode = 0\n",
        "\n",
        "        # keep stepping t+1 into the future until done\n",
        "        # which happens when it fails\n",
        "        while not done:                \n",
        "            action = policy(qt, observation_discrete, episode_no=episode)\n",
        "            new_obs, new_reward, done, _ = env.step(action)\n",
        "            future_obs = round_toNearestBin(new_obs, bins)\n",
        "\n",
        "            max_future = np.max(qt[future_obs])\n",
        "            q_current = qt[observation_discrete][action]\n",
        "\n",
        "            q_New = q_current + learning_rate(episode_no=episode) * \\\n",
        "                ((new_reward + discount_factor() * max_future) - q_current)\n",
        "\n",
        "            # update q\n",
        "            qt[observation_discrete][action] = q_New\n",
        "\n",
        "            # update previous obs to new one \n",
        "            observation_discrete = future_obs\n",
        "\n",
        "            # track episode rewards\n",
        "            reward_episode += new_reward\n",
        "            \n",
        "        avg = ((avg * (episode)) + reward_episode) / (episode + 1)\n",
        "\n",
        "        interval_avg += reward_episode\n",
        "\n",
        "        if reward_episode == 500.0:\n",
        "            fullscore_episodes_in_interval += 1\n",
        "        \n",
        "        if terminate_on_percentage_score[0] and fullscore_episodes_in_interval / 1000 >= terminate_on_percentage_score[1]:\n",
        "            print(\"Found 500/10000 full scores. Terminating training!\")\n",
        "            break\n",
        "\n",
        "        # print logs\n",
        "        # reset interval avg and fullscore in interval\n",
        "        if episode % 1000 == 0:\n",
        "            if episode != 0:\n",
        "                interval_avg /= 1000\n",
        "            print(f\"Evaluating episode: {episode}, episode_reward: {reward_episode}, avg_so_far: {avg}, interval_avg: {interval_avg}, explore_r: {exploration_rate(episode)}, 500_in_interval: {fullscore_episodes_in_interval}\")\n",
        "            fullscore_episodes_in_interval = 0\n",
        "            interval_avg = 0\n",
        "        \n",
        "        episode += 1\n",
        "  \n",
        "    return qt, bins"
      ]
    },
    {
      "attachments": {},
      "cell_type": "markdown",
      "metadata": {},
      "source": [
        "Q-learning Agent"
      ]
    },
    {
      "cell_type": "code",
      "execution_count": 36,
      "metadata": {},
      "outputs": [],
      "source": [
        "def q_learning_agent(qt, obs, bins):\n",
        "    return np.argmax(qt[round_toNearestBin(obs, bins)])"
      ]
    },
    {
      "cell_type": "markdown",
      "metadata": {
        "id": "RAi7KKwNiegR"
      },
      "source": [
        "For Task 1, we can show the observation and chosen action below:"
      ]
    },
    {
      "cell_type": "code",
      "execution_count": 52,
      "metadata": {
        "colab": {
          "base_uri": "https://localhost:8080/"
        },
        "id": "ae2ia-vUiNKJ",
        "outputId": "22c614ca-5ba0-43d3-d27a-d79073b5d04e"
      },
      "outputs": [
        {
          "name": "stdout",
          "output_type": "stream",
          "text": [
            "init trainer with, episode = 5000, no_bins = 10, render_to_screen = False\n",
            "Table shape: (10, 10, 10, 10, 2)\n",
            "Running on google colab, turning on custom renderer\n",
            "Evaluating episode: 0, episode_reward: 18.0, avg_so_far: 18.0, interval_avg: 18.0, explore_r: 1, 500_in_interval: 0\n",
            "Evaluating episode: 1000, episode_reward: 162.0, avg_so_far: 117.13486513486511, interval_avg: 117.234, explore_r: 0.01, 500_in_interval: 2\n",
            "Evaluating episode: 2000, episode_reward: 500.0, avg_so_far: 272.49575212393825, interval_avg: 428.012, explore_r: 0.01, 500_in_interval: 652\n",
            "Evaluating episode: 3000, episode_reward: 500.0, avg_so_far: 334.80373208930325, interval_avg: 459.482, explore_r: 0.01, 500_in_interval: 740\n",
            "Evaluating episode: 4000, episode_reward: 377.0, avg_so_far: 364.92701824543815, interval_avg: 455.327, explore_r: 0.01, 500_in_interval: 713\n",
            "Observation: [-0.04430542  0.02041289 -0.00098104  0.03356306]\n",
            "Chosen action: 1\n"
          ]
        }
      ],
      "source": [
        "q, bins = q_learning_trainer(episodes=5000, no_bins=10)\n",
        "\n",
        "observation = env.reset()\n",
        "action = q_learning_agent(q, observation, bins)\n",
        "print(\"Observation:\", observation)\n",
        "print(\"Chosen action:\", action)"
      ]
    },
    {
      "cell_type": "markdown",
      "metadata": {
        "id": "-XtIQ0Rti1gm"
      },
      "source": [
        "## Task 2: Demonstrate the effectiveness of the RL agent"
      ]
    },
    {
      "cell_type": "markdown",
      "metadata": {
        "id": "djBEShf0kGI4"
      },
      "source": [
        "For this task, use the agent developed in Task 1 to play the game for 100 episodes (refer to tutorial for how to play a round), record the cumulative reward for each round, and plot the reward for each round. A sample plotting code is given below. Note that you must include code to play for 100 episodes and use the code to obtain round_results for plotting. DO NOT record the round results in advance and paste the results to the notebook."
      ]
    },
    {
      "cell_type": "code",
      "execution_count": 56,
      "metadata": {},
      "outputs": [],
      "source": [
        "def run_n_trained(qt, bins, render_to_screen = False, is_google_colab = False, n = 1):\n",
        "    res = np.zeros(n)\n",
        "    for i in range(n):\n",
        "        observation = env.reset()\n",
        "        ep_reward = 0    \n",
        "        done = False\n",
        "        while not done:\n",
        "            if render_to_screen:\n",
        "                env.render()\n",
        "            #your agent goes here\n",
        "            action = q_learning_agent(qt, observation, bins) \n",
        "            observation, reward, done, _= env.step(action)\n",
        "            ep_reward += reward\n",
        "\n",
        "        res[i] = ep_reward\n",
        "\n",
        "    if render_to_screen:\n",
        "        env.close()\n",
        "        if is_google_colab:\n",
        "            show_video()\n",
        "    \n",
        "    return res"
      ]
    },
    {
      "cell_type": "code",
      "execution_count": 54,
      "metadata": {
        "colab": {
          "base_uri": "https://localhost:8080/",
          "height": 295
        },
        "id": "RZrCKywQi6CE",
        "outputId": "e304ecc5-14b6-4cf1-831b-dcb42eb46351"
      },
      "outputs": [
        {
          "data": {
            "image/png": "[encoded data removed]",
            "text/plain": [
              "<Figure size 640x480 with 1 Axes>"
            ]
          },
          "metadata": {},
          "output_type": "display_data"
        }
      ],
      "source": [
        "episode_results = run_n_trained(q, bins, n = 100)\n",
        "plt.plot(episode_results)\n",
        "plt.title('Cumulative reward for each episode')\n",
        "plt.ylabel('Cumulative reward')\n",
        "plt.xlabel('episode')\n",
        "plt.show()"
      ]
    },
    {
      "cell_type": "markdown",
      "metadata": {
        "id": "XndSYH7wlvn7"
      },
      "source": [
        "Print the average reward over the 100 episodes."
      ]
    },
    {
      "cell_type": "code",
      "execution_count": 55,
      "metadata": {
        "colab": {
          "base_uri": "https://localhost:8080/"
        },
        "id": "pOiOp9OYlo5Y",
        "outputId": "7a02ba7b-ff17-41f2-aa7f-eb50d49a83fd"
      },
      "outputs": [
        {
          "name": "stdout",
          "output_type": "stream",
          "text": [
            "Average cumulative reward: 456.68\n",
            "Is my agent good enough? True\n"
          ]
        }
      ],
      "source": [
        "print(\"Average cumulative reward:\", episode_results.mean())\n",
        "print(\"Is my agent good enough?\", episode_results.mean() > 195)"
      ]
    },
    {
      "cell_type": "markdown",
      "metadata": {
        "id": "Yg0DCT38lFA6"
      },
      "source": [
        "## Task 3: Render one episode played by the agent"
      ]
    },
    {
      "cell_type": "markdown",
      "metadata": {
        "id": "vx1awMr9lc_w"
      },
      "source": [
        "Plug your agent to the code below to obtain rendered result."
      ]
    },
    {
      "cell_type": "code",
      "execution_count": 57,
      "metadata": {
        "colab": {
          "base_uri": "https://localhost:8080/",
          "height": 421
        },
        "id": "LYyavfbIa47D",
        "outputId": "10c2f1e7-f3b9-4975-ed25-7c380966a56c"
      },
      "outputs": [
        {
          "data": {
            "text/html": [
              "<video alt=\"test\" autoplay \n",
              "                loop controls style=\"height: 400px;\">\n",
              "                <source src=\"data:video/mp4;base64,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\" type=\"video/mp4\" />\n",
              "             </video>"
            ],
            "text/plain": [
              "<IPython.core.display.HTML object>"
            ]
          },
          "metadata": {},
          "output_type": "display_data"
        },
        {
          "data": {
            "text/plain": [
              "array([500.])"
            ]
          },
          "execution_count": 57,
          "metadata": {},
          "output_type": "execute_result"
        }
      ],
      "source": [
        "env = RecordVideo(gym.make(\"CartPole-v1\"), \"./video\")\n",
        "run_n_trained(q, bins, render_to_screen=True, is_google_colab=True, n = 1)"
      ]
    },
    {
      "cell_type": "markdown",
      "metadata": {},
      "source": []
    }
  ],
  "metadata": {
    "colab": {
      "authorship_tag": "ABX9TyNczA+lJQOKjOo4XtzYjWQc",
      "include_colab_link": true,
      "provenance": []
    },
    "kernelspec": {
      "display_name": "Python 3",
      "name": "python3"
    },
    "language_info": {
      "codemirror_mode": {
        "name": "ipython",
        "version": 3
      },
      "file_extension": ".py",
      "mimetype": "text/x-python",
      "name": "python",
      "nbconvert_exporter": "python",
      "pygments_lexer": "ipython3",
      "version": "3.10.9"
    }
  },
  "nbformat": 4,
  "nbformat_minor": 0
}
