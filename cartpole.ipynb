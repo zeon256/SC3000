{
  "cells": [
    {
      "attachments": {},
      "cell_type": "markdown",
      "metadata": {
        "id": "ZauhjPSfX7pI"
      },
      "source": [
        "# SC3000 Artificial Intelligence, Lab Group Z59, AY22/23\n",
        "\n",
        "Team members\n",
        "- Budi Syahiddin (U2120429A)\n",
        "  - (development of q-learning, testing hyperparameters, formatting, testing)\n",
        "- Faiz Rosli (U2121876J)\n",
        "  - (development of q-learning, testing hyperparameters, formatting, testing)\n",
        "- Chin Tao (U2121927G)\n",
        "  - (development of q-learning, testing hyperparameters, formatting, testing)"
      ]
    },
    {
      "cell_type": "markdown",
      "metadata": {
        "id": "UBiYOoesYMvr"
      },
      "source": [
        "## Installing dependencies:"
      ]
    },
    {
      "cell_type": "code",
      "execution_count": 21,
      "metadata": {
        "colab": {
          "base_uri": "https://localhost:8080/"
        },
        "id": "PbgnVwZmX5uW",
        "outputId": "7dcfe5ac-b419-4d5d-8305-1ba3c1240df3"
      },
      "outputs": [
        {
          "name": "stderr",
          "output_type": "stream",
          "text": [
            "The system cannot find the path specified.\n",
            "The system cannot find the path specified.\n",
            "The system cannot find the path specified.\n",
            "The system cannot find the path specified.\n"
          ]
        },
        {
          "name": "stdout",
          "output_type": "stream",
          "text": [
            "Defaulting to user installation because normal site-packages is not writeable\n",
            "Requirement already satisfied: gym[classic_control] in c:\\programdata\\anaconda3\\lib\\site-packages (0.25.2)\n",
            "Requirement already satisfied: numpy>=1.18.0 in c:\\programdata\\anaconda3\\lib\\site-packages (from gym[classic_control]) (1.23.5)\n",
            "Requirement already satisfied: cloudpickle>=1.2.0 in c:\\programdata\\anaconda3\\lib\\site-packages (from gym[classic_control]) (2.0.0)\n",
            "Requirement already satisfied: gym-notices>=0.0.4 in c:\\programdata\\anaconda3\\lib\\site-packages (from gym[classic_control]) (0.0.8)\n",
            "Requirement already satisfied: pygame==2.1.0 in c:\\programdata\\anaconda3\\lib\\site-packages (from gym[classic_control]) (2.1.0)\n"
          ]
        },
        {
          "name": "stderr",
          "output_type": "stream",
          "text": [
            "The system cannot find the path specified.\n",
            "The system cannot find the path specified.\n"
          ]
        },
        {
          "name": "stdout",
          "output_type": "stream",
          "text": [
            "Defaulting to user installation because normal site-packages is not writeable\n",
            "Requirement already satisfied: setuptools in c:\\programdata\\anaconda3\\lib\\site-packages (65.6.3)\n",
            "Collecting setuptools\n",
            "  Using cached setuptools-67.6.0-py3-none-any.whl (1.1 MB)\n",
            "Installing collected packages: setuptools\n",
            "ERROR: pip's dependency resolver does not currently take into account all the packages that are installed. This behaviour is the source of the following dependency conflicts.\n",
            "conda-repo-cli 1.0.27 requires clyent==1.2.1, but you have clyent 1.2.2 which is incompatible.\n",
            "conda-repo-cli 1.0.27 requires nbformat==5.4.0, but you have nbformat 5.7.0 which is incompatible.\n",
            "Successfully installed setuptools-67.6.0\n"
          ]
        },
        {
          "name": "stderr",
          "output_type": "stream",
          "text": [
            "The system cannot find the path specified.\n"
          ]
        }
      ],
      "source": [
        "!apt-get install -y xvfb python-opengl > /dev/null 2>&1\n",
        "!pip install gym pyvirtualdisplay > /dev/null 2>&1\n",
        "!pip install gym pyvirtualdisplay > /dev/null 2>&1\n",
        "!apt-get install -y xvfb python-opengl ffmpeg > /dev/null 2>&1\n",
        "!pip install gym[classic_control]\n",
        "!apt-get update > /dev/null 2>&1\n",
        "!apt-get install cmake > /dev/null 2>&1\n",
        "!pip install --upgrade setuptools 2>&1\n",
        "!pip install ez_setup > /dev/null 2>&1"
      ]
    },
    {
      "cell_type": "markdown",
      "metadata": {
        "id": "RwKbYeTgbaTA"
      },
      "source": [
        "## Importing dependencies and define helper functions"
      ]
    },
    {
      "cell_type": "code",
      "execution_count": 22,
      "metadata": {
        "id": "j6KpgCLGYWmj"
      },
      "outputs": [],
      "source": [
        "import gym\n",
        "from gym import logger as gymlogger\n",
        "from gym.wrappers import RecordVideo\n",
        "gymlogger.set_level(40) #error only\n",
        "import numpy as np\n",
        "import random\n",
        "import matplotlib\n",
        "import matplotlib.pyplot as plt\n",
        "%matplotlib inline\n",
        "import math\n",
        "import glob\n",
        "import io\n",
        "import base64\n",
        "from IPython.display import HTML\n",
        "from IPython import display as ipythondisplay\n",
        "\n",
        "def show_video():\n",
        "  mp4list = glob.glob('video/*.mp4')\n",
        "  if len(mp4list) > 0:\n",
        "    mp4 = mp4list[0]\n",
        "    video = io.open(mp4, 'r+b').read()\n",
        "    encoded = base64.b64encode(video)\n",
        "    ipythondisplay.display(HTML(data='''<video alt=\"test\" autoplay \n",
        "                loop controls style=\"height: 400px;\">\n",
        "                <source src=\"data:video/mp4;base64,{0}\" type=\"video/mp4\" />\n",
        "             </video>'''.format(encoded.decode('ascii'))))\n",
        "  else: \n",
        "    print(\"Could not find video\")"
      ]
    },
    {
      "cell_type": "markdown",
      "metadata": {
        "id": "ehbqP9CXbmo7"
      },
      "source": [
        "## Tutorial: Loading CartPole environment"
      ]
    },
    {
      "cell_type": "code",
      "execution_count": 67,
      "metadata": {
        "id": "Go12dH4qbwBy"
      },
      "outputs": [],
      "source": [
        "env = gym.make(\"CartPole-v1\")"
      ]
    },
    {
      "cell_type": "markdown",
      "metadata": {
        "id": "9XZ9g3xrcAXE"
      },
      "source": [
        "We can check the action and observation space of this environment. Discrete(2) means that there are two valid discrete actions: 0 & 1."
      ]
    },
    {
      "cell_type": "code",
      "execution_count": 59,
      "metadata": {
        "colab": {
          "base_uri": "https://localhost:8080/"
        },
        "id": "ytxvVmLdcRyw",
        "outputId": "1ce07099-492b-4126-a792-8ff12d79c2db"
      },
      "outputs": [
        {
          "name": "stdout",
          "output_type": "stream",
          "text": [
            "Discrete(2)\n"
          ]
        }
      ],
      "source": [
        "print(env.action_space)"
      ]
    },
    {
      "cell_type": "markdown",
      "metadata": {
        "id": "pVXGWi_Ncfg-"
      },
      "source": [
        "The observation space is given below. The first two arrays define the min and max values of the 4 observed values, corresponding to cart position, velocity and pole angle, angular velocity."
      ]
    },
    {
      "cell_type": "code",
      "execution_count": 60,
      "metadata": {
        "colab": {
          "base_uri": "https://localhost:8080/"
        },
        "id": "DyqHr9I5cdkX",
        "outputId": "369a0733-e7c0-4bca-b427-5e1c603ff074"
      },
      "outputs": [
        {
          "name": "stdout",
          "output_type": "stream",
          "text": [
            "Box([-4.8000002e+00 -3.4028235e+38 -4.1887903e-01 -3.4028235e+38], [4.8000002e+00 3.4028235e+38 4.1887903e-01 3.4028235e+38], (4,), float32)\n"
          ]
        }
      ],
      "source": [
        "print(env.observation_space)"
      ]
    },
    {
      "cell_type": "markdown",
      "metadata": {
        "id": "HFOdaU2Gdyg0"
      },
      "source": [
        "We call each round of the pole-balancing game an \"episode\". At the start of each episode, make sure the environment is reset, which chooses a random initial state, e.g., pole slightly tilted to the right. This initialization can be achieved by the code below, which returns the observation of the initial state."
      ]
    },
    {
      "cell_type": "code",
      "execution_count": 61,
      "metadata": {
        "colab": {
          "base_uri": "https://localhost:8080/"
        },
        "id": "VMr6qAqxdOsm",
        "outputId": "0e35ee3b-15d0-4e1f-926c-194a5a43f830"
      },
      "outputs": [
        {
          "name": "stdout",
          "output_type": "stream",
          "text": [
            "Initial observations: [ 0.02595066 -0.02412082 -0.01844706 -0.01334705]\n"
          ]
        }
      ],
      "source": [
        "observation = env.reset()\n",
        "print(\"Initial observations:\", observation)"
      ]
    },
    {
      "cell_type": "markdown",
      "metadata": {
        "id": "qnG2QdfbeZrI"
      },
      "source": [
        "For the CartPole environment, there are two possible actions: 0 for pushing to the left and 1 for pushing to the right. For example, we can push the cart to the left using code below, which returns the new observation, the current reward, an indicator of whether the game ends, and some additional information (not used in this project). For CartPole, the game ends when the pole is significantly tilted or you manage to balance the pole for 500 steps. You get exactly 1 reward for each step before the game ends (i.e., max cumulative reward is 500)."
      ]
    },
    {
      "cell_type": "code",
      "execution_count": 62,
      "metadata": {
        "colab": {
          "base_uri": "https://localhost:8080/"
        },
        "id": "MmfMDvyYdWGk",
        "outputId": "fa12ffd8-6707-4cbc-fb86-aef8484d5d17"
      },
      "outputs": [
        {
          "name": "stdout",
          "output_type": "stream",
          "text": [
            "New observations after choosing action 0: [ 0.02546824 -0.21897343 -0.018714    0.273459  ]\n",
            "Reward for this step: 1.0\n",
            "Is this round done? False\n"
          ]
        }
      ],
      "source": [
        "observation, reward, done, info = env.step(0)\n",
        "print(\"New observations after choosing action 0:\", observation)\n",
        "print(\"Reward for this step:\", reward)\n",
        "print(\"Is this round done?\", done)"
      ]
    },
    {
      "cell_type": "markdown",
      "metadata": {
        "id": "tj0zCh59fhBb"
      },
      "source": [
        "Now we can play a full round of the game using a naive strategy (always choosing action 0), and show the cumulative reward in the round. Note that reward returned by env.step(*) corresponds to the reward for current step. So we have to accumulate the reward for each step. Clearly, the naive strategy performs poorly by surviving only a dozen of steps."
      ]
    },
    {
      "cell_type": "code",
      "execution_count": 63,
      "metadata": {
        "colab": {
          "base_uri": "https://localhost:8080/"
        },
        "id": "AVucQVRwf6Jm",
        "outputId": "72f0b7d5-7cb5-4e37-da3d-997c1bfb4641"
      },
      "outputs": [
        {
          "name": "stdout",
          "output_type": "stream",
          "text": [
            "Cumulative reward for this round: 10.0\n"
          ]
        }
      ],
      "source": [
        "observation = env.reset()\n",
        "cumulative_reward = 0\n",
        "done = False\n",
        "while not done:\n",
        "    observation, reward, done, info = env.step(0)\n",
        "    cumulative_reward += reward\n",
        "print(\"Cumulative reward for this round:\", cumulative_reward)"
      ]
    },
    {
      "cell_type": "markdown",
      "metadata": {
        "id": "2oIzK9SzhlWN"
      },
      "source": [
        "## Task 1: Development of an RL agent"
      ]
    },
    {
      "attachments": {},
      "cell_type": "markdown",
      "metadata": {
        "id": "Cc6_e5c_huiq"
      },
      "source": [
        "## Chosen Solution\n",
        "Q-Learning. Why? CartPole is a simple problem, does not have many states and there are only 2 possible actions! \n",
        "Also, Q-Learning is very easy to implement from first scratch and does not require a strong computer to train the agent.\n",
        "Computing Q-Table state-action pair can be described using the equation below\n",
        "\n",
        "$$\n",
        "Q(s, a) = Q(s, a) + \\alpha [R_{t+1} + \\gamma \\overbrace{\\max_{a \\in A(s_{t+1})}(Q(s_{t+1}, a))}^{\\text{take best future action}} - Q(s,a))]\n",
        "$$\n",
        "\n",
        "## Chosen Policy\n",
        "Epsilon Greedy. Why? Similar to the previous reason, it is simple to implement.\n",
        "\n",
        "## Discretization\n",
        "Q-Learning works well for environment with discrete states and actions.\n",
        "However, CartPole states are continuous! In order to deal with that,\n",
        "we will need to make the states discrete. The idea is to split the range\n",
        "of the states into \"bins\", i.e. intervals. For example, if range is $[1, 10]$, and we let $N = 10$, then each interval is $1$.\n",
        "\n",
        "## Decaying of $\\alpha$ and Exploration Rate\n",
        "Initially, we tested static $\\alpha$ and exploration rate. While it worked after many episodes, the agent took too long to get good. For our decaying function, we chose the following implementation below, with $\\text{let}\\;y = \\text{exploit episode} = 50$ and $\\text{let}\\;z = \\text{episode no}$\n",
        "\n",
        "$$\n",
        "\\text{Rate} = \\max(0.01, \\min(1, 1.0 - \\log(\\text{z} + 1 / y)))\n",
        "$$"
      ]
    },
    {
      "attachments": {},
      "cell_type": "markdown",
      "metadata": {},
      "source": [
        "Make bins, i.e make intervals between lower and upper then divide them into $N$"
      ]
    },
    {
      "cell_type": "code",
      "execution_count": 29,
      "metadata": {
        "id": "Hk-M4QEfh6l5"
      },
      "outputs": [],
      "source": [
        "def make_discrete(lower, upper, no_bins):\n",
        "    return np.linspace(lower, upper, no_bins)\n",
        "\n",
        "def generate_discrete_bins(no_bins=10, dims=4, no_actions=2):\n",
        "    shape = [no_bins] * dims\n",
        "    shape.append(no_actions)\n",
        "    return np.zeros(shape=shape)"
      ]
    },
    {
      "cell_type": "code",
      "execution_count": 30,
      "metadata": {},
      "outputs": [
        {
          "name": "stdout",
          "output_type": "stream",
          "text": [
            "(10, 10, 10, 10, 2)\n"
          ]
        }
      ],
      "source": [
        "print(generate_discrete_bins().shape)"
      ]
    },
    {
      "attachments": {},
      "cell_type": "markdown",
      "metadata": {},
      "source": [
        "Init Q-Table utility"
      ]
    },
    {
      "cell_type": "code",
      "execution_count": 64,
      "metadata": {},
      "outputs": [],
      "source": [
        "def generate_q_table(no_bins = 10):\n",
        "    no_dbins = no_bins\n",
        "    bins = np.array([\n",
        "        make_discrete(-4.8, 4.8, no_dbins),\n",
        "        make_discrete(-2.0, 2.0, no_dbins),  # original problem: -inf to inf\n",
        "        make_discrete(-0.3, 0.3, no_dbins),  # -0.3 to 0.3 is good\n",
        "        make_discrete(-2.0, 2.0, no_dbins),  # original problem: -inf to inf\n",
        "    ])\n",
        "\n",
        "    q = generate_discrete_bins(no_bins=no_dbins)\n",
        "\n",
        "    return bins, q"
      ]
    },
    {
      "attachments": {},
      "cell_type": "markdown",
      "metadata": {},
      "source": [
        "Utility function to map $\\mathbb R \\mapsto \\mathbb Z^+_0$"
      ]
    },
    {
      "cell_type": "code",
      "execution_count": 32,
      "metadata": {},
      "outputs": [],
      "source": [
        "def round_toNearestBin(observation, bins):\n",
        "    pos, vel, angle, angular_vel = observation\n",
        "    pos_bin = np.digitize(pos, bins[0])\n",
        "    pos_vel = np.digitize(vel, bins[1])\n",
        "    pos_angle = np.digitize(angle, bins[2])\n",
        "    pos_angular_vel = np.digitize(angular_vel, bins[3])\n",
        "\n",
        "    # its 1 based, need -1\n",
        "    return pos_bin - 1, pos_vel - 1, pos_angle - 1, pos_angular_vel - 1"
      ]
    },
    {
      "attachments": {},
      "cell_type": "markdown",
      "metadata": {},
      "source": [
        "Decaying variables"
      ]
    },
    {
      "cell_type": "code",
      "execution_count": 33,
      "metadata": {},
      "outputs": [],
      "source": [
        "def learning_rate(episode_no: int, min_rate = 0.01) -> float:\n",
        "    # need add 1 cos episode is 0 based\n",
        "    return max(min_rate, min(1.0, 1.0 - math.log10((episode_no + 1) / 50)))\n",
        "\n",
        "def discount_factor():\n",
        "    return 0.995\n",
        "\n",
        "def exploration_rate(episode_no: int, min_rate = 0.01) -> float:\n",
        "    # need add 1 cos episode is 0 based\n",
        "    return max(min_rate, min(1, 1.0 - math.log10((episode_no + 1) / 50)))\n"
      ]
    },
    {
      "attachments": {},
      "cell_type": "markdown",
      "metadata": {},
      "source": [
        "Epsilon Greedy Policy"
      ]
    },
    {
      "cell_type": "code",
      "execution_count": 34,
      "metadata": {},
      "outputs": [],
      "source": [
        "def policy(q, observation, episode_no):\n",
        "    action = np.argmax(q[observation])\n",
        "\n",
        "    if np.random.random() < exploration_rate(episode_no):\n",
        "        action = random.randint(0, 1)\n",
        "\n",
        "    return action"
      ]
    },
    {
      "attachments": {},
      "cell_type": "markdown",
      "metadata": {},
      "source": [
        "Function to train Q-table\n",
        "\n",
        "This function contains a few debugging print and ability to render the training if you want. The debugging only runs every 1000 episodes which keeps track the previous 1000 mean, the mean and number of episodes that have 500 score within that particular 1000 interval. You also have a choice to terminate when a certain percentage score is reached even if your episode is higher, "
      ]
    },
    {
      "cell_type": "code",
      "execution_count": 51,
      "metadata": {},
      "outputs": [],
      "source": [
        "def q_learning_trainer(episodes = 5000,\n",
        "                       no_bins = 10,\n",
        "                       run_limit=120000,\n",
        "                       terminate_on_percentage_score = (False, 0.5)):\n",
        "    print(f\"init trainer with, episode = {episodes}, no_bins = {no_bins}\")\n",
        "    \n",
        "    bins, qt = generate_q_table(no_bins=no_bins)\n",
        "\n",
        "    print(f\"Table shape: {qt.shape}\")\n",
        "\n",
        "    episode = 0\n",
        "    avg = 0\n",
        "    fullscore_episodes_in_interval = 0\n",
        "    interval_avg = 0\n",
        "\n",
        "    while episode < episodes and episode < run_limit:\n",
        "        observation_discrete = round_toNearestBin(env.reset(), bins)\n",
        "        done = False\n",
        "        reward_episode = 0\n",
        "\n",
        "        # keep stepping t+1 into the future until done\n",
        "        # which happens when it fails\n",
        "        while not done:                \n",
        "            action = policy(qt, observation_discrete, episode_no=episode)\n",
        "            new_obs, new_reward, done, _ = env.step(action)\n",
        "            future_obs = round_toNearestBin(new_obs, bins)\n",
        "\n",
        "            max_future = np.max(qt[future_obs])\n",
        "            q_current = qt[observation_discrete][action]\n",
        "\n",
        "            q_New = q_current + learning_rate(episode_no=episode) * \\\n",
        "                ((new_reward + discount_factor() * max_future) - q_current)\n",
        "\n",
        "            # update q\n",
        "            qt[observation_discrete][action] = q_New\n",
        "\n",
        "            # update previous obs to new one \n",
        "            observation_discrete = future_obs\n",
        "\n",
        "            # track episode rewards\n",
        "            reward_episode += new_reward\n",
        "            \n",
        "        avg = ((avg * (episode)) + reward_episode) / (episode + 1)\n",
        "\n",
        "        interval_avg += reward_episode\n",
        "\n",
        "        if reward_episode == 500.0:\n",
        "            fullscore_episodes_in_interval += 1\n",
        "        \n",
        "        if terminate_on_percentage_score[0] and fullscore_episodes_in_interval / 1000 >= terminate_on_percentage_score[1]:\n",
        "            print(\"Found 500/10000 full scores. Terminating training!\")\n",
        "            break\n",
        "\n",
        "        # print logs\n",
        "        # reset interval avg and fullscore in interval\n",
        "        if episode % 1000 == 0:\n",
        "            if episode != 0:\n",
        "                interval_avg /= 1000\n",
        "            print(f\"Evaluating episode: {episode}, episode_reward: {reward_episode}, avg_so_far: {avg}, interval_avg: {interval_avg}, explore_r: {exploration_rate(episode)}, 500_in_interval: {fullscore_episodes_in_interval}\")\n",
        "            fullscore_episodes_in_interval = 0\n",
        "            interval_avg = 0\n",
        "        \n",
        "        episode += 1\n",
        "  \n",
        "    return qt, bins"
      ]
    },
    {
      "attachments": {},
      "cell_type": "markdown",
      "metadata": {},
      "source": [
        "Q-learning Agent"
      ]
    },
    {
      "cell_type": "code",
      "execution_count": 36,
      "metadata": {},
      "outputs": [],
      "source": [
        "def q_learning_agent(qt, obs, bins):\n",
        "    return np.argmax(qt[round_toNearestBin(obs, bins)])"
      ]
    },
    {
      "cell_type": "markdown",
      "metadata": {
        "id": "RAi7KKwNiegR"
      },
      "source": [
        "For Task 1, we can show the observation and chosen action below:"
      ]
    },
    {
      "cell_type": "code",
      "execution_count": 52,
      "metadata": {
        "colab": {
          "base_uri": "https://localhost:8080/"
        },
        "id": "ae2ia-vUiNKJ",
        "outputId": "22c614ca-5ba0-43d3-d27a-d79073b5d04e"
      },
      "outputs": [
        {
          "name": "stdout",
          "output_type": "stream",
          "text": [
            "init trainer with, episode = 5000, no_bins = 10, render_to_screen = False\n",
            "Table shape: (10, 10, 10, 10, 2)\n",
            "Running on google colab, turning on custom renderer\n",
            "Evaluating episode: 0, episode_reward: 18.0, avg_so_far: 18.0, interval_avg: 18.0, explore_r: 1, 500_in_interval: 0\n",
            "Evaluating episode: 1000, episode_reward: 162.0, avg_so_far: 117.13486513486511, interval_avg: 117.234, explore_r: 0.01, 500_in_interval: 2\n",
            "Evaluating episode: 2000, episode_reward: 500.0, avg_so_far: 272.49575212393825, interval_avg: 428.012, explore_r: 0.01, 500_in_interval: 652\n",
            "Evaluating episode: 3000, episode_reward: 500.0, avg_so_far: 334.80373208930325, interval_avg: 459.482, explore_r: 0.01, 500_in_interval: 740\n",
            "Evaluating episode: 4000, episode_reward: 377.0, avg_so_far: 364.92701824543815, interval_avg: 455.327, explore_r: 0.01, 500_in_interval: 713\n",
            "Observation: [-0.04430542  0.02041289 -0.00098104  0.03356306]\n",
            "Chosen action: 1\n"
          ]
        }
      ],
      "source": [
        "q, bins = q_learning_trainer(episodes=5000, no_bins=10)\n",
        "\n",
        "observation = env.reset()\n",
        "action = q_learning_agent(q, observation, bins)\n",
        "print(\"Observation:\", observation)\n",
        "print(\"Chosen action:\", action)"
      ]
    },
    {
      "cell_type": "markdown",
      "metadata": {
        "id": "-XtIQ0Rti1gm"
      },
      "source": [
        "## Task 2: Demonstrate the effectiveness of the RL agent"
      ]
    },
    {
      "cell_type": "markdown",
      "metadata": {
        "id": "djBEShf0kGI4"
      },
      "source": [
        "For this task, use the agent developed in Task 1 to play the game for 100 episodes (refer to tutorial for how to play a round), record the cumulative reward for each round, and plot the reward for each round. A sample plotting code is given below. Note that you must include code to play for 100 episodes and use the code to obtain round_results for plotting. DO NOT record the round results in advance and paste the results to the notebook."
      ]
    },
    {
      "cell_type": "code",
      "execution_count": 56,
      "metadata": {},
      "outputs": [],
      "source": [
        "def run_n_trained(qt, bins, render_to_screen = False, n = 1):\n",
        "    res = np.zeros(n)\n",
        "    for i in range(n):\n",
        "        observation = env.reset()\n",
        "        ep_reward = 0    \n",
        "        done = False\n",
        "        while not done:\n",
        "            if render_to_screen:\n",
        "                env.render()\n",
        "            #your agent goes here\n",
        "            action = q_learning_agent(qt, observation, bins) \n",
        "            observation, reward, done, _= env.step(action)\n",
        "            ep_reward += reward\n",
        "\n",
        "        res[i] = ep_reward\n",
        "\n",
        "    if render_to_screen:\n",
        "        env.close()\n",
        "    \n",
        "    return res"
      ]
    },
    {
      "cell_type": "code",
      "execution_count": 68,
      "metadata": {
        "colab": {
          "base_uri": "https://localhost:8080/",
          "height": 295
        },
        "id": "RZrCKywQi6CE",
        "outputId": "e304ecc5-14b6-4cf1-831b-dcb42eb46351"
      },
      "outputs": [
        {
          "data": {
            "image/png": "[encoded data removed]",
            "text/plain": [
              "<Figure size 640x480 with 1 Axes>"
            ]
          },
          "metadata": {},
          "output_type": "display_data"
        }
      ],
      "source": [
        "episode_results = run_n_trained(q, bins, n = 100)\n",
        "plt.plot(episode_results)\n",
        "plt.title('Cumulative reward for each episode')\n",
        "plt.ylabel('Cumulative reward')\n",
        "plt.xlabel('episode')\n",
        "plt.show()"
      ]
    },
    {
      "cell_type": "markdown",
      "metadata": {
        "id": "XndSYH7wlvn7"
      },
      "source": [
        "Print the average reward over the 100 episodes."
      ]
    },
    {
      "cell_type": "code",
      "execution_count": 69,
      "metadata": {
        "colab": {
          "base_uri": "https://localhost:8080/"
        },
        "id": "pOiOp9OYlo5Y",
        "outputId": "7a02ba7b-ff17-41f2-aa7f-eb50d49a83fd"
      },
      "outputs": [
        {
          "name": "stdout",
          "output_type": "stream",
          "text": [
            "Average cumulative reward: 465.72\n",
            "Is my agent good enough? True\n"
          ]
        }
      ],
      "source": [
        "print(\"Average cumulative reward:\", episode_results.mean())\n",
        "print(\"Is my agent good enough?\", episode_results.mean() > 195)"
      ]
    },
    {
      "cell_type": "markdown",
      "metadata": {
        "id": "Yg0DCT38lFA6"
      },
      "source": [
        "## Task 3: Render one episode played by the agent"
      ]
    },
    {
      "cell_type": "markdown",
      "metadata": {
        "id": "vx1awMr9lc_w"
      },
      "source": [
        "Plug your agent to the code below to obtain rendered result."
      ]
    },
    {
      "cell_type": "code",
      "execution_count": 70,
      "metadata": {
        "colab": {
          "base_uri": "https://localhost:8080/",
          "height": 421
        },
        "id": "LYyavfbIa47D",
        "outputId": "10c2f1e7-f3b9-4975-ed25-7c380966a56c"
      },
      "outputs": [
        {
          "data": {
            "text/html": [
              "<video alt=\"test\" autoplay \n",
              "                loop controls style=\"height: 400px;\">\n",
              "                <source src=\"data:video/mp4;base64,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\" type=\"video/mp4\" />\n",
              "             </video>"
            ],
            "text/plain": [
              "<IPython.core.display.HTML object>"
            ]
          },
          "metadata": {},
          "output_type": "display_data"
        },
        {
          "data": {
            "text/plain": [
              "array([500.])"
            ]
          },
          "execution_count": 70,
          "metadata": {},
          "output_type": "execute_result"
        }
      ],
      "source": [
        "env = RecordVideo(gym.make(\"CartPole-v1\"), \"./video\")\n",
        "run_n_trained(q, bins, render_to_screen=True, is_google_colab=True, n = 1)"
      ]
    },
    {
      "cell_type": "markdown",
      "metadata": {},
      "source": []
    }
  ],
  "metadata": {
    "colab": {
      "authorship_tag": "ABX9TyNczA+lJQOKjOo4XtzYjWQc",
      "include_colab_link": true,
      "provenance": []
    },
    "kernelspec": {
      "display_name": "Python 3",
      "name": "python3"
    },
    "language_info": {
      "codemirror_mode": {
        "name": "ipython",
        "version": 3
      },
      "file_extension": ".py",
      "mimetype": "text/x-python",
      "name": "python",
      "nbconvert_exporter": "python",
      "pygments_lexer": "ipython3",
      "version": "3.10.9"
    }
  },
  "nbformat": 4,
  "nbformat_minor": 0
}
